{
 "cells": [
  {
   "cell_type": "code",
   "execution_count": 1,
   "id": "initial_id",
   "metadata": {
    "collapsed": true,
    "ExecuteTime": {
     "end_time": "2023-07-31T05:14:39.610521400Z",
     "start_time": "2023-07-31T05:14:39.037379400Z"
    }
   },
   "outputs": [],
   "source": [
    "import pandas as pd"
   ]
  },
  {
   "cell_type": "markdown",
   "source": [
    "Pergunta?\n",
    "\n",
    "Será que é possível indicar cervejas que o usuário vai gostar sabendo as que ele ja experimentou?"
   ],
   "metadata": {
    "collapsed": false
   },
   "id": "5530497b3ac340b9"
  },
  {
   "cell_type": "code",
   "execution_count": 2,
   "outputs": [],
   "source": [
    "df = pd.read_csv('beer_review.csv')"
   ],
   "metadata": {
    "collapsed": false,
    "ExecuteTime": {
     "end_time": "2023-07-31T05:14:53.237363100Z",
     "start_time": "2023-07-31T05:14:53.192263100Z"
    }
   },
   "id": "91917450155b0f5f"
  },
  {
   "cell_type": "code",
   "execution_count": 3,
   "outputs": [
    {
     "data": {
      "text/plain": "                                             Name  key          Style  \\\n0                                           Amber  251        Altbier   \n1                                      Double Bag  252        Altbier   \n2                                  Long Trail Ale  253        Altbier   \n3                                    Doppelsticke  254        Altbier   \n4                                          Scurry  255        Altbier   \n...                                           ...  ...            ...   \n5553                          Red Nose Winter Ale  696  Winter Warmer   \n5554  Our Special Ale 2019 (Anchor Christmas Ale)  697  Winter Warmer   \n5555                         Fish Tale Winterfish  698  Winter Warmer   \n5556    He'Brew Hanukkah, Chanukah: Pass The Beer  699  Winter Warmer   \n5557     Frosted Frog Christmas Ale - Barrel-Aged  700  Winter Warmer   \n\n      Style Key                                  Brewery  \\\n0             8                      Alaskan Brewing Co.   \n1             8                   Long Trail Brewing Co.   \n2             8                   Long Trail Brewing Co.   \n3             8           Uerige Obergärige Hausbrauerei   \n4             8                        Off Color Brewing   \n...         ...                                      ...   \n5553         17         Natty Greene's Pub & Brewing Co.   \n5554         17                   Anchor Brewing Company   \n5555         17  Fish Brewing Company / Fishbowl Brewpub   \n5556         17                  Shmaltz Brewing Company   \n5557         17                     Hoppin' Frog Brewery   \n\n                                            Description  ABV  Ave Rating  \\\n0     Notes:Richly malty and long on the palate, wit...  5.3        3.65   \n1     Notes:This malty, full-bodied double alt is al...  7.2        3.90   \n2     Notes:Long Trail Ale is a full-bodied amber al...  5.0        3.58   \n3                                                Notes:  8.5        4.15   \n4     Notes:Just cause it's dark and German doesn't ...  5.3        3.67   \n...                                                 ...  ...         ...   \n5553                                             Notes:  6.8        3.59   \n5554  Notes:This is the forty-fifth annual Our Speci...  6.9        3.79   \n5555                                             Notes:  7.5        3.76   \n5556  Notes:Chanukah Beer pours a rich crystal clear...  8.0        3.61   \n5557  Notes:The essence of Christmas is captured in ...  8.6        3.89   \n\n      Min IBU  Max IBU  ...  Body  Alcohol  Bitter  Sweet  Sour  Salty  \\\n0          25       50  ...    32        9      47     74    33      0   \n1          25       50  ...    57       18      33     55    16      0   \n2          25       50  ...    37        6      42     43    11      0   \n3          25       50  ...    55       31      47    101    18      1   \n4          25       50  ...    69       10      63    120    14      0   \n...       ...      ...  ...   ...      ...     ...    ...   ...    ...   \n5553       35       50  ...    44       24      19     52    21      0   \n5554       35       50  ...    73        9      58     87    23      0   \n5555       35       50  ...    36       50      70     72    59      0   \n5556       35       50  ...    64       30      57     78    15      1   \n5557       35       50  ...    50       49      13     71    17      0   \n\n      Fruits  Hoppy  Spices  Malty  \n0         33     57       8    111  \n1         24     35      12     84  \n2         10     54       4     62  \n3         49     40      16    119  \n4         19     36      15    218  \n...      ...    ...     ...    ...  \n5553      26     21      96     77  \n5554      48     91      44    104  \n5555      81    110      18     73  \n5556      28     57      23    129  \n5557      33     16     148     69  \n\n[5558 rows x 21 columns]",
      "text/html": "<div>\n<style scoped>\n    .dataframe tbody tr th:only-of-type {\n        vertical-align: middle;\n    }\n\n    .dataframe tbody tr th {\n        vertical-align: top;\n    }\n\n    .dataframe thead th {\n        text-align: right;\n    }\n</style>\n<table border=\"1\" class=\"dataframe\">\n  <thead>\n    <tr style=\"text-align: right;\">\n      <th></th>\n      <th>Name</th>\n      <th>key</th>\n      <th>Style</th>\n      <th>Style Key</th>\n      <th>Brewery</th>\n      <th>Description</th>\n      <th>ABV</th>\n      <th>Ave Rating</th>\n      <th>Min IBU</th>\n      <th>Max IBU</th>\n      <th>...</th>\n      <th>Body</th>\n      <th>Alcohol</th>\n      <th>Bitter</th>\n      <th>Sweet</th>\n      <th>Sour</th>\n      <th>Salty</th>\n      <th>Fruits</th>\n      <th>Hoppy</th>\n      <th>Spices</th>\n      <th>Malty</th>\n    </tr>\n  </thead>\n  <tbody>\n    <tr>\n      <th>0</th>\n      <td>Amber</td>\n      <td>251</td>\n      <td>Altbier</td>\n      <td>8</td>\n      <td>Alaskan Brewing Co.</td>\n      <td>Notes:Richly malty and long on the palate, wit...</td>\n      <td>5.3</td>\n      <td>3.65</td>\n      <td>25</td>\n      <td>50</td>\n      <td>...</td>\n      <td>32</td>\n      <td>9</td>\n      <td>47</td>\n      <td>74</td>\n      <td>33</td>\n      <td>0</td>\n      <td>33</td>\n      <td>57</td>\n      <td>8</td>\n      <td>111</td>\n    </tr>\n    <tr>\n      <th>1</th>\n      <td>Double Bag</td>\n      <td>252</td>\n      <td>Altbier</td>\n      <td>8</td>\n      <td>Long Trail Brewing Co.</td>\n      <td>Notes:This malty, full-bodied double alt is al...</td>\n      <td>7.2</td>\n      <td>3.90</td>\n      <td>25</td>\n      <td>50</td>\n      <td>...</td>\n      <td>57</td>\n      <td>18</td>\n      <td>33</td>\n      <td>55</td>\n      <td>16</td>\n      <td>0</td>\n      <td>24</td>\n      <td>35</td>\n      <td>12</td>\n      <td>84</td>\n    </tr>\n    <tr>\n      <th>2</th>\n      <td>Long Trail Ale</td>\n      <td>253</td>\n      <td>Altbier</td>\n      <td>8</td>\n      <td>Long Trail Brewing Co.</td>\n      <td>Notes:Long Trail Ale is a full-bodied amber al...</td>\n      <td>5.0</td>\n      <td>3.58</td>\n      <td>25</td>\n      <td>50</td>\n      <td>...</td>\n      <td>37</td>\n      <td>6</td>\n      <td>42</td>\n      <td>43</td>\n      <td>11</td>\n      <td>0</td>\n      <td>10</td>\n      <td>54</td>\n      <td>4</td>\n      <td>62</td>\n    </tr>\n    <tr>\n      <th>3</th>\n      <td>Doppelsticke</td>\n      <td>254</td>\n      <td>Altbier</td>\n      <td>8</td>\n      <td>Uerige Obergärige Hausbrauerei</td>\n      <td>Notes:</td>\n      <td>8.5</td>\n      <td>4.15</td>\n      <td>25</td>\n      <td>50</td>\n      <td>...</td>\n      <td>55</td>\n      <td>31</td>\n      <td>47</td>\n      <td>101</td>\n      <td>18</td>\n      <td>1</td>\n      <td>49</td>\n      <td>40</td>\n      <td>16</td>\n      <td>119</td>\n    </tr>\n    <tr>\n      <th>4</th>\n      <td>Scurry</td>\n      <td>255</td>\n      <td>Altbier</td>\n      <td>8</td>\n      <td>Off Color Brewing</td>\n      <td>Notes:Just cause it's dark and German doesn't ...</td>\n      <td>5.3</td>\n      <td>3.67</td>\n      <td>25</td>\n      <td>50</td>\n      <td>...</td>\n      <td>69</td>\n      <td>10</td>\n      <td>63</td>\n      <td>120</td>\n      <td>14</td>\n      <td>0</td>\n      <td>19</td>\n      <td>36</td>\n      <td>15</td>\n      <td>218</td>\n    </tr>\n    <tr>\n      <th>...</th>\n      <td>...</td>\n      <td>...</td>\n      <td>...</td>\n      <td>...</td>\n      <td>...</td>\n      <td>...</td>\n      <td>...</td>\n      <td>...</td>\n      <td>...</td>\n      <td>...</td>\n      <td>...</td>\n      <td>...</td>\n      <td>...</td>\n      <td>...</td>\n      <td>...</td>\n      <td>...</td>\n      <td>...</td>\n      <td>...</td>\n      <td>...</td>\n      <td>...</td>\n      <td>...</td>\n    </tr>\n    <tr>\n      <th>5553</th>\n      <td>Red Nose Winter Ale</td>\n      <td>696</td>\n      <td>Winter Warmer</td>\n      <td>17</td>\n      <td>Natty Greene's Pub &amp; Brewing Co.</td>\n      <td>Notes:</td>\n      <td>6.8</td>\n      <td>3.59</td>\n      <td>35</td>\n      <td>50</td>\n      <td>...</td>\n      <td>44</td>\n      <td>24</td>\n      <td>19</td>\n      <td>52</td>\n      <td>21</td>\n      <td>0</td>\n      <td>26</td>\n      <td>21</td>\n      <td>96</td>\n      <td>77</td>\n    </tr>\n    <tr>\n      <th>5554</th>\n      <td>Our Special Ale 2019 (Anchor Christmas Ale)</td>\n      <td>697</td>\n      <td>Winter Warmer</td>\n      <td>17</td>\n      <td>Anchor Brewing Company</td>\n      <td>Notes:This is the forty-fifth annual Our Speci...</td>\n      <td>6.9</td>\n      <td>3.79</td>\n      <td>35</td>\n      <td>50</td>\n      <td>...</td>\n      <td>73</td>\n      <td>9</td>\n      <td>58</td>\n      <td>87</td>\n      <td>23</td>\n      <td>0</td>\n      <td>48</td>\n      <td>91</td>\n      <td>44</td>\n      <td>104</td>\n    </tr>\n    <tr>\n      <th>5555</th>\n      <td>Fish Tale Winterfish</td>\n      <td>698</td>\n      <td>Winter Warmer</td>\n      <td>17</td>\n      <td>Fish Brewing Company / Fishbowl Brewpub</td>\n      <td>Notes:</td>\n      <td>7.5</td>\n      <td>3.76</td>\n      <td>35</td>\n      <td>50</td>\n      <td>...</td>\n      <td>36</td>\n      <td>50</td>\n      <td>70</td>\n      <td>72</td>\n      <td>59</td>\n      <td>0</td>\n      <td>81</td>\n      <td>110</td>\n      <td>18</td>\n      <td>73</td>\n    </tr>\n    <tr>\n      <th>5556</th>\n      <td>He'Brew Hanukkah, Chanukah: Pass The Beer</td>\n      <td>699</td>\n      <td>Winter Warmer</td>\n      <td>17</td>\n      <td>Shmaltz Brewing Company</td>\n      <td>Notes:Chanukah Beer pours a rich crystal clear...</td>\n      <td>8.0</td>\n      <td>3.61</td>\n      <td>35</td>\n      <td>50</td>\n      <td>...</td>\n      <td>64</td>\n      <td>30</td>\n      <td>57</td>\n      <td>78</td>\n      <td>15</td>\n      <td>1</td>\n      <td>28</td>\n      <td>57</td>\n      <td>23</td>\n      <td>129</td>\n    </tr>\n    <tr>\n      <th>5557</th>\n      <td>Frosted Frog Christmas Ale - Barrel-Aged</td>\n      <td>700</td>\n      <td>Winter Warmer</td>\n      <td>17</td>\n      <td>Hoppin' Frog Brewery</td>\n      <td>Notes:The essence of Christmas is captured in ...</td>\n      <td>8.6</td>\n      <td>3.89</td>\n      <td>35</td>\n      <td>50</td>\n      <td>...</td>\n      <td>50</td>\n      <td>49</td>\n      <td>13</td>\n      <td>71</td>\n      <td>17</td>\n      <td>0</td>\n      <td>33</td>\n      <td>16</td>\n      <td>148</td>\n      <td>69</td>\n    </tr>\n  </tbody>\n</table>\n<p>5558 rows × 21 columns</p>\n</div>"
     },
     "execution_count": 3,
     "metadata": {},
     "output_type": "execute_result"
    }
   ],
   "source": [
    "df"
   ],
   "metadata": {
    "collapsed": false,
    "ExecuteTime": {
     "end_time": "2023-07-31T05:14:56.091622400Z",
     "start_time": "2023-07-31T05:14:56.035556400Z"
    }
   },
   "id": "5d2fc8739fb4a2"
  },
  {
   "cell_type": "code",
   "execution_count": null,
   "outputs": [],
   "source": [
    "#QUANTAS COLUNAS(FEATURES) NÓS POSSUIMOS?"
   ],
   "metadata": {
    "collapsed": false
   },
   "id": "12a4b7ed9160451f"
  },
  {
   "cell_type": "code",
   "execution_count": 6,
   "outputs": [
    {
     "data": {
      "text/plain": "(5558, 21)"
     },
     "execution_count": 6,
     "metadata": {},
     "output_type": "execute_result"
    }
   ],
   "source": [
    "df.shape"
   ],
   "metadata": {
    "collapsed": false,
    "ExecuteTime": {
     "end_time": "2023-07-31T05:18:29.884366300Z",
     "start_time": "2023-07-31T05:18:29.853112500Z"
    }
   },
   "id": "a998a2a3d944d2e1"
  },
  {
   "cell_type": "code",
   "execution_count": 7,
   "outputs": [
    {
     "data": {
      "text/plain": "Name           5317\nkey            5558\nStyle           112\nStyle Key       112\nBrewery        1498\nDescription    3347\nABV             229\nAve Rating      289\nMin IBU          21\nMax IBU          25\nAstringency      73\nBody            165\nAlcohol         116\nBitter          141\nSweet           191\nSour            222\nSalty            47\nFruits          185\nHoppy           156\nSpices          155\nMalty           217\ndtype: int64"
     },
     "execution_count": 7,
     "metadata": {},
     "output_type": "execute_result"
    }
   ],
   "source": [
    "df.nunique()"
   ],
   "metadata": {
    "collapsed": false,
    "ExecuteTime": {
     "end_time": "2023-07-31T05:27:05.591956700Z",
     "start_time": "2023-07-31T05:27:05.554710100Z"
    }
   },
   "id": "ab130694f4beda1a"
  },
  {
   "cell_type": "code",
   "execution_count": null,
   "outputs": [],
   "source": [],
   "metadata": {
    "collapsed": false
   },
   "id": "bc38b3d3733e6eac"
  }
 ],
 "metadata": {
  "kernelspec": {
   "display_name": "Python 3",
   "language": "python",
   "name": "python3"
  },
  "language_info": {
   "codemirror_mode": {
    "name": "ipython",
    "version": 2
   },
   "file_extension": ".py",
   "mimetype": "text/x-python",
   "name": "python",
   "nbconvert_exporter": "python",
   "pygments_lexer": "ipython2",
   "version": "2.7.6"
  }
 },
 "nbformat": 4,
 "nbformat_minor": 5
}
