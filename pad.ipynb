{
 "cells": [
  {
   "cell_type": "code",
   "execution_count": 600,
   "metadata": {
    "collapsed": true,
    "ExecuteTime": {
     "end_time": "2023-08-10T01:47:29.907736700Z",
     "start_time": "2023-08-10T01:47:29.552788800Z"
    }
   },
   "outputs": [],
   "source": [
    "import pandas as pd\n",
    "import datetime\n",
    "import matplotlib.pyplot as plt\n",
    "import seaborn as sns\n",
    "import numpy as np\n",
    "import scipy.stats as stats"
   ]
  },
  {
   "cell_type": "markdown",
   "source": [
    "ASK:\n",
    "\n",
    "Será que é possível indicar cervejas que o usuário vai gostar, sabendo as que ele ja experimentou, assim melhorando sua experiência futura com base em experiências passadas?"
   ],
   "metadata": {
    "collapsed": false
   }
  },
  {
   "cell_type": "markdown",
   "source": [
    "GET:\n",
    "\n",
    "Para sanar essa dúvida precisamos de dados... Para isso, fomos a busca e encontramos algo interessante"
   ],
   "metadata": {
    "collapsed": false
   }
  },
  {
   "cell_type": "markdown",
   "source": [
    "No kaggle achamos esse conjunto de dados: https://www.kaggle.com/datasets/rdoume/beerreviews?select=beer_reviews.csv\n",
    "\n",
    "e a partir dele vamos explorar para buscar entender os dados e como eles podem nos ajudar a modelar a nossa solução"
   ],
   "metadata": {
    "collapsed": false
   }
  },
  {
   "cell_type": "markdown",
   "source": [
    "EXPLORE:"
   ],
   "metadata": {
    "collapsed": false
   }
  },
  {
   "cell_type": "code",
   "execution_count": 601,
   "outputs": [],
   "source": [
    "df = pd.read_csv('beer_reviews.csv')"
   ],
   "metadata": {
    "collapsed": false,
    "ExecuteTime": {
     "end_time": "2023-08-10T01:47:31.993315500Z",
     "start_time": "2023-08-10T01:47:29.585333200Z"
    }
   }
  },
  {
   "cell_type": "code",
   "execution_count": 602,
   "outputs": [
    {
     "data": {
      "text/plain": "         brewery_id                 brewery_name  review_time  review_overall  \\\n0             10325              Vecchio Birraio   1234817823             1.5   \n1             10325              Vecchio Birraio   1235915097             3.0   \n2             10325              Vecchio Birraio   1235916604             3.0   \n3             10325              Vecchio Birraio   1234725145             3.0   \n4              1075      Caldera Brewing Company   1293735206             4.0   \n...             ...                          ...          ...             ...   \n1586609       14359  The Defiant Brewing Company   1162684892             5.0   \n1586610       14359  The Defiant Brewing Company   1161048566             4.0   \n1586611       14359  The Defiant Brewing Company   1160702513             4.5   \n1586612       14359  The Defiant Brewing Company   1160023044             4.0   \n1586613       14359  The Defiant Brewing Company   1160005319             5.0   \n\n         review_aroma  review_appearance review_profilename  \\\n0                 2.0                2.5            stcules   \n1                 2.5                3.0            stcules   \n2                 2.5                3.0            stcules   \n3                 3.0                3.5            stcules   \n4                 4.5                4.0     johnmichaelsen   \n...               ...                ...                ...   \n1586609           4.0                3.5         maddogruss   \n1586610           5.0                2.5          yelterdow   \n1586611           3.5                3.0           TongoRad   \n1586612           4.5                4.5           dherling   \n1586613           4.5                4.5               cbl2   \n\n                             beer_style  review_palate  review_taste  \\\n0                            Hefeweizen            1.5           1.5   \n1                    English Strong Ale            3.0           3.0   \n2                Foreign / Export Stout            3.0           3.0   \n3                       German Pilsener            2.5           3.0   \n4        American Double / Imperial IPA            4.0           4.5   \n...                                 ...            ...           ...   \n1586609                     Pumpkin Ale            4.0           4.0   \n1586610                     Pumpkin Ale            2.0           4.0   \n1586611                     Pumpkin Ale            3.5           4.0   \n1586612                     Pumpkin Ale            4.5           4.5   \n1586613                     Pumpkin Ale            4.5           4.5   \n\n                      beer_name  beer_abv  beer_beerid  \n0                  Sausa Weizen       5.0        47986  \n1                      Red Moon       6.2        48213  \n2        Black Horse Black Beer       6.5        48215  \n3                    Sausa Pils       5.0        47969  \n4                 Cauldron DIPA       7.7        64883  \n...                         ...       ...          ...  \n1586609      The Horseman's Ale       5.2        33061  \n1586610      The Horseman's Ale       5.2        33061  \n1586611      The Horseman's Ale       5.2        33061  \n1586612      The Horseman's Ale       5.2        33061  \n1586613      The Horseman's Ale       5.2        33061  \n\n[1586614 rows x 13 columns]",
      "text/html": "<div>\n<style scoped>\n    .dataframe tbody tr th:only-of-type {\n        vertical-align: middle;\n    }\n\n    .dataframe tbody tr th {\n        vertical-align: top;\n    }\n\n    .dataframe thead th {\n        text-align: right;\n    }\n</style>\n<table border=\"1\" class=\"dataframe\">\n  <thead>\n    <tr style=\"text-align: right;\">\n      <th></th>\n      <th>brewery_id</th>\n      <th>brewery_name</th>\n      <th>review_time</th>\n      <th>review_overall</th>\n      <th>review_aroma</th>\n      <th>review_appearance</th>\n      <th>review_profilename</th>\n      <th>beer_style</th>\n      <th>review_palate</th>\n      <th>review_taste</th>\n      <th>beer_name</th>\n      <th>beer_abv</th>\n      <th>beer_beerid</th>\n    </tr>\n  </thead>\n  <tbody>\n    <tr>\n      <th>0</th>\n      <td>10325</td>\n      <td>Vecchio Birraio</td>\n      <td>1234817823</td>\n      <td>1.5</td>\n      <td>2.0</td>\n      <td>2.5</td>\n      <td>stcules</td>\n      <td>Hefeweizen</td>\n      <td>1.5</td>\n      <td>1.5</td>\n      <td>Sausa Weizen</td>\n      <td>5.0</td>\n      <td>47986</td>\n    </tr>\n    <tr>\n      <th>1</th>\n      <td>10325</td>\n      <td>Vecchio Birraio</td>\n      <td>1235915097</td>\n      <td>3.0</td>\n      <td>2.5</td>\n      <td>3.0</td>\n      <td>stcules</td>\n      <td>English Strong Ale</td>\n      <td>3.0</td>\n      <td>3.0</td>\n      <td>Red Moon</td>\n      <td>6.2</td>\n      <td>48213</td>\n    </tr>\n    <tr>\n      <th>2</th>\n      <td>10325</td>\n      <td>Vecchio Birraio</td>\n      <td>1235916604</td>\n      <td>3.0</td>\n      <td>2.5</td>\n      <td>3.0</td>\n      <td>stcules</td>\n      <td>Foreign / Export Stout</td>\n      <td>3.0</td>\n      <td>3.0</td>\n      <td>Black Horse Black Beer</td>\n      <td>6.5</td>\n      <td>48215</td>\n    </tr>\n    <tr>\n      <th>3</th>\n      <td>10325</td>\n      <td>Vecchio Birraio</td>\n      <td>1234725145</td>\n      <td>3.0</td>\n      <td>3.0</td>\n      <td>3.5</td>\n      <td>stcules</td>\n      <td>German Pilsener</td>\n      <td>2.5</td>\n      <td>3.0</td>\n      <td>Sausa Pils</td>\n      <td>5.0</td>\n      <td>47969</td>\n    </tr>\n    <tr>\n      <th>4</th>\n      <td>1075</td>\n      <td>Caldera Brewing Company</td>\n      <td>1293735206</td>\n      <td>4.0</td>\n      <td>4.5</td>\n      <td>4.0</td>\n      <td>johnmichaelsen</td>\n      <td>American Double / Imperial IPA</td>\n      <td>4.0</td>\n      <td>4.5</td>\n      <td>Cauldron DIPA</td>\n      <td>7.7</td>\n      <td>64883</td>\n    </tr>\n    <tr>\n      <th>...</th>\n      <td>...</td>\n      <td>...</td>\n      <td>...</td>\n      <td>...</td>\n      <td>...</td>\n      <td>...</td>\n      <td>...</td>\n      <td>...</td>\n      <td>...</td>\n      <td>...</td>\n      <td>...</td>\n      <td>...</td>\n      <td>...</td>\n    </tr>\n    <tr>\n      <th>1586609</th>\n      <td>14359</td>\n      <td>The Defiant Brewing Company</td>\n      <td>1162684892</td>\n      <td>5.0</td>\n      <td>4.0</td>\n      <td>3.5</td>\n      <td>maddogruss</td>\n      <td>Pumpkin Ale</td>\n      <td>4.0</td>\n      <td>4.0</td>\n      <td>The Horseman's Ale</td>\n      <td>5.2</td>\n      <td>33061</td>\n    </tr>\n    <tr>\n      <th>1586610</th>\n      <td>14359</td>\n      <td>The Defiant Brewing Company</td>\n      <td>1161048566</td>\n      <td>4.0</td>\n      <td>5.0</td>\n      <td>2.5</td>\n      <td>yelterdow</td>\n      <td>Pumpkin Ale</td>\n      <td>2.0</td>\n      <td>4.0</td>\n      <td>The Horseman's Ale</td>\n      <td>5.2</td>\n      <td>33061</td>\n    </tr>\n    <tr>\n      <th>1586611</th>\n      <td>14359</td>\n      <td>The Defiant Brewing Company</td>\n      <td>1160702513</td>\n      <td>4.5</td>\n      <td>3.5</td>\n      <td>3.0</td>\n      <td>TongoRad</td>\n      <td>Pumpkin Ale</td>\n      <td>3.5</td>\n      <td>4.0</td>\n      <td>The Horseman's Ale</td>\n      <td>5.2</td>\n      <td>33061</td>\n    </tr>\n    <tr>\n      <th>1586612</th>\n      <td>14359</td>\n      <td>The Defiant Brewing Company</td>\n      <td>1160023044</td>\n      <td>4.0</td>\n      <td>4.5</td>\n      <td>4.5</td>\n      <td>dherling</td>\n      <td>Pumpkin Ale</td>\n      <td>4.5</td>\n      <td>4.5</td>\n      <td>The Horseman's Ale</td>\n      <td>5.2</td>\n      <td>33061</td>\n    </tr>\n    <tr>\n      <th>1586613</th>\n      <td>14359</td>\n      <td>The Defiant Brewing Company</td>\n      <td>1160005319</td>\n      <td>5.0</td>\n      <td>4.5</td>\n      <td>4.5</td>\n      <td>cbl2</td>\n      <td>Pumpkin Ale</td>\n      <td>4.5</td>\n      <td>4.5</td>\n      <td>The Horseman's Ale</td>\n      <td>5.2</td>\n      <td>33061</td>\n    </tr>\n  </tbody>\n</table>\n<p>1586614 rows × 13 columns</p>\n</div>"
     },
     "execution_count": 602,
     "metadata": {},
     "output_type": "execute_result"
    }
   ],
   "source": [
    "df"
   ],
   "metadata": {
    "collapsed": false,
    "ExecuteTime": {
     "end_time": "2023-08-10T01:47:32.020140300Z",
     "start_time": "2023-08-10T01:47:31.995782100Z"
    }
   }
  },
  {
   "cell_type": "code",
   "execution_count": 603,
   "outputs": [
    {
     "data": {
      "text/plain": "(1586614, 13)"
     },
     "execution_count": 603,
     "metadata": {},
     "output_type": "execute_result"
    }
   ],
   "source": [
    "df.shape"
   ],
   "metadata": {
    "collapsed": false,
    "ExecuteTime": {
     "end_time": "2023-08-10T01:47:32.040956800Z",
     "start_time": "2023-08-10T01:47:32.018137900Z"
    }
   }
  },
  {
   "cell_type": "markdown",
   "source": [
    "Uau, temos aqui mais de um milhão de registros e também 13 'features' que descrevem nossos dados, mas vamos aqui buscar entender o que são esses dados, de que forma são relevantes para nós, e como podemos manipulálos"
   ],
   "metadata": {
    "collapsed": false
   }
  },
  {
   "cell_type": "markdown",
   "source": [
    "Dentro da nossa análise (objetivo de criar um sistema de recomendação), não faz sentido guardarmos dados da cervejaria"
   ],
   "metadata": {
    "collapsed": false
   }
  },
  {
   "cell_type": "code",
   "execution_count": 604,
   "outputs": [],
   "source": [
    "df = df.drop(columns=['brewery_id','brewery_name'],axis=1)"
   ],
   "metadata": {
    "collapsed": false,
    "ExecuteTime": {
     "end_time": "2023-08-10T01:47:32.241555500Z",
     "start_time": "2023-08-10T01:47:32.027093700Z"
    }
   }
  },
  {
   "cell_type": "markdown",
   "source": [
    "Será que existem valores nulos?"
   ],
   "metadata": {
    "collapsed": false
   }
  },
  {
   "cell_type": "code",
   "execution_count": 605,
   "outputs": [
    {
     "name": "stdout",
     "output_type": "stream",
     "text": [
      "Quantidade de valores nulos por coluna:\n",
      "review_time               0\n",
      "review_overall            0\n",
      "review_aroma              0\n",
      "review_appearance         0\n",
      "review_profilename      348\n",
      "beer_style                0\n",
      "review_palate             0\n",
      "review_taste              0\n",
      "beer_name                 0\n",
      "beer_abv              67785\n",
      "beer_beerid               0\n",
      "dtype: int64\n"
     ]
    }
   ],
   "source": [
    "nulos_por_coluna = df.isnull().sum()\n",
    "\n",
    "# Exibir o número de valores nulos por coluna\n",
    "print(\"Quantidade de valores nulos por coluna:\")\n",
    "print(nulos_por_coluna)"
   ],
   "metadata": {
    "collapsed": false,
    "ExecuteTime": {
     "end_time": "2023-08-10T01:47:32.875971500Z",
     "start_time": "2023-08-10T01:47:32.142465500Z"
    }
   }
  },
  {
   "cell_type": "markdown",
   "source": [
    "Temos poucos nulos para um dataset de um milhão e meio. Mas para esses nulos no abv, será que conseguimos preencher, caso o abv de uma dessas cervejas ja tenha sido preenchida?"
   ],
   "metadata": {
    "collapsed": false
   }
  },
  {
   "cell_type": "code",
   "execution_count": 606,
   "outputs": [],
   "source": [
    "valores_abv_por_id = df.dropna(subset=['beer_abv']).set_index('beer_beerid')['beer_abv'].to_dict()\n",
    "\n",
    "df['beer_abv'] = df.apply(lambda row: valores_abv_por_id.get(row['beer_beerid'], row['beer_abv']), axis=1)"
   ],
   "metadata": {
    "collapsed": false,
    "ExecuteTime": {
     "end_time": "2023-08-10T01:47:51.651646500Z",
     "start_time": "2023-08-10T01:47:32.875971500Z"
    }
   }
  },
  {
   "cell_type": "code",
   "execution_count": 607,
   "outputs": [
    {
     "name": "stdout",
     "output_type": "stream",
     "text": [
      "67785\n"
     ]
    }
   ],
   "source": [
    "nulo_abv = df['beer_abv'].isnull().sum()\n",
    "\n",
    "print(nulo_abv)"
   ],
   "metadata": {
    "collapsed": false,
    "ExecuteTime": {
     "end_time": "2023-08-10T01:47:51.666046800Z",
     "start_time": "2023-08-10T01:47:51.650645600Z"
    }
   }
  },
  {
   "cell_type": "markdown",
   "source": [
    "A resposta é não rs."
   ],
   "metadata": {
    "collapsed": false
   }
  },
  {
   "cell_type": "markdown",
   "source": [
    "quantas cervejas estão sem essa informação?"
   ],
   "metadata": {
    "collapsed": false
   }
  },
  {
   "cell_type": "code",
   "execution_count": 608,
   "outputs": [
    {
     "data": {
      "text/plain": "17043"
     },
     "execution_count": 608,
     "metadata": {},
     "output_type": "execute_result"
    }
   ],
   "source": [
    "unique_beer_ids_with_null_abv = df[df['beer_abv'].isnull()]['beer_beerid'].nunique()\n",
    "unique_beer_ids_with_null_abv"
   ],
   "metadata": {
    "collapsed": false,
    "ExecuteTime": {
     "end_time": "2023-08-10T01:47:51.740538900Z",
     "start_time": "2023-08-10T01:47:51.660041600Z"
    }
   }
  },
  {
   "cell_type": "markdown",
   "source": [
    "17 mil cervejas diferentes, acho que é muito para preencher a mão rs"
   ],
   "metadata": {
    "collapsed": false
   }
  },
  {
   "cell_type": "markdown",
   "source": [
    "Como estamos trabalhando com um sistema de recomendação, o usuário que avaliou é bastante importante para nós. e já que temos muitos dados, iremos excluir as linhas com nulo nesse campo"
   ],
   "metadata": {
    "collapsed": false
   }
  },
  {
   "cell_type": "code",
   "execution_count": 609,
   "outputs": [],
   "source": [
    "df = df.dropna(subset=['review_profilename'])\n"
   ],
   "metadata": {
    "collapsed": false,
    "ExecuteTime": {
     "end_time": "2023-08-10T01:47:52.064609600Z",
     "start_time": "2023-08-10T01:47:51.705507100Z"
    }
   }
  },
  {
   "cell_type": "markdown",
   "source": [
    "Dicionário:\n",
    "\n",
    "\n",
    "Brewery id: é um identificador único atribuído a cada cervejaria listada no conjunto de dados\n",
    "\n",
    "brewery name: é o nome da cervejaria\n",
    "\n",
    "Review time: provavelmente se refere ao momento em que uma avaliação ou revisão específica de uma cerveja foi registrada. Porém parece estar codificado.\n",
    "\n",
    "Review Overall: pontuação geral ou avaliação geral dada a uma cerveja específica por um revisor\n",
    "\n",
    "Review aroma: Assim como o review overall, é uma coluna subjetiva e trata da nota atribuida ao aroma de cada cerveja.\n",
    "\n",
    "Review appareance: Subjetiva e trata a respeito da aparência visual\n",
    "\n",
    "Review profile name: Essa coluna descre o nome de usuario daquele revisor, ou seja para aquela aquela cerveja, com aquelas notas, quem atribuiu.\n",
    "\n",
    "Beer_Style: categorização do tipo ou estilo específico de cerveja que está sendo avaliada ou descrita. Cada cerveja pode ser classificada em um estilo com base em suas características de sabor, aroma, aparência, ingredientes e outros atributos distintivos. Temos alguns estilos como IPA, PILSEN...\n",
    "\n",
    "Review taste: pontuação atribuída à sensação na boca de uma cerveja específica por um revisor\n",
    "\n",
    "Beer name: Nome da cerveja\n",
    "\n",
    "beer abv: Alcoól por volume\n",
    "\n",
    "beer id: id de cada cerveja"
   ],
   "metadata": {
    "collapsed": false
   }
  },
  {
   "cell_type": "markdown",
   "source": [
    "Com essa descrição e entendimento é natural que surjam algumas dúvidas. Por exemplo, será que essa coluna de review time realmente pode ser convertida?"
   ],
   "metadata": {
    "collapsed": false
   }
  },
  {
   "cell_type": "code",
   "execution_count": 610,
   "outputs": [
    {
     "data": {
      "text/plain": "0          1234817823\n1          1235915097\n2          1235916604\n3          1234725145\n4          1293735206\n              ...    \n1586609    1162684892\n1586610    1161048566\n1586611    1160702513\n1586612    1160023044\n1586613    1160005319\nName: review_time, Length: 1586266, dtype: int64"
     },
     "execution_count": 610,
     "metadata": {},
     "output_type": "execute_result"
    }
   ],
   "source": [
    "datas = df['review_time']\n",
    "datas"
   ],
   "metadata": {
    "collapsed": false,
    "ExecuteTime": {
     "end_time": "2023-08-10T01:47:52.078034600Z",
     "start_time": "2023-08-10T01:47:52.065611300Z"
    }
   }
  },
  {
   "cell_type": "markdown",
   "source": [
    "Para isso, após algumas pesquisas vimos que pode estar em padrão unix. E vamos tentar convertê-las"
   ],
   "metadata": {
    "collapsed": false
   }
  },
  {
   "cell_type": "code",
   "execution_count": 611,
   "outputs": [],
   "source": [
    "ndt = []\n",
    "for data in datas:\n",
    "    dt_object = datetime.datetime.fromtimestamp(data)\n",
    "    formatted_date = dt_object.strftime('%Y-%m-%d %H:%M:%S')\n",
    "\n",
    "    ndt.append(formatted_date)\n",
    "\n",
    "dt = {'Data review': ndt}\n",
    "df_dt = pd.DataFrame(dt)"
   ],
   "metadata": {
    "collapsed": false,
    "ExecuteTime": {
     "end_time": "2023-08-10T01:48:05.369637300Z",
     "start_time": "2023-08-10T01:47:52.073030300Z"
    }
   }
  },
  {
   "cell_type": "code",
   "execution_count": 612,
   "outputs": [
    {
     "data": {
      "text/plain": "                 Data review\n0        2009-02-16 17:57:03\n1        2009-03-01 10:44:57\n2        2009-03-01 11:10:04\n3        2009-02-15 16:12:25\n4        2010-12-30 15:53:26\n...                      ...\n1586261  2006-11-04 21:01:32\n1586262  2006-10-16 22:29:26\n1586263  2006-10-12 22:21:53\n1586264  2006-10-05 01:37:24\n1586265  2006-10-04 20:41:59\n\n[1586266 rows x 1 columns]",
      "text/html": "<div>\n<style scoped>\n    .dataframe tbody tr th:only-of-type {\n        vertical-align: middle;\n    }\n\n    .dataframe tbody tr th {\n        vertical-align: top;\n    }\n\n    .dataframe thead th {\n        text-align: right;\n    }\n</style>\n<table border=\"1\" class=\"dataframe\">\n  <thead>\n    <tr style=\"text-align: right;\">\n      <th></th>\n      <th>Data review</th>\n    </tr>\n  </thead>\n  <tbody>\n    <tr>\n      <th>0</th>\n      <td>2009-02-16 17:57:03</td>\n    </tr>\n    <tr>\n      <th>1</th>\n      <td>2009-03-01 10:44:57</td>\n    </tr>\n    <tr>\n      <th>2</th>\n      <td>2009-03-01 11:10:04</td>\n    </tr>\n    <tr>\n      <th>3</th>\n      <td>2009-02-15 16:12:25</td>\n    </tr>\n    <tr>\n      <th>4</th>\n      <td>2010-12-30 15:53:26</td>\n    </tr>\n    <tr>\n      <th>...</th>\n      <td>...</td>\n    </tr>\n    <tr>\n      <th>1586261</th>\n      <td>2006-11-04 21:01:32</td>\n    </tr>\n    <tr>\n      <th>1586262</th>\n      <td>2006-10-16 22:29:26</td>\n    </tr>\n    <tr>\n      <th>1586263</th>\n      <td>2006-10-12 22:21:53</td>\n    </tr>\n    <tr>\n      <th>1586264</th>\n      <td>2006-10-05 01:37:24</td>\n    </tr>\n    <tr>\n      <th>1586265</th>\n      <td>2006-10-04 20:41:59</td>\n    </tr>\n  </tbody>\n</table>\n<p>1586266 rows × 1 columns</p>\n</div>"
     },
     "execution_count": 612,
     "metadata": {},
     "output_type": "execute_result"
    }
   ],
   "source": [
    "df_dt"
   ],
   "metadata": {
    "collapsed": false,
    "ExecuteTime": {
     "end_time": "2023-08-10T01:48:05.381671900Z",
     "start_time": "2023-08-10T01:48:05.368636300Z"
    }
   }
  },
  {
   "cell_type": "markdown",
   "source": [
    "Uau, então realmente é possivél converter aquela coluna em data, mas deixaremos daquele jeito por enquanto"
   ],
   "metadata": {
    "collapsed": false
   }
  },
  {
   "cell_type": "code",
   "execution_count": 613,
   "outputs": [
    {
     "name": "stdout",
     "output_type": "stream",
     "text": [
      "66051\n"
     ]
    }
   ],
   "source": [
    "#Quantas cervejas temos no dataset?\n",
    "\n",
    "qtd_cervejas = df['beer_beerid'].nunique()\n",
    "print(qtd_cervejas)"
   ],
   "metadata": {
    "collapsed": false,
    "ExecuteTime": {
     "end_time": "2023-08-10T01:48:05.442190800Z",
     "start_time": "2023-08-10T01:48:05.378668700Z"
    }
   }
  },
  {
   "cell_type": "markdown",
   "source": [
    "Não sabia que existiam tantas cervejas assim rs"
   ],
   "metadata": {
    "collapsed": false
   }
  },
  {
   "cell_type": "markdown",
   "source": [
    "Para as outras colunas de review, sabemos que são subjetivas, mas para cada uma delas, qual será que é o intervalo"
   ],
   "metadata": {
    "collapsed": false
   }
  },
  {
   "cell_type": "code",
   "execution_count": 614,
   "outputs": [],
   "source": [
    "review_colunms = ['review_overall','review_aroma', 'review_appearance', 'review_palate', 'review_taste' ]"
   ],
   "metadata": {
    "collapsed": false,
    "ExecuteTime": {
     "end_time": "2023-08-10T01:48:05.500933700Z",
     "start_time": "2023-08-10T01:48:05.430930700Z"
    }
   }
  },
  {
   "cell_type": "code",
   "execution_count": 615,
   "outputs": [
    {
     "name": "stdout",
     "output_type": "stream",
     "text": [
      "review_overall 0.0  -  5.0\n",
      "review_aroma 1.0  -  5.0\n",
      "review_appearance 0.0  -  5.0\n",
      "review_palate 1.0  -  5.0\n",
      "review_taste 1.0  -  5.0\n"
     ]
    }
   ],
   "source": [
    "for c in review_colunms:\n",
    "    print(c, df[c].min(), ' - ',df[c].max())"
   ],
   "metadata": {
    "collapsed": false,
    "ExecuteTime": {
     "end_time": "2023-08-10T01:48:05.504938200Z",
     "start_time": "2023-08-10T01:48:05.433169700Z"
    }
   }
  },
  {
   "cell_type": "markdown",
   "source": [
    "Parece que estão estabelecidos valores de 0 a 5 para todas colunas, embora sejam subjetivas, temos intervalos bem definidos"
   ],
   "metadata": {
    "collapsed": false
   }
  },
  {
   "cell_type": "markdown",
   "source": [
    "Como será que essas notas se distribuem para cada review? Será que temos uma distribuição normal das coisas, ou temos a maioria das cervejas proximas de 5 e vice-versa?"
   ],
   "metadata": {
    "collapsed": false
   }
  },
  {
   "cell_type": "code",
   "execution_count": 616,
   "outputs": [
    {
     "data": {
      "text/plain": "<Figure size 800x600 with 1 Axes>",
      "image/png": "[encoded data removed]"
     },
     "metadata": {},
     "output_type": "display_data"
    },
    {
     "data": {
      "text/plain": "<Figure size 800x600 with 1 Axes>",
      "image/png": "[encoded data removed]"
     },
     "metadata": {},
     "output_type": "display_data"
    },
    {
     "data": {
      "text/plain": "<Figure size 800x600 with 1 Axes>",
      "image/png": "[encoded data removed]"
     },
     "metadata": {},
     "output_type": "display_data"
    },
    {
     "data": {
      "text/plain": "<Figure size 800x600 with 1 Axes>",
      "image/png": "[encoded data removed]"
     },
     "metadata": {},
     "output_type": "display_data"
    },
    {
     "data": {
      "text/plain": "<Figure size 800x600 with 1 Axes>",
      "image/png": "[encoded data removed]"
     },
     "metadata": {},
     "output_type": "display_data"
    }
   ],
   "source": [
    "for c in review_colunms:\n",
    "    plt.figure(figsize=(8, 6))\n",
    "    sns.countplot(x=df[c], palette=\"viridis\")\n",
    "\n",
    "    # Adicionar título e rótulos dos eixos\n",
    "    plt.title(f\"Distribuição de Notas {c}\")\n",
    "    plt.xlabel(\"Notas\")\n",
    "    plt.ylabel(\"Contagem\")\n",
    "\n",
    "    # Exibir o gráfico\n",
    "    plt.show()"
   ],
   "metadata": {
    "collapsed": false,
    "ExecuteTime": {
     "end_time": "2023-08-10T01:48:07.521421500Z",
     "start_time": "2023-08-10T01:48:05.469906400Z"
    }
   }
  },
  {
   "cell_type": "code",
   "execution_count": 617,
   "outputs": [
    {
     "name": "stdout",
     "output_type": "stream",
     "text": [
      "3.8156280220341356 4.0\n",
      "3.735685565976955 4.0\n",
      "3.84167125816225 4.0\n",
      "3.7437532544982997 4.0\n",
      "3.7929209224682365 4.0\n"
     ]
    }
   ],
   "source": [
    "for c in review_colunms:\n",
    "    print(df[c].mean(), df[c].median())"
   ],
   "metadata": {
    "collapsed": false,
    "ExecuteTime": {
     "end_time": "2023-08-10T01:48:07.621960400Z",
     "start_time": "2023-08-10T01:48:07.521421500Z"
    }
   }
  },
  {
   "cell_type": "markdown",
   "source": [
    "Vemos aqui, que predominantemente temos os dados 'ao redor' do valor 4."
   ],
   "metadata": {
    "collapsed": false
   }
  },
  {
   "cell_type": "markdown",
   "source": [
    "Será que mesmo para valores tão proximos, temos a notas baixas como \"outliers\"?"
   ],
   "metadata": {
    "collapsed": false
   }
  },
  {
   "cell_type": "code",
   "execution_count": 618,
   "outputs": [
    {
     "data": {
      "text/plain": "<Figure size 800x600 with 1 Axes>",
      "image/png": "[encoded data removed]"
     },
     "metadata": {},
     "output_type": "display_data"
    },
    {
     "data": {
      "text/plain": "<Figure size 800x600 with 1 Axes>",
      "image/png": "[encoded data removed]"
     },
     "metadata": {},
     "output_type": "display_data"
    },
    {
     "data": {
      "text/plain": "<Figure size 800x600 with 1 Axes>",
      "image/png": "[encoded data removed]"
     },
     "metadata": {},
     "output_type": "display_data"
    },
    {
     "data": {
      "text/plain": "<Figure size 800x600 with 1 Axes>",
      "image/png": "[encoded data removed]"
     },
     "metadata": {},
     "output_type": "display_data"
    },
    {
     "data": {
      "text/plain": "<Figure size 800x600 with 1 Axes>",
      "image/png": "[encoded data removed]"
     },
     "metadata": {},
     "output_type": "display_data"
    }
   ],
   "source": [
    "for c in review_colunms:\n",
    "    plt.figure(figsize=(8, 6))\n",
    "    sns.boxplot(data=df[c], color='skyblue')\n",
    "\n",
    "    # Adicionar título e rótulo do eixo x\n",
    "    plt.title(f\"Gráfico de Boxplot de {c}\")\n",
    "    plt.xlabel(\"Notas\")\n",
    "\n",
    "    # Exibir o gráfico\n",
    "    plt.show()"
   ],
   "metadata": {
    "collapsed": false,
    "ExecuteTime": {
     "end_time": "2023-08-10T01:48:10.080439600Z",
     "start_time": "2023-08-10T01:48:07.613953Z"
    }
   }
  },
  {
   "cell_type": "markdown",
   "source": [
    "Uau, com esses gráficos conseguimos ver que algumas notas, mesmo que dentro do domínio do problema são consideradas anomalias"
   ],
   "metadata": {
    "collapsed": false
   }
  },
  {
   "cell_type": "markdown",
   "source": [
    "O estilo de cerveja pode nos trazer algumas informações interessantes não contidas no dataset. Vamos analisar"
   ],
   "metadata": {
    "collapsed": false
   }
  },
  {
   "cell_type": "code",
   "execution_count": 619,
   "outputs": [
    {
     "data": {
      "text/plain": "104"
     },
     "execution_count": 619,
     "metadata": {},
     "output_type": "execute_result"
    }
   ],
   "source": [
    "df['beer_style'].nunique()"
   ],
   "metadata": {
    "collapsed": false,
    "ExecuteTime": {
     "end_time": "2023-08-10T01:48:10.198159600Z",
     "start_time": "2023-08-10T01:48:10.080439600Z"
    }
   }
  },
  {
   "cell_type": "code",
   "execution_count": 620,
   "outputs": [
    {
     "name": "stdout",
     "output_type": "stream",
     "text": [
      "Hefeweizen\n",
      "English Strong Ale\n",
      "Foreign / Export Stout\n",
      "German Pilsener\n",
      "American Double / Imperial IPA\n",
      "Herbed / Spiced Beer\n",
      "Light Lager\n",
      "Oatmeal Stout\n",
      "American Pale Lager\n",
      "Rauchbier\n",
      "American Pale Ale (APA)\n",
      "American Porter\n",
      "Belgian Strong Dark Ale\n",
      "American IPA\n",
      "American Stout\n",
      "Russian Imperial Stout\n",
      "American Amber / Red Ale\n",
      "American Strong Ale\n",
      "Märzen / Oktoberfest\n",
      "American Adjunct Lager\n",
      "American Blonde Ale\n",
      "Euro Pale Lager\n",
      "English Brown Ale\n",
      "Scotch Ale / Wee Heavy\n",
      "Fruit / Vegetable Beer\n",
      "American Double / Imperial Stout\n",
      "Belgian Pale Ale\n",
      "English Bitter\n",
      "English Porter\n",
      "Irish Dry Stout\n",
      "American Barleywine\n",
      "Belgian Strong Pale Ale\n",
      "Doppelbock\n",
      "Maibock / Helles Bock\n",
      "Pumpkin Ale\n",
      "Dortmunder / Export Lager\n",
      "Euro Strong Lager\n",
      "Euro Dark Lager\n",
      "Low Alcohol Beer\n",
      "Weizenbock\n",
      "Extra Special / Strong Bitter (ESB)\n",
      "Bock\n",
      "English India Pale Ale (IPA)\n",
      "Altbier\n",
      "Kölsch\n",
      "Munich Dunkel Lager\n",
      "Rye Beer\n",
      "American Pale Wheat Ale\n",
      "Milk / Sweet Stout\n",
      "Schwarzbier\n",
      "Vienna Lager\n",
      "American Amber / Red Lager\n",
      "Scottish Ale\n",
      "Witbier\n",
      "American Black Ale\n",
      "Saison / Farmhouse Ale\n",
      "English Barleywine\n",
      "English Dark Mild Ale\n",
      "California Common / Steam Beer\n",
      "Czech Pilsener\n",
      "English Pale Ale\n",
      "Belgian IPA\n",
      "Tripel\n",
      "Flanders Oud Bruin\n",
      "American Brown Ale\n",
      "Winter Warmer\n",
      "Smoked Beer\n",
      "Dubbel\n",
      "Flanders Red Ale\n",
      "Dunkelweizen\n",
      "Roggenbier\n",
      "Keller Bier / Zwickel Bier\n",
      "Belgian Dark Ale\n",
      "Bière de Garde\n",
      "Japanese Rice Lager\n",
      "Black & Tan\n",
      "Irish Red Ale\n",
      "Chile Beer\n",
      "English Stout\n",
      "Cream Ale\n",
      "American Wild Ale\n",
      "American Double / Imperial Pilsner\n",
      "Scottish Gruit / Ancient Herbed Ale\n",
      "Wheatwine\n",
      "American Dark Wheat Ale\n",
      "American Malt Liquor\n",
      "Baltic Porter\n",
      "Munich Helles Lager\n",
      "Kristalweizen\n",
      "English Pale Mild Ale\n",
      "Lambic - Fruit\n",
      "Old Ale\n",
      "Quadrupel (Quad)\n",
      "Braggot\n",
      "Lambic - Unblended\n",
      "Eisbock\n",
      "Berliner Weissbier\n",
      "Kvass\n",
      "Faro\n",
      "Gueuze\n",
      "Gose\n",
      "Happoshu\n",
      "Sahti\n",
      "Bière de Champagne / Bière Brut\n"
     ]
    }
   ],
   "source": [
    "estilos_unicos = df['beer_style'].unique()\n",
    "\n",
    "# Exibir a lista de estilos de cerveja únicos\n",
    "for estilo in estilos_unicos:\n",
    "    print(estilo)"
   ],
   "metadata": {
    "collapsed": false,
    "ExecuteTime": {
     "end_time": "2023-08-10T01:48:10.322274400Z",
     "start_time": "2023-08-10T01:48:10.198159600Z"
    }
   }
  },
  {
   "cell_type": "markdown",
   "source": [
    "Vamos carregar um dataset com o estilo e uma taxa de ibu (indicador de amargor)"
   ],
   "metadata": {
    "collapsed": false
   }
  },
  {
   "cell_type": "code",
   "execution_count": 621,
   "outputs": [
    {
     "data": {
      "text/plain": "                          beer_style  ibu_min  ibu_max\n0                            Altbier     25.0     50.0\n1                   Amber Kellerbier     25.0     40.0\n2                 American Amber Ale     25.0     40.0\n3                American Barleywine     50.0    100.0\n4                 American Brown Ale     20.0     30.0\n..                               ...      ...      ...\n192               Berliner Weissbier      7.0      7.0\n193                            Kvass     12.0     12.0\n194                             Faro     10.0     10.0\n195                         Happoshu     11.0     11.0\n196  Bière de Champagne / Bière Brut     40.0     40.0\n\n[197 rows x 3 columns]",
      "text/html": "<div>\n<style scoped>\n    .dataframe tbody tr th:only-of-type {\n        vertical-align: middle;\n    }\n\n    .dataframe tbody tr th {\n        vertical-align: top;\n    }\n\n    .dataframe thead th {\n        text-align: right;\n    }\n</style>\n<table border=\"1\" class=\"dataframe\">\n  <thead>\n    <tr style=\"text-align: right;\">\n      <th></th>\n      <th>beer_style</th>\n      <th>ibu_min</th>\n      <th>ibu_max</th>\n    </tr>\n  </thead>\n  <tbody>\n    <tr>\n      <th>0</th>\n      <td>Altbier</td>\n      <td>25.0</td>\n      <td>50.0</td>\n    </tr>\n    <tr>\n      <th>1</th>\n      <td>Amber Kellerbier</td>\n      <td>25.0</td>\n      <td>40.0</td>\n    </tr>\n    <tr>\n      <th>2</th>\n      <td>American Amber Ale</td>\n      <td>25.0</td>\n      <td>40.0</td>\n    </tr>\n    <tr>\n      <th>3</th>\n      <td>American Barleywine</td>\n      <td>50.0</td>\n      <td>100.0</td>\n    </tr>\n    <tr>\n      <th>4</th>\n      <td>American Brown Ale</td>\n      <td>20.0</td>\n      <td>30.0</td>\n    </tr>\n    <tr>\n      <th>...</th>\n      <td>...</td>\n      <td>...</td>\n      <td>...</td>\n    </tr>\n    <tr>\n      <th>192</th>\n      <td>Berliner Weissbier</td>\n      <td>7.0</td>\n      <td>7.0</td>\n    </tr>\n    <tr>\n      <th>193</th>\n      <td>Kvass</td>\n      <td>12.0</td>\n      <td>12.0</td>\n    </tr>\n    <tr>\n      <th>194</th>\n      <td>Faro</td>\n      <td>10.0</td>\n      <td>10.0</td>\n    </tr>\n    <tr>\n      <th>195</th>\n      <td>Happoshu</td>\n      <td>11.0</td>\n      <td>11.0</td>\n    </tr>\n    <tr>\n      <th>196</th>\n      <td>Bière de Champagne / Bière Brut</td>\n      <td>40.0</td>\n      <td>40.0</td>\n    </tr>\n  </tbody>\n</table>\n<p>197 rows × 3 columns</p>\n</div>"
     },
     "execution_count": 621,
     "metadata": {},
     "output_type": "execute_result"
    }
   ],
   "source": [
    "estilos = pd.read_csv('saida.csv')\n",
    "estilos"
   ],
   "metadata": {
    "collapsed": false,
    "ExecuteTime": {
     "end_time": "2023-08-10T01:48:10.339409600Z",
     "start_time": "2023-08-10T01:48:10.321274900Z"
    }
   }
  },
  {
   "cell_type": "code",
   "execution_count": 622,
   "outputs": [
    {
     "name": "stdout",
     "output_type": "stream",
     "text": [
      "0\n"
     ]
    }
   ],
   "source": [
    "valores_df1 = df['beer_style'].unique()\n",
    "\n",
    "# Obter os valores únicos da coluna 'coluna_igual' no segundo DataFrame\n",
    "valores_df2 = estilos['beer_style'].unique()\n",
    "\n",
    "# Identificar quais valores estão em valores_df1 e não estão em valores_df2\n",
    "valores_nao_em_df2 = [valor for valor in valores_df1 if valor not in valores_df2]\n",
    "print(len(valores_nao_em_df2))\n",
    "for valor in valores_nao_em_df2:\n",
    "    print(valor)"
   ],
   "metadata": {
    "collapsed": false,
    "ExecuteTime": {
     "end_time": "2023-08-10T01:48:10.589453400Z",
     "start_time": "2023-08-10T01:48:10.335404600Z"
    }
   }
  },
  {
   "cell_type": "markdown",
   "source": [
    "Bom ressaltar que inicialmente esse número não era 0, foi feito uma coleta de dados para que podessemos saber o ibu de cada cerveja. Agora vamos inserir essas informações no dataset"
   ],
   "metadata": {
    "collapsed": false
   }
  },
  {
   "cell_type": "code",
   "execution_count": 623,
   "outputs": [
    {
     "data": {
      "text/plain": "         review_time  review_overall  review_aroma  review_appearance  \\\n0         1234817823             1.5           2.0                2.5   \n1         1224350360             4.0           4.0                3.0   \n2         1316545215             4.0           3.5                3.0   \n3         1133896338             3.5           3.5                3.0   \n4         1193191936             4.0           4.0                3.5   \n...              ...             ...           ...                ...   \n1586261   1288562807             4.5           4.0                4.0   \n1586262   1288546131             4.0           4.0                3.5   \n1586263   1281632126             4.0           4.0                5.0   \n1586264   1279650183             5.0           4.0                4.5   \n1586265   1276009569             4.5           5.0                5.0   \n\n        review_profilename                       beer_style  review_palate  \\\n0                  stcules                       Hefeweizen            1.5   \n1              Likeburning                       Hefeweizen            4.0   \n2                   JamesS                       Hefeweizen            4.0   \n3                GusterFan                       Hefeweizen            3.0   \n4                 harpo111                       Hefeweizen            3.5   \n...                    ...                              ...            ...   \n1586261          MasterSki  Bière de Champagne / Bière Brut            4.5   \n1586262          jrallen34  Bière de Champagne / Bière Brut            4.5   \n1586263           Phyl21ca  Bière de Champagne / Bière Brut            4.0   \n1586264          wordemupg  Bière de Champagne / Bière Brut            4.5   \n1586265              bobsy  Bière de Champagne / Bière Brut            4.5   \n\n         review_taste              beer_name  beer_abv  beer_beerid  ibu_min  \\\n0                 1.5           Sausa Weizen       5.0        47986     10.0   \n1                 3.5             Hefeweizen       5.0        20575     10.0   \n2                 4.5            Hefe Weizen       4.5        73291     10.0   \n3                 3.5          Wheezy Heifer       5.5        27229     10.0   \n4                 3.5            Hefe-Weizen       5.5         2776     10.0   \n...               ...                    ...       ...          ...      ...   \n1586261           4.0  Dominus Vobiscum Brut      11.0        59014     40.0   \n1586262           4.0  Dominus Vobiscum Brut      11.0        59014     40.0   \n1586263           4.0  Dominus Vobiscum Brut      11.0        59014     40.0   \n1586264           4.5  Dominus Vobiscum Brut      11.0        59014     40.0   \n1586265           4.5  Dominus Vobiscum Brut      11.0        59014     40.0   \n\n         ibu_max  \n0           15.0  \n1           15.0  \n2           15.0  \n3           15.0  \n4           15.0  \n...          ...  \n1586261     40.0  \n1586262     40.0  \n1586263     40.0  \n1586264     40.0  \n1586265     40.0  \n\n[1586266 rows x 13 columns]",
      "text/html": "<div>\n<style scoped>\n    .dataframe tbody tr th:only-of-type {\n        vertical-align: middle;\n    }\n\n    .dataframe tbody tr th {\n        vertical-align: top;\n    }\n\n    .dataframe thead th {\n        text-align: right;\n    }\n</style>\n<table border=\"1\" class=\"dataframe\">\n  <thead>\n    <tr style=\"text-align: right;\">\n      <th></th>\n      <th>review_time</th>\n      <th>review_overall</th>\n      <th>review_aroma</th>\n      <th>review_appearance</th>\n      <th>review_profilename</th>\n      <th>beer_style</th>\n      <th>review_palate</th>\n      <th>review_taste</th>\n      <th>beer_name</th>\n      <th>beer_abv</th>\n      <th>beer_beerid</th>\n      <th>ibu_min</th>\n      <th>ibu_max</th>\n    </tr>\n  </thead>\n  <tbody>\n    <tr>\n      <th>0</th>\n      <td>1234817823</td>\n      <td>1.5</td>\n      <td>2.0</td>\n      <td>2.5</td>\n      <td>stcules</td>\n      <td>Hefeweizen</td>\n      <td>1.5</td>\n      <td>1.5</td>\n      <td>Sausa Weizen</td>\n      <td>5.0</td>\n      <td>47986</td>\n      <td>10.0</td>\n      <td>15.0</td>\n    </tr>\n    <tr>\n      <th>1</th>\n      <td>1224350360</td>\n      <td>4.0</td>\n      <td>4.0</td>\n      <td>3.0</td>\n      <td>Likeburning</td>\n      <td>Hefeweizen</td>\n      <td>4.0</td>\n      <td>3.5</td>\n      <td>Hefeweizen</td>\n      <td>5.0</td>\n      <td>20575</td>\n      <td>10.0</td>\n      <td>15.0</td>\n    </tr>\n    <tr>\n      <th>2</th>\n      <td>1316545215</td>\n      <td>4.0</td>\n      <td>3.5</td>\n      <td>3.0</td>\n      <td>JamesS</td>\n      <td>Hefeweizen</td>\n      <td>4.0</td>\n      <td>4.5</td>\n      <td>Hefe Weizen</td>\n      <td>4.5</td>\n      <td>73291</td>\n      <td>10.0</td>\n      <td>15.0</td>\n    </tr>\n    <tr>\n      <th>3</th>\n      <td>1133896338</td>\n      <td>3.5</td>\n      <td>3.5</td>\n      <td>3.0</td>\n      <td>GusterFan</td>\n      <td>Hefeweizen</td>\n      <td>3.0</td>\n      <td>3.5</td>\n      <td>Wheezy Heifer</td>\n      <td>5.5</td>\n      <td>27229</td>\n      <td>10.0</td>\n      <td>15.0</td>\n    </tr>\n    <tr>\n      <th>4</th>\n      <td>1193191936</td>\n      <td>4.0</td>\n      <td>4.0</td>\n      <td>3.5</td>\n      <td>harpo111</td>\n      <td>Hefeweizen</td>\n      <td>3.5</td>\n      <td>3.5</td>\n      <td>Hefe-Weizen</td>\n      <td>5.5</td>\n      <td>2776</td>\n      <td>10.0</td>\n      <td>15.0</td>\n    </tr>\n    <tr>\n      <th>...</th>\n      <td>...</td>\n      <td>...</td>\n      <td>...</td>\n      <td>...</td>\n      <td>...</td>\n      <td>...</td>\n      <td>...</td>\n      <td>...</td>\n      <td>...</td>\n      <td>...</td>\n      <td>...</td>\n      <td>...</td>\n      <td>...</td>\n    </tr>\n    <tr>\n      <th>1586261</th>\n      <td>1288562807</td>\n      <td>4.5</td>\n      <td>4.0</td>\n      <td>4.0</td>\n      <td>MasterSki</td>\n      <td>Bière de Champagne / Bière Brut</td>\n      <td>4.5</td>\n      <td>4.0</td>\n      <td>Dominus Vobiscum Brut</td>\n      <td>11.0</td>\n      <td>59014</td>\n      <td>40.0</td>\n      <td>40.0</td>\n    </tr>\n    <tr>\n      <th>1586262</th>\n      <td>1288546131</td>\n      <td>4.0</td>\n      <td>4.0</td>\n      <td>3.5</td>\n      <td>jrallen34</td>\n      <td>Bière de Champagne / Bière Brut</td>\n      <td>4.5</td>\n      <td>4.0</td>\n      <td>Dominus Vobiscum Brut</td>\n      <td>11.0</td>\n      <td>59014</td>\n      <td>40.0</td>\n      <td>40.0</td>\n    </tr>\n    <tr>\n      <th>1586263</th>\n      <td>1281632126</td>\n      <td>4.0</td>\n      <td>4.0</td>\n      <td>5.0</td>\n      <td>Phyl21ca</td>\n      <td>Bière de Champagne / Bière Brut</td>\n      <td>4.0</td>\n      <td>4.0</td>\n      <td>Dominus Vobiscum Brut</td>\n      <td>11.0</td>\n      <td>59014</td>\n      <td>40.0</td>\n      <td>40.0</td>\n    </tr>\n    <tr>\n      <th>1586264</th>\n      <td>1279650183</td>\n      <td>5.0</td>\n      <td>4.0</td>\n      <td>4.5</td>\n      <td>wordemupg</td>\n      <td>Bière de Champagne / Bière Brut</td>\n      <td>4.5</td>\n      <td>4.5</td>\n      <td>Dominus Vobiscum Brut</td>\n      <td>11.0</td>\n      <td>59014</td>\n      <td>40.0</td>\n      <td>40.0</td>\n    </tr>\n    <tr>\n      <th>1586265</th>\n      <td>1276009569</td>\n      <td>4.5</td>\n      <td>5.0</td>\n      <td>5.0</td>\n      <td>bobsy</td>\n      <td>Bière de Champagne / Bière Brut</td>\n      <td>4.5</td>\n      <td>4.5</td>\n      <td>Dominus Vobiscum Brut</td>\n      <td>11.0</td>\n      <td>59014</td>\n      <td>40.0</td>\n      <td>40.0</td>\n    </tr>\n  </tbody>\n</table>\n<p>1586266 rows × 13 columns</p>\n</div>"
     },
     "execution_count": 623,
     "metadata": {},
     "output_type": "execute_result"
    }
   ],
   "source": [
    "df = pd.merge(df, estilos, on='beer_style')\n",
    "\n",
    "df"
   ],
   "metadata": {
    "collapsed": false,
    "ExecuteTime": {
     "end_time": "2023-08-10T01:48:11.037215600Z",
     "start_time": "2023-08-10T01:48:10.504375300Z"
    }
   }
  },
  {
   "cell_type": "markdown",
   "source": [
    "Contudo, não é muito bom trabalharmos com esses intervalos, por isso, vamos trazer como um valor único, sendo a média entre ambos."
   ],
   "metadata": {
    "collapsed": false
   }
  },
  {
   "cell_type": "code",
   "execution_count": 624,
   "outputs": [],
   "source": [
    "df['mean ibu'] = (df['ibu_min'] + df['ibu_max'])/2"
   ],
   "metadata": {
    "collapsed": false,
    "ExecuteTime": {
     "end_time": "2023-08-10T01:48:11.055632700Z",
     "start_time": "2023-08-10T01:48:11.037215600Z"
    }
   }
  },
  {
   "cell_type": "code",
   "execution_count": 625,
   "outputs": [],
   "source": [
    "df = df.drop(columns=['ibu_min', 'ibu_max'],axis=1)"
   ],
   "metadata": {
    "collapsed": false,
    "ExecuteTime": {
     "end_time": "2023-08-10T01:48:11.187792900Z",
     "start_time": "2023-08-10T01:48:11.055632700Z"
    }
   }
  },
  {
   "cell_type": "markdown",
   "source": [
    "Será que temos variáveis muito correlacionadas? Ou seja, será que temos variáveis que são explicadas por outras?"
   ],
   "metadata": {
    "collapsed": false
   }
  },
  {
   "cell_type": "code",
   "execution_count": 626,
   "outputs": [],
   "source": [
    "df_c = ['beer_abv','mean ibu']\n",
    "df_c.extend(review_colunms)\n",
    "\n",
    "df_cc = df[df_c]"
   ],
   "metadata": {
    "collapsed": false,
    "ExecuteTime": {
     "end_time": "2023-08-10T01:48:11.368642Z",
     "start_time": "2023-08-10T01:48:11.170777500Z"
    }
   }
  },
  {
   "cell_type": "code",
   "execution_count": 627,
   "outputs": [
    {
     "data": {
      "text/plain": "<Figure size 1000x800 with 2 Axes>",
      "image/png": "[encoded data removed]"
     },
     "metadata": {},
     "output_type": "display_data"
    }
   ],
   "source": [
    "correlation_matrix = df_cc.corr(method='spearman')\n",
    "\n",
    "# Plotando a matriz de correlação como um heatmap\n",
    "plt.figure(figsize=(10, 8))\n",
    "sns.heatmap(correlation_matrix, annot=True, cmap='YlGnBu', vmin=-1, vmax=1)\n",
    "plt.title('Matriz de Correlação (Spearman)')\n",
    "plt.show()"
   ],
   "metadata": {
    "collapsed": false,
    "ExecuteTime": {
     "end_time": "2023-08-10T01:48:14.140395800Z",
     "start_time": "2023-08-10T01:48:11.370643800Z"
    }
   }
  },
  {
   "cell_type": "markdown",
   "source": [
    "Essa matriz de correlação nos traz algumas coisas interessantes como, por exemplo, conseguimos ver quais são os fatores que mais influência na nota final dada a uma cerveja. Vemos aqui, por exemplo, que a nota dada para o sabor tem uma influencia direta na nota final da cerveja. Já a aparência tem certa influência, mas não tanta."
   ],
   "metadata": {
    "collapsed": false
   }
  },
  {
   "cell_type": "markdown",
   "source": [
    "vemos também que não faz sentido para nossa análise levar em consideração a data que o review foi feito"
   ],
   "metadata": {
    "collapsed": false
   }
  },
  {
   "cell_type": "code",
   "execution_count": 628,
   "outputs": [],
   "source": [
    "df = df.drop(columns=['review_time'],axis=1)"
   ],
   "metadata": {
    "collapsed": false,
    "ExecuteTime": {
     "end_time": "2023-08-10T01:48:14.294197900Z",
     "start_time": "2023-08-10T01:48:14.138393600Z"
    }
   }
  },
  {
   "cell_type": "code",
   "execution_count": 629,
   "outputs": [
    {
     "data": {
      "text/plain": "         review_overall  review_aroma  review_appearance review_profilename  \\\n0                   1.5           2.0                2.5            stcules   \n1                   4.0           4.0                3.0        Likeburning   \n2                   4.0           3.5                3.0             JamesS   \n3                   3.5           3.5                3.0          GusterFan   \n4                   4.0           4.0                3.5           harpo111   \n...                 ...           ...                ...                ...   \n1586261             4.5           4.0                4.0          MasterSki   \n1586262             4.0           4.0                3.5          jrallen34   \n1586263             4.0           4.0                5.0           Phyl21ca   \n1586264             5.0           4.0                4.5          wordemupg   \n1586265             4.5           5.0                5.0              bobsy   \n\n                              beer_style  review_palate  review_taste  \\\n0                             Hefeweizen            1.5           1.5   \n1                             Hefeweizen            4.0           3.5   \n2                             Hefeweizen            4.0           4.5   \n3                             Hefeweizen            3.0           3.5   \n4                             Hefeweizen            3.5           3.5   \n...                                  ...            ...           ...   \n1586261  Bière de Champagne / Bière Brut            4.5           4.0   \n1586262  Bière de Champagne / Bière Brut            4.5           4.0   \n1586263  Bière de Champagne / Bière Brut            4.0           4.0   \n1586264  Bière de Champagne / Bière Brut            4.5           4.5   \n1586265  Bière de Champagne / Bière Brut            4.5           4.5   \n\n                     beer_name  beer_abv  beer_beerid  mean ibu  \n0                 Sausa Weizen       5.0        47986      12.5  \n1                   Hefeweizen       5.0        20575      12.5  \n2                  Hefe Weizen       4.5        73291      12.5  \n3                Wheezy Heifer       5.5        27229      12.5  \n4                  Hefe-Weizen       5.5         2776      12.5  \n...                        ...       ...          ...       ...  \n1586261  Dominus Vobiscum Brut      11.0        59014      40.0  \n1586262  Dominus Vobiscum Brut      11.0        59014      40.0  \n1586263  Dominus Vobiscum Brut      11.0        59014      40.0  \n1586264  Dominus Vobiscum Brut      11.0        59014      40.0  \n1586265  Dominus Vobiscum Brut      11.0        59014      40.0  \n\n[1586266 rows x 11 columns]",
      "text/html": "<div>\n<style scoped>\n    .dataframe tbody tr th:only-of-type {\n        vertical-align: middle;\n    }\n\n    .dataframe tbody tr th {\n        vertical-align: top;\n    }\n\n    .dataframe thead th {\n        text-align: right;\n    }\n</style>\n<table border=\"1\" class=\"dataframe\">\n  <thead>\n    <tr style=\"text-align: right;\">\n      <th></th>\n      <th>review_overall</th>\n      <th>review_aroma</th>\n      <th>review_appearance</th>\n      <th>review_profilename</th>\n      <th>beer_style</th>\n      <th>review_palate</th>\n      <th>review_taste</th>\n      <th>beer_name</th>\n      <th>beer_abv</th>\n      <th>beer_beerid</th>\n      <th>mean ibu</th>\n    </tr>\n  </thead>\n  <tbody>\n    <tr>\n      <th>0</th>\n      <td>1.5</td>\n      <td>2.0</td>\n      <td>2.5</td>\n      <td>stcules</td>\n      <td>Hefeweizen</td>\n      <td>1.5</td>\n      <td>1.5</td>\n      <td>Sausa Weizen</td>\n      <td>5.0</td>\n      <td>47986</td>\n      <td>12.5</td>\n    </tr>\n    <tr>\n      <th>1</th>\n      <td>4.0</td>\n      <td>4.0</td>\n      <td>3.0</td>\n      <td>Likeburning</td>\n      <td>Hefeweizen</td>\n      <td>4.0</td>\n      <td>3.5</td>\n      <td>Hefeweizen</td>\n      <td>5.0</td>\n      <td>20575</td>\n      <td>12.5</td>\n    </tr>\n    <tr>\n      <th>2</th>\n      <td>4.0</td>\n      <td>3.5</td>\n      <td>3.0</td>\n      <td>JamesS</td>\n      <td>Hefeweizen</td>\n      <td>4.0</td>\n      <td>4.5</td>\n      <td>Hefe Weizen</td>\n      <td>4.5</td>\n      <td>73291</td>\n      <td>12.5</td>\n    </tr>\n    <tr>\n      <th>3</th>\n      <td>3.5</td>\n      <td>3.5</td>\n      <td>3.0</td>\n      <td>GusterFan</td>\n      <td>Hefeweizen</td>\n      <td>3.0</td>\n      <td>3.5</td>\n      <td>Wheezy Heifer</td>\n      <td>5.5</td>\n      <td>27229</td>\n      <td>12.5</td>\n    </tr>\n    <tr>\n      <th>4</th>\n      <td>4.0</td>\n      <td>4.0</td>\n      <td>3.5</td>\n      <td>harpo111</td>\n      <td>Hefeweizen</td>\n      <td>3.5</td>\n      <td>3.5</td>\n      <td>Hefe-Weizen</td>\n      <td>5.5</td>\n      <td>2776</td>\n      <td>12.5</td>\n    </tr>\n    <tr>\n      <th>...</th>\n      <td>...</td>\n      <td>...</td>\n      <td>...</td>\n      <td>...</td>\n      <td>...</td>\n      <td>...</td>\n      <td>...</td>\n      <td>...</td>\n      <td>...</td>\n      <td>...</td>\n      <td>...</td>\n    </tr>\n    <tr>\n      <th>1586261</th>\n      <td>4.5</td>\n      <td>4.0</td>\n      <td>4.0</td>\n      <td>MasterSki</td>\n      <td>Bière de Champagne / Bière Brut</td>\n      <td>4.5</td>\n      <td>4.0</td>\n      <td>Dominus Vobiscum Brut</td>\n      <td>11.0</td>\n      <td>59014</td>\n      <td>40.0</td>\n    </tr>\n    <tr>\n      <th>1586262</th>\n      <td>4.0</td>\n      <td>4.0</td>\n      <td>3.5</td>\n      <td>jrallen34</td>\n      <td>Bière de Champagne / Bière Brut</td>\n      <td>4.5</td>\n      <td>4.0</td>\n      <td>Dominus Vobiscum Brut</td>\n      <td>11.0</td>\n      <td>59014</td>\n      <td>40.0</td>\n    </tr>\n    <tr>\n      <th>1586263</th>\n      <td>4.0</td>\n      <td>4.0</td>\n      <td>5.0</td>\n      <td>Phyl21ca</td>\n      <td>Bière de Champagne / Bière Brut</td>\n      <td>4.0</td>\n      <td>4.0</td>\n      <td>Dominus Vobiscum Brut</td>\n      <td>11.0</td>\n      <td>59014</td>\n      <td>40.0</td>\n    </tr>\n    <tr>\n      <th>1586264</th>\n      <td>5.0</td>\n      <td>4.0</td>\n      <td>4.5</td>\n      <td>wordemupg</td>\n      <td>Bière de Champagne / Bière Brut</td>\n      <td>4.5</td>\n      <td>4.5</td>\n      <td>Dominus Vobiscum Brut</td>\n      <td>11.0</td>\n      <td>59014</td>\n      <td>40.0</td>\n    </tr>\n    <tr>\n      <th>1586265</th>\n      <td>4.5</td>\n      <td>5.0</td>\n      <td>5.0</td>\n      <td>bobsy</td>\n      <td>Bière de Champagne / Bière Brut</td>\n      <td>4.5</td>\n      <td>4.5</td>\n      <td>Dominus Vobiscum Brut</td>\n      <td>11.0</td>\n      <td>59014</td>\n      <td>40.0</td>\n    </tr>\n  </tbody>\n</table>\n<p>1586266 rows × 11 columns</p>\n</div>"
     },
     "execution_count": 629,
     "metadata": {},
     "output_type": "execute_result"
    }
   ],
   "source": [
    "df"
   ],
   "metadata": {
    "collapsed": false,
    "ExecuteTime": {
     "end_time": "2023-08-10T01:48:14.295199Z",
     "start_time": "2023-08-10T01:48:14.266615600Z"
    }
   }
  },
  {
   "cell_type": "code",
   "execution_count": 630,
   "outputs": [
    {
     "data": {
      "text/plain": "       beer_beerid  count\n0             2093   3289\n1              412   3110\n2             1904   2999\n3             1093   2727\n4               92   2702\n...            ...    ...\n66046        59983      1\n66047        40239      1\n66048        72871      1\n66049        56688      1\n66050        47986      1\n\n[66051 rows x 2 columns]",
      "text/html": "<div>\n<style scoped>\n    .dataframe tbody tr th:only-of-type {\n        vertical-align: middle;\n    }\n\n    .dataframe tbody tr th {\n        vertical-align: top;\n    }\n\n    .dataframe thead th {\n        text-align: right;\n    }\n</style>\n<table border=\"1\" class=\"dataframe\">\n  <thead>\n    <tr style=\"text-align: right;\">\n      <th></th>\n      <th>beer_beerid</th>\n      <th>count</th>\n    </tr>\n  </thead>\n  <tbody>\n    <tr>\n      <th>0</th>\n      <td>2093</td>\n      <td>3289</td>\n    </tr>\n    <tr>\n      <th>1</th>\n      <td>412</td>\n      <td>3110</td>\n    </tr>\n    <tr>\n      <th>2</th>\n      <td>1904</td>\n      <td>2999</td>\n    </tr>\n    <tr>\n      <th>3</th>\n      <td>1093</td>\n      <td>2727</td>\n    </tr>\n    <tr>\n      <th>4</th>\n      <td>92</td>\n      <td>2702</td>\n    </tr>\n    <tr>\n      <th>...</th>\n      <td>...</td>\n      <td>...</td>\n    </tr>\n    <tr>\n      <th>66046</th>\n      <td>59983</td>\n      <td>1</td>\n    </tr>\n    <tr>\n      <th>66047</th>\n      <td>40239</td>\n      <td>1</td>\n    </tr>\n    <tr>\n      <th>66048</th>\n      <td>72871</td>\n      <td>1</td>\n    </tr>\n    <tr>\n      <th>66049</th>\n      <td>56688</td>\n      <td>1</td>\n    </tr>\n    <tr>\n      <th>66050</th>\n      <td>47986</td>\n      <td>1</td>\n    </tr>\n  </tbody>\n</table>\n<p>66051 rows × 2 columns</p>\n</div>"
     },
     "execution_count": 630,
     "metadata": {},
     "output_type": "execute_result"
    }
   ],
   "source": [
    "beerid_counts = df['beer_beerid'].value_counts().reset_index()\n",
    "beerid_counts.columns = ['beer_beerid', 'count']\n",
    "beerid_counts"
   ],
   "metadata": {
    "collapsed": false,
    "ExecuteTime": {
     "end_time": "2023-08-10T01:48:14.322392200Z",
     "start_time": "2023-08-10T01:48:14.288193100Z"
    }
   }
  },
  {
   "cell_type": "code",
   "execution_count": 631,
   "outputs": [
    {
     "data": {
      "text/plain": "count    66051.000000\nmean        24.015776\nstd        110.838706\nmin          1.000000\n25%          1.000000\n50%          2.000000\n75%          7.000000\nmax       3289.000000\nName: count, dtype: float64"
     },
     "execution_count": 631,
     "metadata": {},
     "output_type": "execute_result"
    }
   ],
   "source": [
    "beerid_counts['count'].describe()"
   ],
   "metadata": {
    "collapsed": false,
    "ExecuteTime": {
     "end_time": "2023-08-10T01:48:14.352093900Z",
     "start_time": "2023-08-10T01:48:14.322392200Z"
    }
   }
  },
  {
   "cell_type": "code",
   "execution_count": 632,
   "outputs": [],
   "source": [
    "profile_counts = df['review_profilename'].value_counts().reset_index()\n",
    "beerid_counts.columns = ['review_profilename', 'count']"
   ],
   "metadata": {
    "collapsed": false,
    "ExecuteTime": {
     "end_time": "2023-08-10T01:48:14.624724700Z",
     "start_time": "2023-08-10T01:48:14.334077300Z"
    }
   }
  },
  {
   "cell_type": "code",
   "execution_count": 633,
   "outputs": [
    {
     "data": {
      "text/plain": "                 index  review_profilename\n0       northyorksammy                5817\n1        BuckeyeNation                4661\n2          mikesgroove                4617\n3            Thorpe429                3518\n4        womencantsail                3497\n...                ...                 ...\n33382         adam7475                   1\n33383  BayouBreweryRob                   1\n33384          Calchas                   1\n33385          JustinL                   1\n33386           ScottF                   1\n\n[33387 rows x 2 columns]",
      "text/html": "<div>\n<style scoped>\n    .dataframe tbody tr th:only-of-type {\n        vertical-align: middle;\n    }\n\n    .dataframe tbody tr th {\n        vertical-align: top;\n    }\n\n    .dataframe thead th {\n        text-align: right;\n    }\n</style>\n<table border=\"1\" class=\"dataframe\">\n  <thead>\n    <tr style=\"text-align: right;\">\n      <th></th>\n      <th>index</th>\n      <th>review_profilename</th>\n    </tr>\n  </thead>\n  <tbody>\n    <tr>\n      <th>0</th>\n      <td>northyorksammy</td>\n      <td>5817</td>\n    </tr>\n    <tr>\n      <th>1</th>\n      <td>BuckeyeNation</td>\n      <td>4661</td>\n    </tr>\n    <tr>\n      <th>2</th>\n      <td>mikesgroove</td>\n      <td>4617</td>\n    </tr>\n    <tr>\n      <th>3</th>\n      <td>Thorpe429</td>\n      <td>3518</td>\n    </tr>\n    <tr>\n      <th>4</th>\n      <td>womencantsail</td>\n      <td>3497</td>\n    </tr>\n    <tr>\n      <th>...</th>\n      <td>...</td>\n      <td>...</td>\n    </tr>\n    <tr>\n      <th>33382</th>\n      <td>adam7475</td>\n      <td>1</td>\n    </tr>\n    <tr>\n      <th>33383</th>\n      <td>BayouBreweryRob</td>\n      <td>1</td>\n    </tr>\n    <tr>\n      <th>33384</th>\n      <td>Calchas</td>\n      <td>1</td>\n    </tr>\n    <tr>\n      <th>33385</th>\n      <td>JustinL</td>\n      <td>1</td>\n    </tr>\n    <tr>\n      <th>33386</th>\n      <td>ScottF</td>\n      <td>1</td>\n    </tr>\n  </tbody>\n</table>\n<p>33387 rows × 2 columns</p>\n</div>"
     },
     "execution_count": 633,
     "metadata": {},
     "output_type": "execute_result"
    }
   ],
   "source": [
    "profile_counts"
   ],
   "metadata": {
    "collapsed": false,
    "ExecuteTime": {
     "end_time": "2023-08-10T01:48:14.640049100Z",
     "start_time": "2023-08-10T01:48:14.626723800Z"
    }
   }
  },
  {
   "cell_type": "code",
   "execution_count": 634,
   "outputs": [
    {
     "data": {
      "text/plain": "count    33387.000000\nmean        47.511487\nstd        182.599759\nmin          1.000000\n25%          1.000000\n50%          3.000000\n75%         16.000000\nmax       5817.000000\nName: review_profilename, dtype: float64"
     },
     "execution_count": 634,
     "metadata": {},
     "output_type": "execute_result"
    }
   ],
   "source": [
    "profile_counts['review_profilename'].describe()"
   ],
   "metadata": {
    "collapsed": false,
    "ExecuteTime": {
     "end_time": "2023-08-10T01:48:14.727957600Z",
     "start_time": "2023-08-10T01:48:14.641050300Z"
    }
   }
  },
  {
   "cell_type": "markdown",
   "source": [
    "Aqui vemos um pequeno problema, temos cervejas que foram avaliadas muito poucas vezes, assim como temos usuarios que avaliaram muito pouco. Opiniões de usuários que avaliaram apenas algumas vezes podem não ser tão confiáveis quanto as de usuários que avaliaram mais vezes. Da mesma forma, cervejas avaliadas poucas vezes podem ter avaliações menos consistentes e informativas. Avaliações com baixas ocorrências podem afetar análises estatísticas e modelagem. Modelos de recomendação, por exemplo, podem ter dificuldade em encontrar padrões significativos em avaliações escassas. Por isso, vamos excluir os usuarios que avaliaram pouco e as cervejas que foram pouco avaliadas\n",
    "\n"
   ],
   "metadata": {
    "collapsed": false
   }
  },
  {
   "cell_type": "code",
   "execution_count": 635,
   "outputs": [],
   "source": [
    "beerid_counts = df['beer_beerid'].value_counts()\n",
    "profilename_counts = df['review_profilename'].value_counts()\n",
    "\n",
    "# Filtrando cervejas com menos de 20 avaliações e usuários com menos de 10 avaliações\n",
    "beerids_to_keep = beerid_counts[beerid_counts >= 25].index\n",
    "profilenames_to_keep = profilename_counts[profilename_counts >= 15].index"
   ],
   "metadata": {
    "collapsed": false,
    "ExecuteTime": {
     "end_time": "2023-08-10T01:48:14.949267300Z",
     "start_time": "2023-08-10T01:48:14.666902100Z"
    }
   }
  },
  {
   "cell_type": "markdown",
   "source": [
    "\"Perdemos\" 20 mil dados no caminho"
   ],
   "metadata": {
    "collapsed": false
   }
  },
  {
   "cell_type": "markdown",
   "source": [
    "MODEL"
   ],
   "metadata": {
    "collapsed": false
   }
  },
  {
   "cell_type": "markdown",
   "source": [
    "Vamos iniciar com uma abordagem de filtragem demográfica, tirando a nota média de cada cerveja, e adicionando quantas vezes cada cerveja aparece, ou seja, foi avaliada."
   ],
   "metadata": {
    "collapsed": false
   }
  },
  {
   "cell_type": "code",
   "execution_count": 636,
   "outputs": [
    {
     "name": "stderr",
     "output_type": "stream",
     "text": [
      "C:\\Users\\Artur\\AppData\\Local\\Temp\\ipykernel_14096\\456656070.py:3: SettingWithCopyWarning: \n",
      "A value is trying to be set on a copy of a slice from a DataFrame.\n",
      "Try using .loc[row_indexer,col_indexer] = value instead\n",
      "\n",
      "See the caveats in the documentation: https://pandas.pydata.org/pandas-docs/stable/user_guide/indexing.html#returning-a-view-versus-a-copy\n",
      "  dem['beer_vote_count'] = df.groupby('beer_beerid')['beer_beerid'].transform('count')\n"
     ]
    }
   ],
   "source": [
    "df = df[df['beer_beerid'].isin(beerids_to_keep) & df['review_profilename'].isin(profilenames_to_keep)]\n",
    "dem = df.drop_duplicates(subset=['beer_beerid'])\n",
    "dem['beer_vote_count'] = df.groupby('beer_beerid')['beer_beerid'].transform('count')"
   ],
   "metadata": {
    "collapsed": false,
    "ExecuteTime": {
     "end_time": "2023-08-10T01:48:15.327396700Z",
     "start_time": "2023-08-10T01:48:14.950260500Z"
    }
   }
  },
  {
   "cell_type": "code",
   "execution_count": 637,
   "outputs": [
    {
     "data": {
      "text/plain": "         review_overall  review_aroma  review_appearance review_profilename  \\\n1                   4.0           4.0                3.0        Likeburning   \n26                  3.5           3.5                3.0          superspak   \n28                  4.0           4.0                3.0      Viciousknishs   \n29                  3.5           3.5                4.0      sixerofelixir   \n30                  4.0           4.0                4.5           Trystero   \n...                 ...           ...                ...                ...   \n1586242             4.0           4.0                4.5          clickpush   \n1586243             2.0           3.0                3.0    blitheringidiot   \n1586244             4.0           3.5                3.5          IntriqKen   \n1586245             4.0           3.5                4.0                Ego   \n1586246             4.0           3.5                4.0        GCBrewingCo   \n\n                              beer_style  review_palate  review_taste  \\\n1                             Hefeweizen            4.0           3.5   \n26                            Hefeweizen            4.0           4.0   \n28                            Hefeweizen            3.5           3.5   \n29                            Hefeweizen            4.0           4.0   \n30                            Hefeweizen            4.5           4.0   \n...                                  ...            ...           ...   \n1586242  Bière de Champagne / Bière Brut            2.5           3.5   \n1586243  Bière de Champagne / Bière Brut            3.0           3.0   \n1586244  Bière de Champagne / Bière Brut            4.0           4.5   \n1586245  Bière de Champagne / Bière Brut            4.0           3.5   \n1586246  Bière de Champagne / Bière Brut            4.0           3.5   \n\n                   beer_name  beer_abv  beer_beerid  mean ibu  \n1                 Hefeweizen       5.0        20575      12.5  \n26       Wild Frog Wheat Ale       6.0        36862      12.5  \n28       Wild Frog Wheat Ale       6.0        36862      12.5  \n29       Wild Frog Wheat Ale       6.0        36862      12.5  \n30       Wild Frog Wheat Ale       6.0        36862      12.5  \n...                      ...       ...          ...       ...  \n1586242       Krait Prestige       8.0        33766      40.0  \n1586243       Krait Prestige       8.0        33766      40.0  \n1586244       Krait Prestige       8.0        33766      40.0  \n1586245       Krait Prestige       8.0        33766      40.0  \n1586246       Krait Prestige       8.0        33766      40.0  \n\n[1289815 rows x 11 columns]",
      "text/html": "<div>\n<style scoped>\n    .dataframe tbody tr th:only-of-type {\n        vertical-align: middle;\n    }\n\n    .dataframe tbody tr th {\n        vertical-align: top;\n    }\n\n    .dataframe thead th {\n        text-align: right;\n    }\n</style>\n<table border=\"1\" class=\"dataframe\">\n  <thead>\n    <tr style=\"text-align: right;\">\n      <th></th>\n      <th>review_overall</th>\n      <th>review_aroma</th>\n      <th>review_appearance</th>\n      <th>review_profilename</th>\n      <th>beer_style</th>\n      <th>review_palate</th>\n      <th>review_taste</th>\n      <th>beer_name</th>\n      <th>beer_abv</th>\n      <th>beer_beerid</th>\n      <th>mean ibu</th>\n    </tr>\n  </thead>\n  <tbody>\n    <tr>\n      <th>1</th>\n      <td>4.0</td>\n      <td>4.0</td>\n      <td>3.0</td>\n      <td>Likeburning</td>\n      <td>Hefeweizen</td>\n      <td>4.0</td>\n      <td>3.5</td>\n      <td>Hefeweizen</td>\n      <td>5.0</td>\n      <td>20575</td>\n      <td>12.5</td>\n    </tr>\n    <tr>\n      <th>26</th>\n      <td>3.5</td>\n      <td>3.5</td>\n      <td>3.0</td>\n      <td>superspak</td>\n      <td>Hefeweizen</td>\n      <td>4.0</td>\n      <td>4.0</td>\n      <td>Wild Frog Wheat Ale</td>\n      <td>6.0</td>\n      <td>36862</td>\n      <td>12.5</td>\n    </tr>\n    <tr>\n      <th>28</th>\n      <td>4.0</td>\n      <td>4.0</td>\n      <td>3.0</td>\n      <td>Viciousknishs</td>\n      <td>Hefeweizen</td>\n      <td>3.5</td>\n      <td>3.5</td>\n      <td>Wild Frog Wheat Ale</td>\n      <td>6.0</td>\n      <td>36862</td>\n      <td>12.5</td>\n    </tr>\n    <tr>\n      <th>29</th>\n      <td>3.5</td>\n      <td>3.5</td>\n      <td>4.0</td>\n      <td>sixerofelixir</td>\n      <td>Hefeweizen</td>\n      <td>4.0</td>\n      <td>4.0</td>\n      <td>Wild Frog Wheat Ale</td>\n      <td>6.0</td>\n      <td>36862</td>\n      <td>12.5</td>\n    </tr>\n    <tr>\n      <th>30</th>\n      <td>4.0</td>\n      <td>4.0</td>\n      <td>4.5</td>\n      <td>Trystero</td>\n      <td>Hefeweizen</td>\n      <td>4.5</td>\n      <td>4.0</td>\n      <td>Wild Frog Wheat Ale</td>\n      <td>6.0</td>\n      <td>36862</td>\n      <td>12.5</td>\n    </tr>\n    <tr>\n      <th>...</th>\n      <td>...</td>\n      <td>...</td>\n      <td>...</td>\n      <td>...</td>\n      <td>...</td>\n      <td>...</td>\n      <td>...</td>\n      <td>...</td>\n      <td>...</td>\n      <td>...</td>\n      <td>...</td>\n    </tr>\n    <tr>\n      <th>1586242</th>\n      <td>4.0</td>\n      <td>4.0</td>\n      <td>4.5</td>\n      <td>clickpush</td>\n      <td>Bière de Champagne / Bière Brut</td>\n      <td>2.5</td>\n      <td>3.5</td>\n      <td>Krait Prestige</td>\n      <td>8.0</td>\n      <td>33766</td>\n      <td>40.0</td>\n    </tr>\n    <tr>\n      <th>1586243</th>\n      <td>2.0</td>\n      <td>3.0</td>\n      <td>3.0</td>\n      <td>blitheringidiot</td>\n      <td>Bière de Champagne / Bière Brut</td>\n      <td>3.0</td>\n      <td>3.0</td>\n      <td>Krait Prestige</td>\n      <td>8.0</td>\n      <td>33766</td>\n      <td>40.0</td>\n    </tr>\n    <tr>\n      <th>1586244</th>\n      <td>4.0</td>\n      <td>3.5</td>\n      <td>3.5</td>\n      <td>IntriqKen</td>\n      <td>Bière de Champagne / Bière Brut</td>\n      <td>4.0</td>\n      <td>4.5</td>\n      <td>Krait Prestige</td>\n      <td>8.0</td>\n      <td>33766</td>\n      <td>40.0</td>\n    </tr>\n    <tr>\n      <th>1586245</th>\n      <td>4.0</td>\n      <td>3.5</td>\n      <td>4.0</td>\n      <td>Ego</td>\n      <td>Bière de Champagne / Bière Brut</td>\n      <td>4.0</td>\n      <td>3.5</td>\n      <td>Krait Prestige</td>\n      <td>8.0</td>\n      <td>33766</td>\n      <td>40.0</td>\n    </tr>\n    <tr>\n      <th>1586246</th>\n      <td>4.0</td>\n      <td>3.5</td>\n      <td>4.0</td>\n      <td>GCBrewingCo</td>\n      <td>Bière de Champagne / Bière Brut</td>\n      <td>4.0</td>\n      <td>3.5</td>\n      <td>Krait Prestige</td>\n      <td>8.0</td>\n      <td>33766</td>\n      <td>40.0</td>\n    </tr>\n  </tbody>\n</table>\n<p>1289815 rows × 11 columns</p>\n</div>"
     },
     "execution_count": 637,
     "metadata": {},
     "output_type": "execute_result"
    }
   ],
   "source": [
    "df"
   ],
   "metadata": {
    "collapsed": false
   }
  },
  {
   "cell_type": "code",
   "execution_count": 638,
   "outputs": [
    {
     "name": "stderr",
     "output_type": "stream",
     "text": [
      "C:\\Users\\Artur\\AppData\\Local\\Temp\\ipykernel_14096\\1781497202.py:4: SettingWithCopyWarning: \n",
      "A value is trying to be set on a copy of a slice from a DataFrame.\n",
      "Try using .loc[row_indexer,col_indexer] = value instead\n",
      "\n",
      "See the caveats in the documentation: https://pandas.pydata.org/pandas-docs/stable/user_guide/indexing.html#returning-a-view-versus-a-copy\n",
      "  df['avg_user_score'] = df['review_profilename'].map(user_avg_scores)\n"
     ]
    }
   ],
   "source": [
    "user_avg_scores = df.groupby('review_profilename')['review_overall'].mean()\n",
    "\n",
    "# Criar uma nova coluna 'avg_user_score' no DataFrame original\n",
    "df['avg_user_score'] = df['review_profilename'].map(user_avg_scores)"
   ],
   "metadata": {
    "collapsed": false
   }
  },
  {
   "cell_type": "code",
   "execution_count": 639,
   "outputs": [
    {
     "data": {
      "text/plain": "         review_overall  review_aroma  review_appearance review_profilename  \\\n1                   4.0           4.0                3.0        Likeburning   \n26                  3.5           3.5                3.0          superspak   \n28                  4.0           4.0                3.0      Viciousknishs   \n29                  3.5           3.5                4.0      sixerofelixir   \n30                  4.0           4.0                4.5           Trystero   \n...                 ...           ...                ...                ...   \n1586242             4.0           4.0                4.5          clickpush   \n1586243             2.0           3.0                3.0    blitheringidiot   \n1586244             4.0           3.5                3.5          IntriqKen   \n1586245             4.0           3.5                4.0                Ego   \n1586246             4.0           3.5                4.0        GCBrewingCo   \n\n                              beer_style  review_palate  review_taste  \\\n1                             Hefeweizen            4.0           3.5   \n26                            Hefeweizen            4.0           4.0   \n28                            Hefeweizen            3.5           3.5   \n29                            Hefeweizen            4.0           4.0   \n30                            Hefeweizen            4.5           4.0   \n...                                  ...            ...           ...   \n1586242  Bière de Champagne / Bière Brut            2.5           3.5   \n1586243  Bière de Champagne / Bière Brut            3.0           3.0   \n1586244  Bière de Champagne / Bière Brut            4.0           4.5   \n1586245  Bière de Champagne / Bière Brut            4.0           3.5   \n1586246  Bière de Champagne / Bière Brut            4.0           3.5   \n\n                   beer_name  beer_abv  beer_beerid  mean ibu  avg_user_score  \n1                 Hefeweizen       5.0        20575      12.5        3.423077  \n26       Wild Frog Wheat Ale       6.0        36862      12.5        4.038012  \n28       Wild Frog Wheat Ale       6.0        36862      12.5        3.966258  \n29       Wild Frog Wheat Ale       6.0        36862      12.5        3.663380  \n30       Wild Frog Wheat Ale       6.0        36862      12.5        4.240000  \n...                      ...       ...          ...       ...             ...  \n1586242       Krait Prestige       8.0        33766      40.0        3.824232  \n1586243       Krait Prestige       8.0        33766      40.0        3.669089  \n1586244       Krait Prestige       8.0        33766      40.0        3.955544  \n1586245       Krait Prestige       8.0        33766      40.0        3.893557  \n1586246       Krait Prestige       8.0        33766      40.0        3.957006  \n\n[1289815 rows x 12 columns]",
      "text/html": "<div>\n<style scoped>\n    .dataframe tbody tr th:only-of-type {\n        vertical-align: middle;\n    }\n\n    .dataframe tbody tr th {\n        vertical-align: top;\n    }\n\n    .dataframe thead th {\n        text-align: right;\n    }\n</style>\n<table border=\"1\" class=\"dataframe\">\n  <thead>\n    <tr style=\"text-align: right;\">\n      <th></th>\n      <th>review_overall</th>\n      <th>review_aroma</th>\n      <th>review_appearance</th>\n      <th>review_profilename</th>\n      <th>beer_style</th>\n      <th>review_palate</th>\n      <th>review_taste</th>\n      <th>beer_name</th>\n      <th>beer_abv</th>\n      <th>beer_beerid</th>\n      <th>mean ibu</th>\n      <th>avg_user_score</th>\n    </tr>\n  </thead>\n  <tbody>\n    <tr>\n      <th>1</th>\n      <td>4.0</td>\n      <td>4.0</td>\n      <td>3.0</td>\n      <td>Likeburning</td>\n      <td>Hefeweizen</td>\n      <td>4.0</td>\n      <td>3.5</td>\n      <td>Hefeweizen</td>\n      <td>5.0</td>\n      <td>20575</td>\n      <td>12.5</td>\n      <td>3.423077</td>\n    </tr>\n    <tr>\n      <th>26</th>\n      <td>3.5</td>\n      <td>3.5</td>\n      <td>3.0</td>\n      <td>superspak</td>\n      <td>Hefeweizen</td>\n      <td>4.0</td>\n      <td>4.0</td>\n      <td>Wild Frog Wheat Ale</td>\n      <td>6.0</td>\n      <td>36862</td>\n      <td>12.5</td>\n      <td>4.038012</td>\n    </tr>\n    <tr>\n      <th>28</th>\n      <td>4.0</td>\n      <td>4.0</td>\n      <td>3.0</td>\n      <td>Viciousknishs</td>\n      <td>Hefeweizen</td>\n      <td>3.5</td>\n      <td>3.5</td>\n      <td>Wild Frog Wheat Ale</td>\n      <td>6.0</td>\n      <td>36862</td>\n      <td>12.5</td>\n      <td>3.966258</td>\n    </tr>\n    <tr>\n      <th>29</th>\n      <td>3.5</td>\n      <td>3.5</td>\n      <td>4.0</td>\n      <td>sixerofelixir</td>\n      <td>Hefeweizen</td>\n      <td>4.0</td>\n      <td>4.0</td>\n      <td>Wild Frog Wheat Ale</td>\n      <td>6.0</td>\n      <td>36862</td>\n      <td>12.5</td>\n      <td>3.663380</td>\n    </tr>\n    <tr>\n      <th>30</th>\n      <td>4.0</td>\n      <td>4.0</td>\n      <td>4.5</td>\n      <td>Trystero</td>\n      <td>Hefeweizen</td>\n      <td>4.5</td>\n      <td>4.0</td>\n      <td>Wild Frog Wheat Ale</td>\n      <td>6.0</td>\n      <td>36862</td>\n      <td>12.5</td>\n      <td>4.240000</td>\n    </tr>\n    <tr>\n      <th>...</th>\n      <td>...</td>\n      <td>...</td>\n      <td>...</td>\n      <td>...</td>\n      <td>...</td>\n      <td>...</td>\n      <td>...</td>\n      <td>...</td>\n      <td>...</td>\n      <td>...</td>\n      <td>...</td>\n      <td>...</td>\n    </tr>\n    <tr>\n      <th>1586242</th>\n      <td>4.0</td>\n      <td>4.0</td>\n      <td>4.5</td>\n      <td>clickpush</td>\n      <td>Bière de Champagne / Bière Brut</td>\n      <td>2.5</td>\n      <td>3.5</td>\n      <td>Krait Prestige</td>\n      <td>8.0</td>\n      <td>33766</td>\n      <td>40.0</td>\n      <td>3.824232</td>\n    </tr>\n    <tr>\n      <th>1586243</th>\n      <td>2.0</td>\n      <td>3.0</td>\n      <td>3.0</td>\n      <td>blitheringidiot</td>\n      <td>Bière de Champagne / Bière Brut</td>\n      <td>3.0</td>\n      <td>3.0</td>\n      <td>Krait Prestige</td>\n      <td>8.0</td>\n      <td>33766</td>\n      <td>40.0</td>\n      <td>3.669089</td>\n    </tr>\n    <tr>\n      <th>1586244</th>\n      <td>4.0</td>\n      <td>3.5</td>\n      <td>3.5</td>\n      <td>IntriqKen</td>\n      <td>Bière de Champagne / Bière Brut</td>\n      <td>4.0</td>\n      <td>4.5</td>\n      <td>Krait Prestige</td>\n      <td>8.0</td>\n      <td>33766</td>\n      <td>40.0</td>\n      <td>3.955544</td>\n    </tr>\n    <tr>\n      <th>1586245</th>\n      <td>4.0</td>\n      <td>3.5</td>\n      <td>4.0</td>\n      <td>Ego</td>\n      <td>Bière de Champagne / Bière Brut</td>\n      <td>4.0</td>\n      <td>3.5</td>\n      <td>Krait Prestige</td>\n      <td>8.0</td>\n      <td>33766</td>\n      <td>40.0</td>\n      <td>3.893557</td>\n    </tr>\n    <tr>\n      <th>1586246</th>\n      <td>4.0</td>\n      <td>3.5</td>\n      <td>4.0</td>\n      <td>GCBrewingCo</td>\n      <td>Bière de Champagne / Bière Brut</td>\n      <td>4.0</td>\n      <td>3.5</td>\n      <td>Krait Prestige</td>\n      <td>8.0</td>\n      <td>33766</td>\n      <td>40.0</td>\n      <td>3.957006</td>\n    </tr>\n  </tbody>\n</table>\n<p>1289815 rows × 12 columns</p>\n</div>"
     },
     "execution_count": 639,
     "metadata": {},
     "output_type": "execute_result"
    }
   ],
   "source": [
    "df"
   ],
   "metadata": {
    "collapsed": false
   }
  },
  {
   "cell_type": "code",
   "execution_count": 640,
   "outputs": [
    {
     "data": {
      "text/plain": "<Figure size 800x600 with 1 Axes>",
      "image/png": "[encoded data removed]"
     },
     "metadata": {},
     "output_type": "display_data"
    }
   ],
   "source": [
    "plt.figure(figsize=(8, 6))\n",
    "plt.boxplot(df['avg_user_score'], vert=False, widths=0.6, showfliers=True)\n",
    "\n",
    "plt.title('Boxplot das Médias de Notas dos Usuários')\n",
    "plt.xlabel('Média da Nota')\n",
    "plt.ylabel('Usuário')\n",
    "\n",
    "plt.show()"
   ],
   "metadata": {
    "collapsed": false
   }
  },
  {
   "cell_type": "code",
   "execution_count": 640,
   "outputs": [],
   "source": [],
   "metadata": {
    "collapsed": false
   }
  },
  {
   "cell_type": "code",
   "execution_count": 641,
   "outputs": [
    {
     "data": {
      "text/plain": "         review_overall  review_aroma  review_appearance review_profilename  \\\n58                  4.0           3.5                3.5             nick76   \n82                  3.5           3.5                4.0                JDV   \n143                 2.0           3.0                3.5         Arbitrator   \n194                 3.5           3.5                3.5        newcastleme   \n195                 4.0           3.5                4.0        newcastleme   \n...                 ...           ...                ...                ...   \n1586028             3.0           3.5                2.0                JDV   \n1586065             3.5           3.5                3.5           rastaman   \n1586074             3.5           3.5                4.0         kojevergas   \n1586162             2.0           3.0                1.0          flyingpig   \n1586241             4.5           3.5                4.0            Sudsdog   \n\n                              beer_style  review_palate  review_taste  \\\n58                            Hefeweizen            3.0           4.0   \n82                            Hefeweizen            3.0           3.5   \n143                           Hefeweizen            2.0           3.0   \n194                           Hefeweizen            4.0           3.5   \n195                           Hefeweizen            3.5           4.0   \n...                                  ...            ...           ...   \n1586028  Bière de Champagne / Bière Brut            2.0           3.0   \n1586065  Bière de Champagne / Bière Brut            3.5           3.5   \n1586074  Bière de Champagne / Bière Brut            3.5           4.0   \n1586162  Bière de Champagne / Bière Brut            2.0           2.5   \n1586241  Bière de Champagne / Bière Brut            4.5           4.0   \n\n                                   beer_name  beer_abv  beer_beerid  mean ibu  \\\n58                       Wild Frog Wheat Ale       6.0        36862      12.5   \n82                       Wild Frog Wheat Ale       6.0        36862      12.5   \n143            Kirkland Signature Hefeweizen       5.5        48519      12.5   \n194                               Hefeweizen       5.0        20575      12.5   \n195                               Hefeweizen       5.0        20575      12.5   \n...                                      ...       ...          ...       ...   \n1586028    Malheur Bière Brut (Brut Reserve)      12.0         5818      40.0   \n1586065    Malheur Bière Brut (Brut Reserve)      12.0         5818      40.0   \n1586074  Malheur Brut Noir (Black Chocolate)      12.0        16487      40.0   \n1586162                          Kasteel Cru       5.2        26652      40.0   \n1586241                       Krait Prestige       8.0        33766      40.0   \n\n         avg_user_score  \n58             3.318501  \n82             3.332474  \n143            3.043307  \n194            3.080000  \n195            3.080000  \n...                 ...  \n1586028        3.332474  \n1586065        3.131579  \n1586074        3.010606  \n1586162        3.267241  \n1586241        4.409341  \n\n[33310 rows x 12 columns]",
      "text/html": "<div>\n<style scoped>\n    .dataframe tbody tr th:only-of-type {\n        vertical-align: middle;\n    }\n\n    .dataframe tbody tr th {\n        vertical-align: top;\n    }\n\n    .dataframe thead th {\n        text-align: right;\n    }\n</style>\n<table border=\"1\" class=\"dataframe\">\n  <thead>\n    <tr style=\"text-align: right;\">\n      <th></th>\n      <th>review_overall</th>\n      <th>review_aroma</th>\n      <th>review_appearance</th>\n      <th>review_profilename</th>\n      <th>beer_style</th>\n      <th>review_palate</th>\n      <th>review_taste</th>\n      <th>beer_name</th>\n      <th>beer_abv</th>\n      <th>beer_beerid</th>\n      <th>mean ibu</th>\n      <th>avg_user_score</th>\n    </tr>\n  </thead>\n  <tbody>\n    <tr>\n      <th>58</th>\n      <td>4.0</td>\n      <td>3.5</td>\n      <td>3.5</td>\n      <td>nick76</td>\n      <td>Hefeweizen</td>\n      <td>3.0</td>\n      <td>4.0</td>\n      <td>Wild Frog Wheat Ale</td>\n      <td>6.0</td>\n      <td>36862</td>\n      <td>12.5</td>\n      <td>3.318501</td>\n    </tr>\n    <tr>\n      <th>82</th>\n      <td>3.5</td>\n      <td>3.5</td>\n      <td>4.0</td>\n      <td>JDV</td>\n      <td>Hefeweizen</td>\n      <td>3.0</td>\n      <td>3.5</td>\n      <td>Wild Frog Wheat Ale</td>\n      <td>6.0</td>\n      <td>36862</td>\n      <td>12.5</td>\n      <td>3.332474</td>\n    </tr>\n    <tr>\n      <th>143</th>\n      <td>2.0</td>\n      <td>3.0</td>\n      <td>3.5</td>\n      <td>Arbitrator</td>\n      <td>Hefeweizen</td>\n      <td>2.0</td>\n      <td>3.0</td>\n      <td>Kirkland Signature Hefeweizen</td>\n      <td>5.5</td>\n      <td>48519</td>\n      <td>12.5</td>\n      <td>3.043307</td>\n    </tr>\n    <tr>\n      <th>194</th>\n      <td>3.5</td>\n      <td>3.5</td>\n      <td>3.5</td>\n      <td>newcastleme</td>\n      <td>Hefeweizen</td>\n      <td>4.0</td>\n      <td>3.5</td>\n      <td>Hefeweizen</td>\n      <td>5.0</td>\n      <td>20575</td>\n      <td>12.5</td>\n      <td>3.080000</td>\n    </tr>\n    <tr>\n      <th>195</th>\n      <td>4.0</td>\n      <td>3.5</td>\n      <td>4.0</td>\n      <td>newcastleme</td>\n      <td>Hefeweizen</td>\n      <td>3.5</td>\n      <td>4.0</td>\n      <td>Hefeweizen</td>\n      <td>5.0</td>\n      <td>20575</td>\n      <td>12.5</td>\n      <td>3.080000</td>\n    </tr>\n    <tr>\n      <th>...</th>\n      <td>...</td>\n      <td>...</td>\n      <td>...</td>\n      <td>...</td>\n      <td>...</td>\n      <td>...</td>\n      <td>...</td>\n      <td>...</td>\n      <td>...</td>\n      <td>...</td>\n      <td>...</td>\n      <td>...</td>\n    </tr>\n    <tr>\n      <th>1586028</th>\n      <td>3.0</td>\n      <td>3.5</td>\n      <td>2.0</td>\n      <td>JDV</td>\n      <td>Bière de Champagne / Bière Brut</td>\n      <td>2.0</td>\n      <td>3.0</td>\n      <td>Malheur Bière Brut (Brut Reserve)</td>\n      <td>12.0</td>\n      <td>5818</td>\n      <td>40.0</td>\n      <td>3.332474</td>\n    </tr>\n    <tr>\n      <th>1586065</th>\n      <td>3.5</td>\n      <td>3.5</td>\n      <td>3.5</td>\n      <td>rastaman</td>\n      <td>Bière de Champagne / Bière Brut</td>\n      <td>3.5</td>\n      <td>3.5</td>\n      <td>Malheur Bière Brut (Brut Reserve)</td>\n      <td>12.0</td>\n      <td>5818</td>\n      <td>40.0</td>\n      <td>3.131579</td>\n    </tr>\n    <tr>\n      <th>1586074</th>\n      <td>3.5</td>\n      <td>3.5</td>\n      <td>4.0</td>\n      <td>kojevergas</td>\n      <td>Bière de Champagne / Bière Brut</td>\n      <td>3.5</td>\n      <td>4.0</td>\n      <td>Malheur Brut Noir (Black Chocolate)</td>\n      <td>12.0</td>\n      <td>16487</td>\n      <td>40.0</td>\n      <td>3.010606</td>\n    </tr>\n    <tr>\n      <th>1586162</th>\n      <td>2.0</td>\n      <td>3.0</td>\n      <td>1.0</td>\n      <td>flyingpig</td>\n      <td>Bière de Champagne / Bière Brut</td>\n      <td>2.0</td>\n      <td>2.5</td>\n      <td>Kasteel Cru</td>\n      <td>5.2</td>\n      <td>26652</td>\n      <td>40.0</td>\n      <td>3.267241</td>\n    </tr>\n    <tr>\n      <th>1586241</th>\n      <td>4.5</td>\n      <td>3.5</td>\n      <td>4.0</td>\n      <td>Sudsdog</td>\n      <td>Bière de Champagne / Bière Brut</td>\n      <td>4.5</td>\n      <td>4.0</td>\n      <td>Krait Prestige</td>\n      <td>8.0</td>\n      <td>33766</td>\n      <td>40.0</td>\n      <td>4.409341</td>\n    </tr>\n  </tbody>\n</table>\n<p>33310 rows × 12 columns</p>\n</div>"
     },
     "execution_count": 641,
     "metadata": {},
     "output_type": "execute_result"
    }
   ],
   "source": [
    "Q1 = df['avg_user_score'].quantile(0.25)\n",
    "Q3 = df['avg_user_score'].quantile(0.75)\n",
    "IQR = Q3 - Q1\n",
    "\n",
    "# Definir limites para identificar outliers\n",
    "lower_bound = Q1 - 1.5 * IQR\n",
    "upper_bound = Q3 + 1.5 * IQR\n",
    "\n",
    "# Identificar outliers\n",
    "outliers = df[(df['avg_user_score'] < lower_bound) | (df['avg_user_score'] > upper_bound)]\n",
    "\n",
    "outliers"
   ],
   "metadata": {
    "collapsed": false
   }
  },
  {
   "cell_type": "code",
   "execution_count": 642,
   "outputs": [],
   "source": [
    "df = df[(df['avg_user_score'] >= lower_bound) & (df['avg_user_score'] <= upper_bound)]"
   ],
   "metadata": {
    "collapsed": false
   }
  },
  {
   "cell_type": "code",
   "execution_count": 643,
   "outputs": [
    {
     "data": {
      "text/plain": "         review_overall  review_aroma  review_appearance review_profilename  \\\n1                   4.0           4.0                3.0        Likeburning   \n26                  3.5           3.5                3.0          superspak   \n28                  4.0           4.0                3.0      Viciousknishs   \n29                  3.5           3.5                4.0      sixerofelixir   \n30                  4.0           4.0                4.5           Trystero   \n...                 ...           ...                ...                ...   \n1586242             4.0           4.0                4.5          clickpush   \n1586243             2.0           3.0                3.0    blitheringidiot   \n1586244             4.0           3.5                3.5          IntriqKen   \n1586245             4.0           3.5                4.0                Ego   \n1586246             4.0           3.5                4.0        GCBrewingCo   \n\n                              beer_style  review_palate  review_taste  \\\n1                             Hefeweizen            4.0           3.5   \n26                            Hefeweizen            4.0           4.0   \n28                            Hefeweizen            3.5           3.5   \n29                            Hefeweizen            4.0           4.0   \n30                            Hefeweizen            4.5           4.0   \n...                                  ...            ...           ...   \n1586242  Bière de Champagne / Bière Brut            2.5           3.5   \n1586243  Bière de Champagne / Bière Brut            3.0           3.0   \n1586244  Bière de Champagne / Bière Brut            4.0           4.5   \n1586245  Bière de Champagne / Bière Brut            4.0           3.5   \n1586246  Bière de Champagne / Bière Brut            4.0           3.5   \n\n                   beer_name  beer_abv  beer_beerid  mean ibu  avg_user_score  \n1                 Hefeweizen       5.0        20575      12.5        3.423077  \n26       Wild Frog Wheat Ale       6.0        36862      12.5        4.038012  \n28       Wild Frog Wheat Ale       6.0        36862      12.5        3.966258  \n29       Wild Frog Wheat Ale       6.0        36862      12.5        3.663380  \n30       Wild Frog Wheat Ale       6.0        36862      12.5        4.240000  \n...                      ...       ...          ...       ...             ...  \n1586242       Krait Prestige       8.0        33766      40.0        3.824232  \n1586243       Krait Prestige       8.0        33766      40.0        3.669089  \n1586244       Krait Prestige       8.0        33766      40.0        3.955544  \n1586245       Krait Prestige       8.0        33766      40.0        3.893557  \n1586246       Krait Prestige       8.0        33766      40.0        3.957006  \n\n[1256505 rows x 12 columns]",
      "text/html": "<div>\n<style scoped>\n    .dataframe tbody tr th:only-of-type {\n        vertical-align: middle;\n    }\n\n    .dataframe tbody tr th {\n        vertical-align: top;\n    }\n\n    .dataframe thead th {\n        text-align: right;\n    }\n</style>\n<table border=\"1\" class=\"dataframe\">\n  <thead>\n    <tr style=\"text-align: right;\">\n      <th></th>\n      <th>review_overall</th>\n      <th>review_aroma</th>\n      <th>review_appearance</th>\n      <th>review_profilename</th>\n      <th>beer_style</th>\n      <th>review_palate</th>\n      <th>review_taste</th>\n      <th>beer_name</th>\n      <th>beer_abv</th>\n      <th>beer_beerid</th>\n      <th>mean ibu</th>\n      <th>avg_user_score</th>\n    </tr>\n  </thead>\n  <tbody>\n    <tr>\n      <th>1</th>\n      <td>4.0</td>\n      <td>4.0</td>\n      <td>3.0</td>\n      <td>Likeburning</td>\n      <td>Hefeweizen</td>\n      <td>4.0</td>\n      <td>3.5</td>\n      <td>Hefeweizen</td>\n      <td>5.0</td>\n      <td>20575</td>\n      <td>12.5</td>\n      <td>3.423077</td>\n    </tr>\n    <tr>\n      <th>26</th>\n      <td>3.5</td>\n      <td>3.5</td>\n      <td>3.0</td>\n      <td>superspak</td>\n      <td>Hefeweizen</td>\n      <td>4.0</td>\n      <td>4.0</td>\n      <td>Wild Frog Wheat Ale</td>\n      <td>6.0</td>\n      <td>36862</td>\n      <td>12.5</td>\n      <td>4.038012</td>\n    </tr>\n    <tr>\n      <th>28</th>\n      <td>4.0</td>\n      <td>4.0</td>\n      <td>3.0</td>\n      <td>Viciousknishs</td>\n      <td>Hefeweizen</td>\n      <td>3.5</td>\n      <td>3.5</td>\n      <td>Wild Frog Wheat Ale</td>\n      <td>6.0</td>\n      <td>36862</td>\n      <td>12.5</td>\n      <td>3.966258</td>\n    </tr>\n    <tr>\n      <th>29</th>\n      <td>3.5</td>\n      <td>3.5</td>\n      <td>4.0</td>\n      <td>sixerofelixir</td>\n      <td>Hefeweizen</td>\n      <td>4.0</td>\n      <td>4.0</td>\n      <td>Wild Frog Wheat Ale</td>\n      <td>6.0</td>\n      <td>36862</td>\n      <td>12.5</td>\n      <td>3.663380</td>\n    </tr>\n    <tr>\n      <th>30</th>\n      <td>4.0</td>\n      <td>4.0</td>\n      <td>4.5</td>\n      <td>Trystero</td>\n      <td>Hefeweizen</td>\n      <td>4.5</td>\n      <td>4.0</td>\n      <td>Wild Frog Wheat Ale</td>\n      <td>6.0</td>\n      <td>36862</td>\n      <td>12.5</td>\n      <td>4.240000</td>\n    </tr>\n    <tr>\n      <th>...</th>\n      <td>...</td>\n      <td>...</td>\n      <td>...</td>\n      <td>...</td>\n      <td>...</td>\n      <td>...</td>\n      <td>...</td>\n      <td>...</td>\n      <td>...</td>\n      <td>...</td>\n      <td>...</td>\n      <td>...</td>\n    </tr>\n    <tr>\n      <th>1586242</th>\n      <td>4.0</td>\n      <td>4.0</td>\n      <td>4.5</td>\n      <td>clickpush</td>\n      <td>Bière de Champagne / Bière Brut</td>\n      <td>2.5</td>\n      <td>3.5</td>\n      <td>Krait Prestige</td>\n      <td>8.0</td>\n      <td>33766</td>\n      <td>40.0</td>\n      <td>3.824232</td>\n    </tr>\n    <tr>\n      <th>1586243</th>\n      <td>2.0</td>\n      <td>3.0</td>\n      <td>3.0</td>\n      <td>blitheringidiot</td>\n      <td>Bière de Champagne / Bière Brut</td>\n      <td>3.0</td>\n      <td>3.0</td>\n      <td>Krait Prestige</td>\n      <td>8.0</td>\n      <td>33766</td>\n      <td>40.0</td>\n      <td>3.669089</td>\n    </tr>\n    <tr>\n      <th>1586244</th>\n      <td>4.0</td>\n      <td>3.5</td>\n      <td>3.5</td>\n      <td>IntriqKen</td>\n      <td>Bière de Champagne / Bière Brut</td>\n      <td>4.0</td>\n      <td>4.5</td>\n      <td>Krait Prestige</td>\n      <td>8.0</td>\n      <td>33766</td>\n      <td>40.0</td>\n      <td>3.955544</td>\n    </tr>\n    <tr>\n      <th>1586245</th>\n      <td>4.0</td>\n      <td>3.5</td>\n      <td>4.0</td>\n      <td>Ego</td>\n      <td>Bière de Champagne / Bière Brut</td>\n      <td>4.0</td>\n      <td>3.5</td>\n      <td>Krait Prestige</td>\n      <td>8.0</td>\n      <td>33766</td>\n      <td>40.0</td>\n      <td>3.893557</td>\n    </tr>\n    <tr>\n      <th>1586246</th>\n      <td>4.0</td>\n      <td>3.5</td>\n      <td>4.0</td>\n      <td>GCBrewingCo</td>\n      <td>Bière de Champagne / Bière Brut</td>\n      <td>4.0</td>\n      <td>3.5</td>\n      <td>Krait Prestige</td>\n      <td>8.0</td>\n      <td>33766</td>\n      <td>40.0</td>\n      <td>3.957006</td>\n    </tr>\n  </tbody>\n</table>\n<p>1256505 rows × 12 columns</p>\n</div>"
     },
     "execution_count": 643,
     "metadata": {},
     "output_type": "execute_result"
    }
   ],
   "source": [
    "df"
   ],
   "metadata": {
    "collapsed": false
   }
  },
  {
   "cell_type": "code",
   "execution_count": 644,
   "outputs": [],
   "source": [
    "beerid_avg_review = df.groupby('beer_beerid')['review_overall'].mean().reset_index()\n",
    "\n",
    "# Renomeando a coluna para refletir a média\n",
    "beerid_avg_review.rename(columns={'review_overall': 'avg_beer_score'}, inplace=True)"
   ],
   "metadata": {
    "collapsed": false,
    "ExecuteTime": {
     "end_time": "2023-08-10T01:48:15.405710700Z",
     "start_time": "2023-08-10T01:48:15.329398600Z"
    }
   }
  },
  {
   "cell_type": "code",
   "execution_count": 645,
   "outputs": [
    {
     "data": {
      "text/plain": "      beer_beerid  avg_beer_score\n0               5        3.544737\n1               6        3.700127\n2               7        3.252577\n3               8        3.617188\n4               9        3.409524\n...           ...             ...\n8035        76144        4.140000\n8036        76323        4.000000\n8037        76525        4.019608\n8038        76571        3.722222\n8039        76816        4.023256\n\n[8040 rows x 2 columns]",
      "text/html": "<div>\n<style scoped>\n    .dataframe tbody tr th:only-of-type {\n        vertical-align: middle;\n    }\n\n    .dataframe tbody tr th {\n        vertical-align: top;\n    }\n\n    .dataframe thead th {\n        text-align: right;\n    }\n</style>\n<table border=\"1\" class=\"dataframe\">\n  <thead>\n    <tr style=\"text-align: right;\">\n      <th></th>\n      <th>beer_beerid</th>\n      <th>avg_beer_score</th>\n    </tr>\n  </thead>\n  <tbody>\n    <tr>\n      <th>0</th>\n      <td>5</td>\n      <td>3.544737</td>\n    </tr>\n    <tr>\n      <th>1</th>\n      <td>6</td>\n      <td>3.700127</td>\n    </tr>\n    <tr>\n      <th>2</th>\n      <td>7</td>\n      <td>3.252577</td>\n    </tr>\n    <tr>\n      <th>3</th>\n      <td>8</td>\n      <td>3.617188</td>\n    </tr>\n    <tr>\n      <th>4</th>\n      <td>9</td>\n      <td>3.409524</td>\n    </tr>\n    <tr>\n      <th>...</th>\n      <td>...</td>\n      <td>...</td>\n    </tr>\n    <tr>\n      <th>8035</th>\n      <td>76144</td>\n      <td>4.140000</td>\n    </tr>\n    <tr>\n      <th>8036</th>\n      <td>76323</td>\n      <td>4.000000</td>\n    </tr>\n    <tr>\n      <th>8037</th>\n      <td>76525</td>\n      <td>4.019608</td>\n    </tr>\n    <tr>\n      <th>8038</th>\n      <td>76571</td>\n      <td>3.722222</td>\n    </tr>\n    <tr>\n      <th>8039</th>\n      <td>76816</td>\n      <td>4.023256</td>\n    </tr>\n  </tbody>\n</table>\n<p>8040 rows × 2 columns</p>\n</div>"
     },
     "execution_count": 645,
     "metadata": {},
     "output_type": "execute_result"
    }
   ],
   "source": [
    "beerid_avg_review"
   ],
   "metadata": {
    "collapsed": false,
    "ExecuteTime": {
     "end_time": "2023-08-10T01:48:15.413718400Z",
     "start_time": "2023-08-10T01:48:15.376711300Z"
    }
   }
  },
  {
   "cell_type": "code",
   "execution_count": 646,
   "outputs": [],
   "source": [
    "dem = pd.merge(beerid_avg_review,dem, on='beer_beerid',how='inner')"
   ],
   "metadata": {
    "collapsed": false,
    "ExecuteTime": {
     "end_time": "2023-08-10T01:48:15.413718400Z",
     "start_time": "2023-08-10T01:48:15.387691400Z"
    }
   }
  },
  {
   "cell_type": "code",
   "execution_count": 647,
   "outputs": [
    {
     "data": {
      "text/plain": "      beer_beerid  avg_beer_score  review_overall  review_aroma  \\\n0               5        3.544737             4.0           3.5   \n1               6        3.700127             4.0           3.5   \n2               7        3.252577             3.5           3.0   \n3               8        3.617188             3.5           2.5   \n4               9        3.409524             2.5           2.0   \n...           ...             ...             ...           ...   \n8035        76144        4.140000             4.0           4.0   \n8036        76323        4.000000             4.5           4.0   \n8037        76525        4.019608             4.5           5.0   \n8038        76571        3.722222             4.0           4.0   \n8039        76816        4.023256             4.0           3.5   \n\n      review_appearance review_profilename              beer_style  \\\n0                   3.5         Backer2004            Vienna Lager   \n1                   4.0              Strix       English Brown Ale   \n2                   3.0              matty  Fruit / Vegetable Beer   \n3                   3.5        optimator13  American Adjunct Lager   \n4                   2.0            walleye     American Pale Lager   \n...                 ...                ...                     ...   \n8035                4.0          SHODriver     American Strong Ale   \n8036                4.5        pmlondrigan        Belgian Pale Ale   \n8037                4.5          seanwhite            American IPA   \n8038                4.5              Luigi     Munich Helles Lager   \n8039                4.0           JoEBoBpr                Rye Beer   \n\n      review_palate  review_taste  \\\n0               3.5           4.0   \n1               3.5           3.5   \n2               3.5           3.0   \n3               4.0           3.0   \n4               2.0           2.0   \n...             ...           ...   \n8035            4.0           4.5   \n8036            3.5           4.5   \n8037            4.0           4.0   \n8038            4.5           4.0   \n8039            4.0           4.0   \n\n                                              beer_name  beer_abv  mean ibu  \\\n0                                                 Amber       4.5      24.0   \n1                                              Turbodog       5.6      20.0   \n2                                           Purple Haze       4.2      20.0   \n3                                                 Wheat       4.2      12.0   \n4                                                Golden       4.2      30.0   \n...                                                 ...       ...       ...   \n8035                        He'Brew Jewbelation Fifteen      15.0      75.0   \n8036                                         Rayon Vert       7.0      25.0   \n8037  The Alchemist / Ninkasi / Stone - More Brown T...       7.4      55.0   \n8038                         Samuel Adams Alpine Spring       5.8      19.0   \n8039                     Sierra Nevada Ruthless Rye IPA       6.6      60.0   \n\n      beer_vote_count  \n0                 402  \n1                 820  \n2                 611  \n3                  65  \n4                 113  \n...               ...  \n8035               50  \n8036               24  \n8037               52  \n8038               28  \n8039               45  \n\n[8040 rows x 13 columns]",
      "text/html": "<div>\n<style scoped>\n    .dataframe tbody tr th:only-of-type {\n        vertical-align: middle;\n    }\n\n    .dataframe tbody tr th {\n        vertical-align: top;\n    }\n\n    .dataframe thead th {\n        text-align: right;\n    }\n</style>\n<table border=\"1\" class=\"dataframe\">\n  <thead>\n    <tr style=\"text-align: right;\">\n      <th></th>\n      <th>beer_beerid</th>\n      <th>avg_beer_score</th>\n      <th>review_overall</th>\n      <th>review_aroma</th>\n      <th>review_appearance</th>\n      <th>review_profilename</th>\n      <th>beer_style</th>\n      <th>review_palate</th>\n      <th>review_taste</th>\n      <th>beer_name</th>\n      <th>beer_abv</th>\n      <th>mean ibu</th>\n      <th>beer_vote_count</th>\n    </tr>\n  </thead>\n  <tbody>\n    <tr>\n      <th>0</th>\n      <td>5</td>\n      <td>3.544737</td>\n      <td>4.0</td>\n      <td>3.5</td>\n      <td>3.5</td>\n      <td>Backer2004</td>\n      <td>Vienna Lager</td>\n      <td>3.5</td>\n      <td>4.0</td>\n      <td>Amber</td>\n      <td>4.5</td>\n      <td>24.0</td>\n      <td>402</td>\n    </tr>\n    <tr>\n      <th>1</th>\n      <td>6</td>\n      <td>3.700127</td>\n      <td>4.0</td>\n      <td>3.5</td>\n      <td>4.0</td>\n      <td>Strix</td>\n      <td>English Brown Ale</td>\n      <td>3.5</td>\n      <td>3.5</td>\n      <td>Turbodog</td>\n      <td>5.6</td>\n      <td>20.0</td>\n      <td>820</td>\n    </tr>\n    <tr>\n      <th>2</th>\n      <td>7</td>\n      <td>3.252577</td>\n      <td>3.5</td>\n      <td>3.0</td>\n      <td>3.0</td>\n      <td>matty</td>\n      <td>Fruit / Vegetable Beer</td>\n      <td>3.5</td>\n      <td>3.0</td>\n      <td>Purple Haze</td>\n      <td>4.2</td>\n      <td>20.0</td>\n      <td>611</td>\n    </tr>\n    <tr>\n      <th>3</th>\n      <td>8</td>\n      <td>3.617188</td>\n      <td>3.5</td>\n      <td>2.5</td>\n      <td>3.5</td>\n      <td>optimator13</td>\n      <td>American Adjunct Lager</td>\n      <td>4.0</td>\n      <td>3.0</td>\n      <td>Wheat</td>\n      <td>4.2</td>\n      <td>12.0</td>\n      <td>65</td>\n    </tr>\n    <tr>\n      <th>4</th>\n      <td>9</td>\n      <td>3.409524</td>\n      <td>2.5</td>\n      <td>2.0</td>\n      <td>2.0</td>\n      <td>walleye</td>\n      <td>American Pale Lager</td>\n      <td>2.0</td>\n      <td>2.0</td>\n      <td>Golden</td>\n      <td>4.2</td>\n      <td>30.0</td>\n      <td>113</td>\n    </tr>\n    <tr>\n      <th>...</th>\n      <td>...</td>\n      <td>...</td>\n      <td>...</td>\n      <td>...</td>\n      <td>...</td>\n      <td>...</td>\n      <td>...</td>\n      <td>...</td>\n      <td>...</td>\n      <td>...</td>\n      <td>...</td>\n      <td>...</td>\n      <td>...</td>\n    </tr>\n    <tr>\n      <th>8035</th>\n      <td>76144</td>\n      <td>4.140000</td>\n      <td>4.0</td>\n      <td>4.0</td>\n      <td>4.0</td>\n      <td>SHODriver</td>\n      <td>American Strong Ale</td>\n      <td>4.0</td>\n      <td>4.5</td>\n      <td>He'Brew Jewbelation Fifteen</td>\n      <td>15.0</td>\n      <td>75.0</td>\n      <td>50</td>\n    </tr>\n    <tr>\n      <th>8036</th>\n      <td>76323</td>\n      <td>4.000000</td>\n      <td>4.5</td>\n      <td>4.0</td>\n      <td>4.5</td>\n      <td>pmlondrigan</td>\n      <td>Belgian Pale Ale</td>\n      <td>3.5</td>\n      <td>4.5</td>\n      <td>Rayon Vert</td>\n      <td>7.0</td>\n      <td>25.0</td>\n      <td>24</td>\n    </tr>\n    <tr>\n      <th>8037</th>\n      <td>76525</td>\n      <td>4.019608</td>\n      <td>4.5</td>\n      <td>5.0</td>\n      <td>4.5</td>\n      <td>seanwhite</td>\n      <td>American IPA</td>\n      <td>4.0</td>\n      <td>4.0</td>\n      <td>The Alchemist / Ninkasi / Stone - More Brown T...</td>\n      <td>7.4</td>\n      <td>55.0</td>\n      <td>52</td>\n    </tr>\n    <tr>\n      <th>8038</th>\n      <td>76571</td>\n      <td>3.722222</td>\n      <td>4.0</td>\n      <td>4.0</td>\n      <td>4.5</td>\n      <td>Luigi</td>\n      <td>Munich Helles Lager</td>\n      <td>4.5</td>\n      <td>4.0</td>\n      <td>Samuel Adams Alpine Spring</td>\n      <td>5.8</td>\n      <td>19.0</td>\n      <td>28</td>\n    </tr>\n    <tr>\n      <th>8039</th>\n      <td>76816</td>\n      <td>4.023256</td>\n      <td>4.0</td>\n      <td>3.5</td>\n      <td>4.0</td>\n      <td>JoEBoBpr</td>\n      <td>Rye Beer</td>\n      <td>4.0</td>\n      <td>4.0</td>\n      <td>Sierra Nevada Ruthless Rye IPA</td>\n      <td>6.6</td>\n      <td>60.0</td>\n      <td>45</td>\n    </tr>\n  </tbody>\n</table>\n<p>8040 rows × 13 columns</p>\n</div>"
     },
     "execution_count": 647,
     "metadata": {},
     "output_type": "execute_result"
    }
   ],
   "source": [
    "dem"
   ],
   "metadata": {
    "collapsed": false,
    "ExecuteTime": {
     "end_time": "2023-08-10T01:48:15.435326600Z",
     "start_time": "2023-08-10T01:48:15.405710700Z"
    }
   }
  },
  {
   "cell_type": "markdown",
   "source": [
    "\n",
    "Podemos usar as avaliações médias das cervejas como pontuação, mas usar isso não será justo, pois uma cerveja com classificação média de 4.5 e apenas 3 votos não pode ser considerado melhor do que o filme com classificação média de 4, mas 40 votos. Portanto, usarei a classificação ponderada (wr)"
   ],
   "metadata": {
    "collapsed": false
   }
  },
  {
   "cell_type": "code",
   "execution_count": 648,
   "outputs": [
    {
     "data": {
      "text/plain": "3.844084185896594"
     },
     "execution_count": 648,
     "metadata": {},
     "output_type": "execute_result"
    }
   ],
   "source": [
    "C= df['review_overall'].mean()\n",
    "C"
   ],
   "metadata": {
    "collapsed": false,
    "ExecuteTime": {
     "end_time": "2023-08-10T01:48:15.501452600Z",
     "start_time": "2023-08-10T01:48:15.434325700Z"
    }
   }
  },
  {
   "cell_type": "markdown",
   "source": [
    "Portanto, a classificação média para todas as cervejas é de aproximadamente 3.8 em uma escala de 10. O próximo passo é determinar um valor apropriado para m, os votos mínimos necessários para serem listados no gráfico. Usaremos o percentil 90 como ponto de corte. Em outras palavras, para que uma cerveja apareça nas paradas, ele deve ter mais votos do que pelo menos 80% dos filmes da lista."
   ],
   "metadata": {
    "collapsed": false
   }
  },
  {
   "cell_type": "code",
   "execution_count": 649,
   "outputs": [
    {
     "data": {
      "text/plain": "208.0"
     },
     "execution_count": 649,
     "metadata": {},
     "output_type": "execute_result"
    }
   ],
   "source": [
    "m= dem['beer_vote_count'].quantile(0.8)\n",
    "m"
   ],
   "metadata": {
    "collapsed": false,
    "ExecuteTime": {
     "end_time": "2023-08-10T01:53:31.156183800Z",
     "start_time": "2023-08-10T01:53:31.148359100Z"
    }
   }
  },
  {
   "cell_type": "code",
   "execution_count": 650,
   "outputs": [
    {
     "data": {
      "text/plain": "(1615, 13)"
     },
     "execution_count": 650,
     "metadata": {},
     "output_type": "execute_result"
    }
   ],
   "source": [
    "q_beers = dem.copy().loc[dem['beer_vote_count'] >= m]\n",
    "q_beers.shape"
   ],
   "metadata": {
    "collapsed": false,
    "ExecuteTime": {
     "end_time": "2023-08-10T01:53:31.805208200Z",
     "start_time": "2023-08-10T01:53:31.792663100Z"
    }
   }
  },
  {
   "cell_type": "markdown",
   "source": [
    "Vemos que existem 1837 cervejas que se qualificam para estar nesta lista. Agora, precisamos calcular nossa métrica para cada cerveja qualificada. Para fazer isso, vamos definir uma função, weighted_rating() e definir uma nova pontuação de recurso, da qual calcularemos o valor aplicando essa função ao nosso DataFrame de cervejas qualificados"
   ],
   "metadata": {
    "collapsed": false
   }
  },
  {
   "cell_type": "code",
   "execution_count": 651,
   "outputs": [],
   "source": [
    "def weighted_rating(x, m=m, C=C):\n",
    "    v = x['beer_vote_count']\n",
    "    R = x['avg_beer_score']\n",
    "    \n",
    "    # Calculation based on the IMDB formula\n",
    "    return (v/(v+m) * R) + (m/(m+v) * C)"
   ],
   "metadata": {
    "collapsed": false,
    "ExecuteTime": {
     "end_time": "2023-08-10T01:55:54.476162200Z",
     "start_time": "2023-08-10T01:55:54.410847Z"
    }
   }
  },
  {
   "cell_type": "code",
   "execution_count": 652,
   "outputs": [],
   "source": [
    "q_beers['score'] = q_beers.apply(weighted_rating, axis=1)"
   ],
   "metadata": {
    "collapsed": false,
    "ExecuteTime": {
     "end_time": "2023-08-10T01:56:43.157617900Z",
     "start_time": "2023-08-10T01:56:43.086808900Z"
    }
   }
  },
  {
   "cell_type": "code",
   "execution_count": 653,
   "outputs": [],
   "source": [
    "q_beers = q_beers.sort_values('score', ascending=False)"
   ],
   "metadata": {
    "collapsed": false,
    "ExecuteTime": {
     "end_time": "2023-08-10T01:56:58.747227400Z",
     "start_time": "2023-08-10T01:56:58.680904700Z"
    }
   }
  },
  {
   "cell_type": "code",
   "execution_count": 654,
   "outputs": [
    {
     "data": {
      "text/plain": "                          beer_name                        beer_style  \\\n2564                Pliny The Elder    American Double / Imperial IPA   \n845        Trappist Westvleteren 12                  Quadrupel (Quad)   \n420   Weihenstephaner Hefeweissbier                        Hefeweizen   \n6192    Founders CBS Imperial Stout  American Double / Imperial Stout   \n3733              Pliny The Younger    American Double / Imperial IPA   \n3339                   Heady Topper    American Double / Imperial IPA   \n4758                      The Abyss  American Double / Imperial Stout   \n502         Trappist Westvleteren 8                            Dubbel   \n4350         Sculpin India Pale Ale                      American IPA   \n3264           Tröegs Nugget Nectar          American Amber / Red Ale   \n\n      beer_vote_count  avg_beer_score     score  \n2564             2164        4.580907  4.516295  \n845              1136        4.605621  4.487764  \n420              1806        4.507118  4.438642  \n6192              578        4.570018  4.377913  \n3733              529        4.577148  4.370259  \n3339              425        4.623487  4.367380  \n4758             1259        4.439195  4.354816  \n502               678        4.509188  4.353047  \n4350             1249        4.427459  4.344177  \n3264             1786        4.385960  4.329435  ",
      "text/html": "<div>\n<style scoped>\n    .dataframe tbody tr th:only-of-type {\n        vertical-align: middle;\n    }\n\n    .dataframe tbody tr th {\n        vertical-align: top;\n    }\n\n    .dataframe thead th {\n        text-align: right;\n    }\n</style>\n<table border=\"1\" class=\"dataframe\">\n  <thead>\n    <tr style=\"text-align: right;\">\n      <th></th>\n      <th>beer_name</th>\n      <th>beer_style</th>\n      <th>beer_vote_count</th>\n      <th>avg_beer_score</th>\n      <th>score</th>\n    </tr>\n  </thead>\n  <tbody>\n    <tr>\n      <th>2564</th>\n      <td>Pliny The Elder</td>\n      <td>American Double / Imperial IPA</td>\n      <td>2164</td>\n      <td>4.580907</td>\n      <td>4.516295</td>\n    </tr>\n    <tr>\n      <th>845</th>\n      <td>Trappist Westvleteren 12</td>\n      <td>Quadrupel (Quad)</td>\n      <td>1136</td>\n      <td>4.605621</td>\n      <td>4.487764</td>\n    </tr>\n    <tr>\n      <th>420</th>\n      <td>Weihenstephaner Hefeweissbier</td>\n      <td>Hefeweizen</td>\n      <td>1806</td>\n      <td>4.507118</td>\n      <td>4.438642</td>\n    </tr>\n    <tr>\n      <th>6192</th>\n      <td>Founders CBS Imperial Stout</td>\n      <td>American Double / Imperial Stout</td>\n      <td>578</td>\n      <td>4.570018</td>\n      <td>4.377913</td>\n    </tr>\n    <tr>\n      <th>3733</th>\n      <td>Pliny The Younger</td>\n      <td>American Double / Imperial IPA</td>\n      <td>529</td>\n      <td>4.577148</td>\n      <td>4.370259</td>\n    </tr>\n    <tr>\n      <th>3339</th>\n      <td>Heady Topper</td>\n      <td>American Double / Imperial IPA</td>\n      <td>425</td>\n      <td>4.623487</td>\n      <td>4.367380</td>\n    </tr>\n    <tr>\n      <th>4758</th>\n      <td>The Abyss</td>\n      <td>American Double / Imperial Stout</td>\n      <td>1259</td>\n      <td>4.439195</td>\n      <td>4.354816</td>\n    </tr>\n    <tr>\n      <th>502</th>\n      <td>Trappist Westvleteren 8</td>\n      <td>Dubbel</td>\n      <td>678</td>\n      <td>4.509188</td>\n      <td>4.353047</td>\n    </tr>\n    <tr>\n      <th>4350</th>\n      <td>Sculpin India Pale Ale</td>\n      <td>American IPA</td>\n      <td>1249</td>\n      <td>4.427459</td>\n      <td>4.344177</td>\n    </tr>\n    <tr>\n      <th>3264</th>\n      <td>Tröegs Nugget Nectar</td>\n      <td>American Amber / Red Ale</td>\n      <td>1786</td>\n      <td>4.385960</td>\n      <td>4.329435</td>\n    </tr>\n  </tbody>\n</table>\n</div>"
     },
     "execution_count": 654,
     "metadata": {},
     "output_type": "execute_result"
    }
   ],
   "source": [
    "q_beers[['beer_name','beer_style', 'beer_vote_count', 'avg_beer_score', 'score']].head(10)"
   ],
   "metadata": {
    "collapsed": false,
    "ExecuteTime": {
     "end_time": "2023-08-10T01:58:37.555354Z",
     "start_time": "2023-08-10T01:58:37.525576100Z"
    }
   }
  },
  {
   "cell_type": "markdown",
   "source": [
    "Uhu, aqui temos nossa primeira forma de recomendação, mas note que esta forma é algo \"Geral\", Ou seja, não capta os gostos individuais de cada cliente.\n",
    "Para isso, vamos brincar com a filtragem colaborativa."
   ],
   "metadata": {
    "collapsed": false
   }
  },
  {
   "cell_type": "markdown",
   "source": [
    "FILTRAGEM COLABORATIVA"
   ],
   "metadata": {
    "collapsed": false
   }
  },
  {
   "cell_type": "code",
   "execution_count": 539,
   "outputs": [],
   "source": [
    "from surprise import Reader , Dataset, SVD\n",
    "#from surprise import evaluate"
   ],
   "metadata": {
    "collapsed": false,
    "ExecuteTime": {
     "end_time": "2023-08-10T02:08:23.471161300Z",
     "start_time": "2023-08-10T02:08:23.435249600Z"
    }
   }
  },
  {
   "cell_type": "markdown",
   "source": [
    "Ops, problema, aqui não achamoso modeulo evaluate, mas com uma breve busca vemos que ele virou cross_validate"
   ],
   "metadata": {
    "collapsed": false
   }
  },
  {
   "cell_type": "code",
   "execution_count": 540,
   "outputs": [],
   "source": [
    "from surprise.model_selection import cross_validate"
   ],
   "metadata": {
    "collapsed": false
   }
  },
  {
   "cell_type": "code",
   "execution_count": 541,
   "outputs": [],
   "source": [
    "reader = Reader()\n",
    "ratings = df[['review_profilename','beer_beerid','review_overall']]"
   ],
   "metadata": {
    "collapsed": false
   }
  },
  {
   "cell_type": "code",
   "execution_count": 542,
   "outputs": [
    {
     "data": {
      "text/plain": "        review_profilename  beer_beerid  review_overall\n1              Likeburning        20575             4.0\n26               superspak        36862             3.5\n28           Viciousknishs        36862             4.0\n29           sixerofelixir        36862             3.5\n30                Trystero        36862             4.0\n...                    ...          ...             ...\n1586242          clickpush        33766             4.0\n1586243    blitheringidiot        33766             2.0\n1586244          IntriqKen        33766             4.0\n1586245                Ego        33766             4.0\n1586246        GCBrewingCo        33766             4.0\n\n[1256505 rows x 3 columns]",
      "text/html": "<div>\n<style scoped>\n    .dataframe tbody tr th:only-of-type {\n        vertical-align: middle;\n    }\n\n    .dataframe tbody tr th {\n        vertical-align: top;\n    }\n\n    .dataframe thead th {\n        text-align: right;\n    }\n</style>\n<table border=\"1\" class=\"dataframe\">\n  <thead>\n    <tr style=\"text-align: right;\">\n      <th></th>\n      <th>review_profilename</th>\n      <th>beer_beerid</th>\n      <th>review_overall</th>\n    </tr>\n  </thead>\n  <tbody>\n    <tr>\n      <th>1</th>\n      <td>Likeburning</td>\n      <td>20575</td>\n      <td>4.0</td>\n    </tr>\n    <tr>\n      <th>26</th>\n      <td>superspak</td>\n      <td>36862</td>\n      <td>3.5</td>\n    </tr>\n    <tr>\n      <th>28</th>\n      <td>Viciousknishs</td>\n      <td>36862</td>\n      <td>4.0</td>\n    </tr>\n    <tr>\n      <th>29</th>\n      <td>sixerofelixir</td>\n      <td>36862</td>\n      <td>3.5</td>\n    </tr>\n    <tr>\n      <th>30</th>\n      <td>Trystero</td>\n      <td>36862</td>\n      <td>4.0</td>\n    </tr>\n    <tr>\n      <th>...</th>\n      <td>...</td>\n      <td>...</td>\n      <td>...</td>\n    </tr>\n    <tr>\n      <th>1586242</th>\n      <td>clickpush</td>\n      <td>33766</td>\n      <td>4.0</td>\n    </tr>\n    <tr>\n      <th>1586243</th>\n      <td>blitheringidiot</td>\n      <td>33766</td>\n      <td>2.0</td>\n    </tr>\n    <tr>\n      <th>1586244</th>\n      <td>IntriqKen</td>\n      <td>33766</td>\n      <td>4.0</td>\n    </tr>\n    <tr>\n      <th>1586245</th>\n      <td>Ego</td>\n      <td>33766</td>\n      <td>4.0</td>\n    </tr>\n    <tr>\n      <th>1586246</th>\n      <td>GCBrewingCo</td>\n      <td>33766</td>\n      <td>4.0</td>\n    </tr>\n  </tbody>\n</table>\n<p>1256505 rows × 3 columns</p>\n</div>"
     },
     "execution_count": 542,
     "metadata": {},
     "output_type": "execute_result"
    }
   ],
   "source": [
    "ratings"
   ],
   "metadata": {
    "collapsed": false
   }
  },
  {
   "cell_type": "markdown",
   "source": [
    "Com base na distribuição plotada vamos categorizar nossos dados em 3 classes, bom médio e ruim, onde vamos normalizar com 0, 1 e 2"
   ],
   "metadata": {
    "collapsed": false
   }
  },
  {
   "cell_type": "code",
   "execution_count": 543,
   "outputs": [
    {
     "data": {
      "text/plain": "'def map_review(value):\\n    if value <= 3:\\n        return 0\\n    elif 3 < value < 4.5:\\n        return 1\\n    else:\\n        return 2'"
     },
     "execution_count": 543,
     "metadata": {},
     "output_type": "execute_result"
    }
   ],
   "source": [
    "'''def map_review(value):\n",
    "    if value <= 3:\n",
    "        return 0\n",
    "    elif 3 < value < 4.5:\n",
    "        return 1\n",
    "    else:\n",
    "        return 2'''"
   ],
   "metadata": {
    "collapsed": false
   }
  },
  {
   "cell_type": "code",
   "execution_count": 544,
   "outputs": [
    {
     "data": {
      "text/plain": "\"ratings['review_mapped'] = df['review_overall'].apply(map_review)\\nratings = ratings.drop(columns=['review_overall'])\""
     },
     "execution_count": 544,
     "metadata": {},
     "output_type": "execute_result"
    }
   ],
   "source": [
    "'''ratings['review_mapped'] = df['review_overall'].apply(map_review)\n",
    "ratings = ratings.drop(columns=['review_overall'])'''"
   ],
   "metadata": {
    "collapsed": false
   }
  },
  {
   "cell_type": "code",
   "execution_count": 545,
   "outputs": [
    {
     "data": {
      "text/plain": "        review_profilename  beer_beerid  review_overall\n1              Likeburning        20575             4.0\n26               superspak        36862             3.5\n28           Viciousknishs        36862             4.0\n29           sixerofelixir        36862             3.5\n30                Trystero        36862             4.0\n...                    ...          ...             ...\n1586242          clickpush        33766             4.0\n1586243    blitheringidiot        33766             2.0\n1586244          IntriqKen        33766             4.0\n1586245                Ego        33766             4.0\n1586246        GCBrewingCo        33766             4.0\n\n[1256505 rows x 3 columns]",
      "text/html": "<div>\n<style scoped>\n    .dataframe tbody tr th:only-of-type {\n        vertical-align: middle;\n    }\n\n    .dataframe tbody tr th {\n        vertical-align: top;\n    }\n\n    .dataframe thead th {\n        text-align: right;\n    }\n</style>\n<table border=\"1\" class=\"dataframe\">\n  <thead>\n    <tr style=\"text-align: right;\">\n      <th></th>\n      <th>review_profilename</th>\n      <th>beer_beerid</th>\n      <th>review_overall</th>\n    </tr>\n  </thead>\n  <tbody>\n    <tr>\n      <th>1</th>\n      <td>Likeburning</td>\n      <td>20575</td>\n      <td>4.0</td>\n    </tr>\n    <tr>\n      <th>26</th>\n      <td>superspak</td>\n      <td>36862</td>\n      <td>3.5</td>\n    </tr>\n    <tr>\n      <th>28</th>\n      <td>Viciousknishs</td>\n      <td>36862</td>\n      <td>4.0</td>\n    </tr>\n    <tr>\n      <th>29</th>\n      <td>sixerofelixir</td>\n      <td>36862</td>\n      <td>3.5</td>\n    </tr>\n    <tr>\n      <th>30</th>\n      <td>Trystero</td>\n      <td>36862</td>\n      <td>4.0</td>\n    </tr>\n    <tr>\n      <th>...</th>\n      <td>...</td>\n      <td>...</td>\n      <td>...</td>\n    </tr>\n    <tr>\n      <th>1586242</th>\n      <td>clickpush</td>\n      <td>33766</td>\n      <td>4.0</td>\n    </tr>\n    <tr>\n      <th>1586243</th>\n      <td>blitheringidiot</td>\n      <td>33766</td>\n      <td>2.0</td>\n    </tr>\n    <tr>\n      <th>1586244</th>\n      <td>IntriqKen</td>\n      <td>33766</td>\n      <td>4.0</td>\n    </tr>\n    <tr>\n      <th>1586245</th>\n      <td>Ego</td>\n      <td>33766</td>\n      <td>4.0</td>\n    </tr>\n    <tr>\n      <th>1586246</th>\n      <td>GCBrewingCo</td>\n      <td>33766</td>\n      <td>4.0</td>\n    </tr>\n  </tbody>\n</table>\n<p>1256505 rows × 3 columns</p>\n</div>"
     },
     "execution_count": 545,
     "metadata": {},
     "output_type": "execute_result"
    }
   ],
   "source": [
    "ratings"
   ],
   "metadata": {
    "collapsed": false
   }
  },
  {
   "cell_type": "markdown",
   "source": [
    "----------------------------------"
   ],
   "metadata": {
    "collapsed": false
   }
  },
  {
   "cell_type": "code",
   "execution_count": 546,
   "outputs": [],
   "source": [
    "data = Dataset.load_from_df(ratings[['review_profilename','beer_beerid','review_overall']], reader)"
   ],
   "metadata": {
    "collapsed": false
   }
  },
  {
   "cell_type": "code",
   "execution_count": 547,
   "outputs": [
    {
     "data": {
      "text/plain": "{'test_rmse': array([0.57909387, 0.57848773, 0.5779633 , 0.57742819, 0.57943579]),\n 'test_mae': array([0.43446866, 0.43302358, 0.43275283, 0.43237768, 0.43469197]),\n 'fit_time': (45.83100366592407,\n  46.21909499168396,\n  46.31190061569214,\n  46.361241817474365,\n  46.178187131881714),\n 'test_time': (1.4270002841949463,\n  1.3860211372375488,\n  1.357999563217163,\n  1.3489997386932373,\n  1.364992618560791)}"
     },
     "execution_count": 547,
     "metadata": {},
     "output_type": "execute_result"
    }
   ],
   "source": [
    "from surprise.model_selection import KFold\n",
    "\n",
    "svd = SVD()\n",
    "kf = KFold(n_splits=5)\n",
    "kf.split(data)\n",
    "cross_validate(svd, data, measures=['RMSE', 'MAE'])"
   ],
   "metadata": {
    "collapsed": false
   }
  },
  {
   "cell_type": "code",
   "execution_count": 548,
   "outputs": [
    {
     "data": {
      "text/plain": "<surprise.prediction_algorithms.matrix_factorization.SVD at 0x27952df0>"
     },
     "execution_count": 548,
     "metadata": {},
     "output_type": "execute_result"
    }
   ],
   "source": [
    "trainset = data.build_full_trainset()\n",
    "svd.fit(trainset)"
   ],
   "metadata": {
    "collapsed": false
   }
  },
  {
   "cell_type": "code",
   "execution_count": 549,
   "outputs": [
    {
     "data": {
      "text/plain": "        review_profilename  beer_beerid  review_overall\n844                  Strix        48434             4.0\n2029                 Strix          772             2.5\n3116                 Strix           82             4.0\n7511                 Strix        37586             4.0\n7847                 Strix        47539             4.0\n...                    ...          ...             ...\n1564895              Strix         1708             5.0\n1571300              Strix         1934             4.0\n1572127              Strix        28944             4.5\n1575916              Strix        35720             2.5\n1580091              Strix         6104             3.5\n\n[470 rows x 3 columns]",
      "text/html": "<div>\n<style scoped>\n    .dataframe tbody tr th:only-of-type {\n        vertical-align: middle;\n    }\n\n    .dataframe tbody tr th {\n        vertical-align: top;\n    }\n\n    .dataframe thead th {\n        text-align: right;\n    }\n</style>\n<table border=\"1\" class=\"dataframe\">\n  <thead>\n    <tr style=\"text-align: right;\">\n      <th></th>\n      <th>review_profilename</th>\n      <th>beer_beerid</th>\n      <th>review_overall</th>\n    </tr>\n  </thead>\n  <tbody>\n    <tr>\n      <th>844</th>\n      <td>Strix</td>\n      <td>48434</td>\n      <td>4.0</td>\n    </tr>\n    <tr>\n      <th>2029</th>\n      <td>Strix</td>\n      <td>772</td>\n      <td>2.5</td>\n    </tr>\n    <tr>\n      <th>3116</th>\n      <td>Strix</td>\n      <td>82</td>\n      <td>4.0</td>\n    </tr>\n    <tr>\n      <th>7511</th>\n      <td>Strix</td>\n      <td>37586</td>\n      <td>4.0</td>\n    </tr>\n    <tr>\n      <th>7847</th>\n      <td>Strix</td>\n      <td>47539</td>\n      <td>4.0</td>\n    </tr>\n    <tr>\n      <th>...</th>\n      <td>...</td>\n      <td>...</td>\n      <td>...</td>\n    </tr>\n    <tr>\n      <th>1564895</th>\n      <td>Strix</td>\n      <td>1708</td>\n      <td>5.0</td>\n    </tr>\n    <tr>\n      <th>1571300</th>\n      <td>Strix</td>\n      <td>1934</td>\n      <td>4.0</td>\n    </tr>\n    <tr>\n      <th>1572127</th>\n      <td>Strix</td>\n      <td>28944</td>\n      <td>4.5</td>\n    </tr>\n    <tr>\n      <th>1575916</th>\n      <td>Strix</td>\n      <td>35720</td>\n      <td>2.5</td>\n    </tr>\n    <tr>\n      <th>1580091</th>\n      <td>Strix</td>\n      <td>6104</td>\n      <td>3.5</td>\n    </tr>\n  </tbody>\n</table>\n<p>470 rows × 3 columns</p>\n</div>"
     },
     "execution_count": 549,
     "metadata": {},
     "output_type": "execute_result"
    }
   ],
   "source": [
    "ratings[ratings['review_profilename'] == 'Strix']"
   ],
   "metadata": {
    "collapsed": false
   }
  },
  {
   "cell_type": "code",
   "execution_count": 550,
   "outputs": [
    {
     "data": {
      "text/plain": "Prediction(uid='Strix', iid=26432, r_ui=None, est=3.5382359363939693, details={'was_impossible': False})"
     },
     "execution_count": 550,
     "metadata": {},
     "output_type": "execute_result"
    }
   ],
   "source": [
    "svd.predict('Strix', 26432)"
   ],
   "metadata": {
    "collapsed": false
   }
  },
  {
   "cell_type": "markdown",
   "source": [
    "Desse jeito ainda não conseguimos recomendar, apenas mostrar o resultado de previsão para um usuário já conhecido"
   ],
   "metadata": {
    "collapsed": false
   }
  },
  {
   "cell_type": "code",
   "execution_count": 655,
   "outputs": [
    {
     "data": {
      "text/plain": "         review_overall  review_aroma  review_appearance review_profilename  \\\n1                   4.0           4.0                3.0        Likeburning   \n26                  3.5           3.5                3.0          superspak   \n28                  4.0           4.0                3.0      Viciousknishs   \n29                  3.5           3.5                4.0      sixerofelixir   \n30                  4.0           4.0                4.5           Trystero   \n...                 ...           ...                ...                ...   \n1586242             4.0           4.0                4.5          clickpush   \n1586243             2.0           3.0                3.0    blitheringidiot   \n1586244             4.0           3.5                3.5          IntriqKen   \n1586245             4.0           3.5                4.0                Ego   \n1586246             4.0           3.5                4.0        GCBrewingCo   \n\n                              beer_style  review_palate  review_taste  \\\n1                             Hefeweizen            4.0           3.5   \n26                            Hefeweizen            4.0           4.0   \n28                            Hefeweizen            3.5           3.5   \n29                            Hefeweizen            4.0           4.0   \n30                            Hefeweizen            4.5           4.0   \n...                                  ...            ...           ...   \n1586242  Bière de Champagne / Bière Brut            2.5           3.5   \n1586243  Bière de Champagne / Bière Brut            3.0           3.0   \n1586244  Bière de Champagne / Bière Brut            4.0           4.5   \n1586245  Bière de Champagne / Bière Brut            4.0           3.5   \n1586246  Bière de Champagne / Bière Brut            4.0           3.5   \n\n                   beer_name  beer_abv  beer_beerid  mean ibu  avg_user_score  \n1                 Hefeweizen       5.0        20575      12.5        3.423077  \n26       Wild Frog Wheat Ale       6.0        36862      12.5        4.038012  \n28       Wild Frog Wheat Ale       6.0        36862      12.5        3.966258  \n29       Wild Frog Wheat Ale       6.0        36862      12.5        3.663380  \n30       Wild Frog Wheat Ale       6.0        36862      12.5        4.240000  \n...                      ...       ...          ...       ...             ...  \n1586242       Krait Prestige       8.0        33766      40.0        3.824232  \n1586243       Krait Prestige       8.0        33766      40.0        3.669089  \n1586244       Krait Prestige       8.0        33766      40.0        3.955544  \n1586245       Krait Prestige       8.0        33766      40.0        3.893557  \n1586246       Krait Prestige       8.0        33766      40.0        3.957006  \n\n[1256505 rows x 12 columns]",
      "text/html": "<div>\n<style scoped>\n    .dataframe tbody tr th:only-of-type {\n        vertical-align: middle;\n    }\n\n    .dataframe tbody tr th {\n        vertical-align: top;\n    }\n\n    .dataframe thead th {\n        text-align: right;\n    }\n</style>\n<table border=\"1\" class=\"dataframe\">\n  <thead>\n    <tr style=\"text-align: right;\">\n      <th></th>\n      <th>review_overall</th>\n      <th>review_aroma</th>\n      <th>review_appearance</th>\n      <th>review_profilename</th>\n      <th>beer_style</th>\n      <th>review_palate</th>\n      <th>review_taste</th>\n      <th>beer_name</th>\n      <th>beer_abv</th>\n      <th>beer_beerid</th>\n      <th>mean ibu</th>\n      <th>avg_user_score</th>\n    </tr>\n  </thead>\n  <tbody>\n    <tr>\n      <th>1</th>\n      <td>4.0</td>\n      <td>4.0</td>\n      <td>3.0</td>\n      <td>Likeburning</td>\n      <td>Hefeweizen</td>\n      <td>4.0</td>\n      <td>3.5</td>\n      <td>Hefeweizen</td>\n      <td>5.0</td>\n      <td>20575</td>\n      <td>12.5</td>\n      <td>3.423077</td>\n    </tr>\n    <tr>\n      <th>26</th>\n      <td>3.5</td>\n      <td>3.5</td>\n      <td>3.0</td>\n      <td>superspak</td>\n      <td>Hefeweizen</td>\n      <td>4.0</td>\n      <td>4.0</td>\n      <td>Wild Frog Wheat Ale</td>\n      <td>6.0</td>\n      <td>36862</td>\n      <td>12.5</td>\n      <td>4.038012</td>\n    </tr>\n    <tr>\n      <th>28</th>\n      <td>4.0</td>\n      <td>4.0</td>\n      <td>3.0</td>\n      <td>Viciousknishs</td>\n      <td>Hefeweizen</td>\n      <td>3.5</td>\n      <td>3.5</td>\n      <td>Wild Frog Wheat Ale</td>\n      <td>6.0</td>\n      <td>36862</td>\n      <td>12.5</td>\n      <td>3.966258</td>\n    </tr>\n    <tr>\n      <th>29</th>\n      <td>3.5</td>\n      <td>3.5</td>\n      <td>4.0</td>\n      <td>sixerofelixir</td>\n      <td>Hefeweizen</td>\n      <td>4.0</td>\n      <td>4.0</td>\n      <td>Wild Frog Wheat Ale</td>\n      <td>6.0</td>\n      <td>36862</td>\n      <td>12.5</td>\n      <td>3.663380</td>\n    </tr>\n    <tr>\n      <th>30</th>\n      <td>4.0</td>\n      <td>4.0</td>\n      <td>4.5</td>\n      <td>Trystero</td>\n      <td>Hefeweizen</td>\n      <td>4.5</td>\n      <td>4.0</td>\n      <td>Wild Frog Wheat Ale</td>\n      <td>6.0</td>\n      <td>36862</td>\n      <td>12.5</td>\n      <td>4.240000</td>\n    </tr>\n    <tr>\n      <th>...</th>\n      <td>...</td>\n      <td>...</td>\n      <td>...</td>\n      <td>...</td>\n      <td>...</td>\n      <td>...</td>\n      <td>...</td>\n      <td>...</td>\n      <td>...</td>\n      <td>...</td>\n      <td>...</td>\n      <td>...</td>\n    </tr>\n    <tr>\n      <th>1586242</th>\n      <td>4.0</td>\n      <td>4.0</td>\n      <td>4.5</td>\n      <td>clickpush</td>\n      <td>Bière de Champagne / Bière Brut</td>\n      <td>2.5</td>\n      <td>3.5</td>\n      <td>Krait Prestige</td>\n      <td>8.0</td>\n      <td>33766</td>\n      <td>40.0</td>\n      <td>3.824232</td>\n    </tr>\n    <tr>\n      <th>1586243</th>\n      <td>2.0</td>\n      <td>3.0</td>\n      <td>3.0</td>\n      <td>blitheringidiot</td>\n      <td>Bière de Champagne / Bière Brut</td>\n      <td>3.0</td>\n      <td>3.0</td>\n      <td>Krait Prestige</td>\n      <td>8.0</td>\n      <td>33766</td>\n      <td>40.0</td>\n      <td>3.669089</td>\n    </tr>\n    <tr>\n      <th>1586244</th>\n      <td>4.0</td>\n      <td>3.5</td>\n      <td>3.5</td>\n      <td>IntriqKen</td>\n      <td>Bière de Champagne / Bière Brut</td>\n      <td>4.0</td>\n      <td>4.5</td>\n      <td>Krait Prestige</td>\n      <td>8.0</td>\n      <td>33766</td>\n      <td>40.0</td>\n      <td>3.955544</td>\n    </tr>\n    <tr>\n      <th>1586245</th>\n      <td>4.0</td>\n      <td>3.5</td>\n      <td>4.0</td>\n      <td>Ego</td>\n      <td>Bière de Champagne / Bière Brut</td>\n      <td>4.0</td>\n      <td>3.5</td>\n      <td>Krait Prestige</td>\n      <td>8.0</td>\n      <td>33766</td>\n      <td>40.0</td>\n      <td>3.893557</td>\n    </tr>\n    <tr>\n      <th>1586246</th>\n      <td>4.0</td>\n      <td>3.5</td>\n      <td>4.0</td>\n      <td>GCBrewingCo</td>\n      <td>Bière de Champagne / Bière Brut</td>\n      <td>4.0</td>\n      <td>3.5</td>\n      <td>Krait Prestige</td>\n      <td>8.0</td>\n      <td>33766</td>\n      <td>40.0</td>\n      <td>3.957006</td>\n    </tr>\n  </tbody>\n</table>\n<p>1256505 rows × 12 columns</p>\n</div>"
     },
     "execution_count": 655,
     "metadata": {},
     "output_type": "execute_result"
    }
   ],
   "source": [
    "df"
   ],
   "metadata": {
    "collapsed": false
   }
  },
  {
   "cell_type": "code",
   "execution_count": 656,
   "outputs": [
    {
     "data": {
      "text/plain": "Text(0.5, 1.0, 'Distribution of Average User Scores')"
     },
     "execution_count": 656,
     "metadata": {},
     "output_type": "execute_result"
    },
    {
     "data": {
      "text/plain": "<Figure size 640x480 with 1 Axes>",
      "image/png": "[encoded data removed]"
     },
     "metadata": {},
     "output_type": "display_data"
    }
   ],
   "source": [
    "plt.hist(df['review_overall'], bins=25, edgecolor='black')\n",
    "\n",
    "# Adicione rótulos e título ao gráfico\n",
    "plt.xlabel('Average review Score')\n",
    "plt.ylabel('Frequency')\n",
    "plt.title('Distribution of Average User Scores')"
   ],
   "metadata": {
    "collapsed": false
   }
  },
  {
   "cell_type": "markdown",
   "source": [
    "Uau, o comportamento dos usuários é muito \"proximo\", como será que vamos captar esses gostos pessoais\n",
    "\n",
    "0 a 3\n",
    "3.5 a 4.5\n",
    "4.6 a 5\n"
   ],
   "metadata": {
    "collapsed": false
   }
  },
  {
   "cell_type": "code",
   "execution_count": 657,
   "outputs": [],
   "source": [
    "n12 = df.loc[df['review_overall']<3]\n",
    "n3 = df.loc[df['review_overall'] == 3]\n",
    "n35 = df.loc[df['review_overall'] == 3.5]\n",
    "n4 = df.loc[df['review_overall'] == 4]\n",
    "n45 = df.loc[df['review_overall'] == 4.5]\n",
    "n5 = df.loc[df['review_overall'] == 5]"
   ],
   "metadata": {
    "collapsed": false
   }
  },
  {
   "cell_type": "code",
   "execution_count": 658,
   "outputs": [
    {
     "data": {
      "text/plain": "(81913, 12)"
     },
     "execution_count": 658,
     "metadata": {},
     "output_type": "execute_result"
    }
   ],
   "source": [
    "n12.shape"
   ],
   "metadata": {
    "collapsed": false
   }
  },
  {
   "cell_type": "code",
   "execution_count": 659,
   "outputs": [
    {
     "data": {
      "text/plain": "(124068, 12)"
     },
     "execution_count": 659,
     "metadata": {},
     "output_type": "execute_result"
    }
   ],
   "source": [
    "n3.shape"
   ],
   "metadata": {
    "collapsed": false
   }
  },
  {
   "cell_type": "code",
   "execution_count": 660,
   "outputs": [
    {
     "data": {
      "text/plain": "(239007, 12)"
     },
     "execution_count": 660,
     "metadata": {},
     "output_type": "execute_result"
    }
   ],
   "source": [
    "n35.shape"
   ],
   "metadata": {
    "collapsed": false
   }
  },
  {
   "cell_type": "code",
   "execution_count": 661,
   "outputs": [
    {
     "data": {
      "text/plain": "(476920, 12)"
     },
     "execution_count": 661,
     "metadata": {},
     "output_type": "execute_result"
    }
   ],
   "source": [
    "n4.shape"
   ],
   "metadata": {
    "collapsed": false
   }
  },
  {
   "cell_type": "code",
   "execution_count": 662,
   "outputs": [
    {
     "data": {
      "text/plain": "(265918, 12)"
     },
     "execution_count": 662,
     "metadata": {},
     "output_type": "execute_result"
    }
   ],
   "source": [
    "n45.shape"
   ],
   "metadata": {
    "collapsed": false
   }
  },
  {
   "cell_type": "code",
   "execution_count": 663,
   "outputs": [
    {
     "data": {
      "text/plain": "(68679, 12)"
     },
     "execution_count": 663,
     "metadata": {},
     "output_type": "execute_result"
    }
   ],
   "source": [
    "n5.shape"
   ],
   "metadata": {
    "collapsed": false
   }
  },
  {
   "cell_type": "code",
   "execution_count": 664,
   "outputs": [],
   "source": [
    "n35 = n35.sample(n=132000, random_state=42)\n",
    "n4 = n4.sample(n=145000, random_state=42)\n",
    "n45 = n45.sample(n=135000, random_state=42)"
   ],
   "metadata": {
    "collapsed": false
   }
  },
  {
   "cell_type": "code",
   "execution_count": 665,
   "outputs": [
    {
     "name": "stdout",
     "output_type": "stream",
     "text": [
      "(81913, 12) (124068, 12) (132000, 12) (145000, 12) (135000, 12) (68679, 12)\n"
     ]
    }
   ],
   "source": [
    "print(n12.shape,n3.shape,\n",
    "n35.shape,\n",
    "n4.shape,\n",
    "n45.shape,\n",
    "n5.shape)"
   ],
   "metadata": {
    "collapsed": false
   }
  },
  {
   "cell_type": "markdown",
   "source": [
    "Parece que nossas classes estão mais balanceadas agora, porém perdemos quase um milhão de dados no processo"
   ],
   "metadata": {
    "collapsed": false
   }
  },
  {
   "cell_type": "code",
   "execution_count": 666,
   "outputs": [
    {
     "name": "stderr",
     "output_type": "stream",
     "text": [
      "C:\\Users\\Artur\\AppData\\Local\\Temp\\ipykernel_14096\\1420787094.py:8: FutureWarning: The frame.append method is deprecated and will be removed from pandas in a future version. Use pandas.concat instead.\n",
      "  df2 = df2.append(df, ignore_index=True)\n"
     ]
    }
   ],
   "source": [
    "dataframes = [n12, n3, n35, n4, n45, n5]\n",
    "\n",
    "# Crie um DataFrame vazio com o mesmo esquema\n",
    "df2 = pd.DataFrame(columns=dataframes[0].columns)\n",
    "\n",
    "# Adicione os DataFrames ao DataFrame combinado (df2)\n",
    "for df in dataframes:\n",
    "    df2 = df2.append(df, ignore_index=True)"
   ],
   "metadata": {
    "collapsed": false
   }
  },
  {
   "cell_type": "code",
   "execution_count": 667,
   "outputs": [
    {
     "data": {
      "text/plain": "        review_overall  review_aroma  review_appearance review_profilename  \\\n0                  2.5           4.5                2.5      JamnesCameron   \n1                  2.0           2.0                2.0             jsh420   \n2                  2.5           4.0                3.5      GatorBeerNerd   \n3                  2.5           3.5                3.5            AltBock   \n4                  2.5           3.0                3.0       bluejacket74   \n...                ...           ...                ...                ...   \n686655             5.0           4.0                4.5         rajendra82   \n686656             5.0           4.0                4.5     DaPeculierDane   \n686657             5.0           4.0                4.0            Bobikel   \n686658             5.0           4.5                5.0            marburg   \n686659             5.0           3.0                3.5        SilentSabre   \n\n                             beer_style  review_palate  review_taste  \\\n0                            Hefeweizen            2.5           2.5   \n1                            Hefeweizen            2.0           2.0   \n2                            Hefeweizen            3.0           3.5   \n3                            Hefeweizen            2.5           3.0   \n4                            Hefeweizen            3.5           2.5   \n...                                 ...            ...           ...   \n686655  Bière de Champagne / Bière Brut            4.5           4.0   \n686656  Bière de Champagne / Bière Brut            5.0           4.5   \n686657  Bière de Champagne / Bière Brut            4.0           3.5   \n686658  Bière de Champagne / Bière Brut            4.5           4.5   \n686659  Bière de Champagne / Bière Brut            3.5           3.5   \n\n                                  beer_name  beer_abv beer_beerid  mean ibu  \\\n0                       Wild Frog Wheat Ale       6.0       36862      12.5   \n1                       Wild Frog Wheat Ale       6.0       36862      12.5   \n2                       Wild Frog Wheat Ale       6.0       36862      12.5   \n3                       Wild Frog Wheat Ale       6.0       36862      12.5   \n4                       Wild Frog Wheat Ale       6.0       36862      12.5   \n...                                     ...       ...         ...       ...   \n686655  Malheur Brut Noir (Black Chocolate)      12.0       16487      40.0   \n686656  Malheur Brut Noir (Black Chocolate)      12.0       16487      40.0   \n686657  Malheur Brut Noir (Black Chocolate)      12.0       16487      40.0   \n686658  Malheur Brut Noir (Black Chocolate)      12.0       16487      40.0   \n686659                       Krait Prestige       8.0       33766      40.0   \n\n        avg_user_score  \n0             3.968675  \n1             3.678862  \n2             3.984914  \n3             3.635234  \n4             3.874805  \n...                ...  \n686655        4.000665  \n686656        3.831050  \n686657        3.993590  \n686658        4.111324  \n686659        3.668684  \n\n[686660 rows x 12 columns]",
      "text/html": "<div>\n<style scoped>\n    .dataframe tbody tr th:only-of-type {\n        vertical-align: middle;\n    }\n\n    .dataframe tbody tr th {\n        vertical-align: top;\n    }\n\n    .dataframe thead th {\n        text-align: right;\n    }\n</style>\n<table border=\"1\" class=\"dataframe\">\n  <thead>\n    <tr style=\"text-align: right;\">\n      <th></th>\n      <th>review_overall</th>\n      <th>review_aroma</th>\n      <th>review_appearance</th>\n      <th>review_profilename</th>\n      <th>beer_style</th>\n      <th>review_palate</th>\n      <th>review_taste</th>\n      <th>beer_name</th>\n      <th>beer_abv</th>\n      <th>beer_beerid</th>\n      <th>mean ibu</th>\n      <th>avg_user_score</th>\n    </tr>\n  </thead>\n  <tbody>\n    <tr>\n      <th>0</th>\n      <td>2.5</td>\n      <td>4.5</td>\n      <td>2.5</td>\n      <td>JamnesCameron</td>\n      <td>Hefeweizen</td>\n      <td>2.5</td>\n      <td>2.5</td>\n      <td>Wild Frog Wheat Ale</td>\n      <td>6.0</td>\n      <td>36862</td>\n      <td>12.5</td>\n      <td>3.968675</td>\n    </tr>\n    <tr>\n      <th>1</th>\n      <td>2.0</td>\n      <td>2.0</td>\n      <td>2.0</td>\n      <td>jsh420</td>\n      <td>Hefeweizen</td>\n      <td>2.0</td>\n      <td>2.0</td>\n      <td>Wild Frog Wheat Ale</td>\n      <td>6.0</td>\n      <td>36862</td>\n      <td>12.5</td>\n      <td>3.678862</td>\n    </tr>\n    <tr>\n      <th>2</th>\n      <td>2.5</td>\n      <td>4.0</td>\n      <td>3.5</td>\n      <td>GatorBeerNerd</td>\n      <td>Hefeweizen</td>\n      <td>3.0</td>\n      <td>3.5</td>\n      <td>Wild Frog Wheat Ale</td>\n      <td>6.0</td>\n      <td>36862</td>\n      <td>12.5</td>\n      <td>3.984914</td>\n    </tr>\n    <tr>\n      <th>3</th>\n      <td>2.5</td>\n      <td>3.5</td>\n      <td>3.5</td>\n      <td>AltBock</td>\n      <td>Hefeweizen</td>\n      <td>2.5</td>\n      <td>3.0</td>\n      <td>Wild Frog Wheat Ale</td>\n      <td>6.0</td>\n      <td>36862</td>\n      <td>12.5</td>\n      <td>3.635234</td>\n    </tr>\n    <tr>\n      <th>4</th>\n      <td>2.5</td>\n      <td>3.0</td>\n      <td>3.0</td>\n      <td>bluejacket74</td>\n      <td>Hefeweizen</td>\n      <td>3.5</td>\n      <td>2.5</td>\n      <td>Wild Frog Wheat Ale</td>\n      <td>6.0</td>\n      <td>36862</td>\n      <td>12.5</td>\n      <td>3.874805</td>\n    </tr>\n    <tr>\n      <th>...</th>\n      <td>...</td>\n      <td>...</td>\n      <td>...</td>\n      <td>...</td>\n      <td>...</td>\n      <td>...</td>\n      <td>...</td>\n      <td>...</td>\n      <td>...</td>\n      <td>...</td>\n      <td>...</td>\n      <td>...</td>\n    </tr>\n    <tr>\n      <th>686655</th>\n      <td>5.0</td>\n      <td>4.0</td>\n      <td>4.5</td>\n      <td>rajendra82</td>\n      <td>Bière de Champagne / Bière Brut</td>\n      <td>4.5</td>\n      <td>4.0</td>\n      <td>Malheur Brut Noir (Black Chocolate)</td>\n      <td>12.0</td>\n      <td>16487</td>\n      <td>40.0</td>\n      <td>4.000665</td>\n    </tr>\n    <tr>\n      <th>686656</th>\n      <td>5.0</td>\n      <td>4.0</td>\n      <td>4.5</td>\n      <td>DaPeculierDane</td>\n      <td>Bière de Champagne / Bière Brut</td>\n      <td>5.0</td>\n      <td>4.5</td>\n      <td>Malheur Brut Noir (Black Chocolate)</td>\n      <td>12.0</td>\n      <td>16487</td>\n      <td>40.0</td>\n      <td>3.831050</td>\n    </tr>\n    <tr>\n      <th>686657</th>\n      <td>5.0</td>\n      <td>4.0</td>\n      <td>4.0</td>\n      <td>Bobikel</td>\n      <td>Bière de Champagne / Bière Brut</td>\n      <td>4.0</td>\n      <td>3.5</td>\n      <td>Malheur Brut Noir (Black Chocolate)</td>\n      <td>12.0</td>\n      <td>16487</td>\n      <td>40.0</td>\n      <td>3.993590</td>\n    </tr>\n    <tr>\n      <th>686658</th>\n      <td>5.0</td>\n      <td>4.5</td>\n      <td>5.0</td>\n      <td>marburg</td>\n      <td>Bière de Champagne / Bière Brut</td>\n      <td>4.5</td>\n      <td>4.5</td>\n      <td>Malheur Brut Noir (Black Chocolate)</td>\n      <td>12.0</td>\n      <td>16487</td>\n      <td>40.0</td>\n      <td>4.111324</td>\n    </tr>\n    <tr>\n      <th>686659</th>\n      <td>5.0</td>\n      <td>3.0</td>\n      <td>3.5</td>\n      <td>SilentSabre</td>\n      <td>Bière de Champagne / Bière Brut</td>\n      <td>3.5</td>\n      <td>3.5</td>\n      <td>Krait Prestige</td>\n      <td>8.0</td>\n      <td>33766</td>\n      <td>40.0</td>\n      <td>3.668684</td>\n    </tr>\n  </tbody>\n</table>\n<p>686660 rows × 12 columns</p>\n</div>"
     },
     "execution_count": 667,
     "metadata": {},
     "output_type": "execute_result"
    }
   ],
   "source": [
    "df2"
   ],
   "metadata": {
    "collapsed": false
   }
  },
  {
   "cell_type": "code",
   "execution_count": 668,
   "outputs": [
    {
     "data": {
      "text/plain": "Text(0.5, 1.0, 'Distribution of Average User Scores')"
     },
     "execution_count": 668,
     "metadata": {},
     "output_type": "execute_result"
    },
    {
     "data": {
      "text/plain": "<Figure size 640x480 with 1 Axes>",
      "image/png": "[encoded data removed]"
     },
     "metadata": {},
     "output_type": "display_data"
    }
   ],
   "source": [
    "plt.hist(df2['review_overall'], bins=40, edgecolor='black')\n",
    "\n",
    "# Adicione rótulos e título ao gráfico\n",
    "plt.xlabel('Average review Score')\n",
    "plt.ylabel('Frequency')\n",
    "plt.title('Distribution of Average User Scores')"
   ],
   "metadata": {
    "collapsed": false
   }
  },
  {
   "cell_type": "code",
   "execution_count": 669,
   "outputs": [
    {
     "data": {
      "text/plain": "       review_profilename beer_beerid  review_overall\n0           JamnesCameron       36862             2.5\n1                  jsh420       36862             2.0\n2           GatorBeerNerd       36862             2.5\n3                 AltBock       36862             2.5\n4            bluejacket74       36862             2.5\n...                   ...         ...             ...\n686655         rajendra82       16487             5.0\n686656     DaPeculierDane       16487             5.0\n686657            Bobikel       16487             5.0\n686658            marburg       16487             5.0\n686659        SilentSabre       33766             5.0\n\n[686660 rows x 3 columns]",
      "text/html": "<div>\n<style scoped>\n    .dataframe tbody tr th:only-of-type {\n        vertical-align: middle;\n    }\n\n    .dataframe tbody tr th {\n        vertical-align: top;\n    }\n\n    .dataframe thead th {\n        text-align: right;\n    }\n</style>\n<table border=\"1\" class=\"dataframe\">\n  <thead>\n    <tr style=\"text-align: right;\">\n      <th></th>\n      <th>review_profilename</th>\n      <th>beer_beerid</th>\n      <th>review_overall</th>\n    </tr>\n  </thead>\n  <tbody>\n    <tr>\n      <th>0</th>\n      <td>JamnesCameron</td>\n      <td>36862</td>\n      <td>2.5</td>\n    </tr>\n    <tr>\n      <th>1</th>\n      <td>jsh420</td>\n      <td>36862</td>\n      <td>2.0</td>\n    </tr>\n    <tr>\n      <th>2</th>\n      <td>GatorBeerNerd</td>\n      <td>36862</td>\n      <td>2.5</td>\n    </tr>\n    <tr>\n      <th>3</th>\n      <td>AltBock</td>\n      <td>36862</td>\n      <td>2.5</td>\n    </tr>\n    <tr>\n      <th>4</th>\n      <td>bluejacket74</td>\n      <td>36862</td>\n      <td>2.5</td>\n    </tr>\n    <tr>\n      <th>...</th>\n      <td>...</td>\n      <td>...</td>\n      <td>...</td>\n    </tr>\n    <tr>\n      <th>686655</th>\n      <td>rajendra82</td>\n      <td>16487</td>\n      <td>5.0</td>\n    </tr>\n    <tr>\n      <th>686656</th>\n      <td>DaPeculierDane</td>\n      <td>16487</td>\n      <td>5.0</td>\n    </tr>\n    <tr>\n      <th>686657</th>\n      <td>Bobikel</td>\n      <td>16487</td>\n      <td>5.0</td>\n    </tr>\n    <tr>\n      <th>686658</th>\n      <td>marburg</td>\n      <td>16487</td>\n      <td>5.0</td>\n    </tr>\n    <tr>\n      <th>686659</th>\n      <td>SilentSabre</td>\n      <td>33766</td>\n      <td>5.0</td>\n    </tr>\n  </tbody>\n</table>\n<p>686660 rows × 3 columns</p>\n</div>"
     },
     "execution_count": 669,
     "metadata": {},
     "output_type": "execute_result"
    }
   ],
   "source": [
    "reader = Reader()\n",
    "ratings = df2[['review_profilename', 'beer_beerid', 'review_overall']]\n",
    "ratings"
   ],
   "metadata": {
    "collapsed": false
   }
  },
  {
   "cell_type": "code",
   "execution_count": 670,
   "outputs": [
    {
     "data": {
      "text/plain": "{'test_rmse': array([0.69192685, 0.6951123 , 0.69280815, 0.69022577, 0.6959628 ]),\n 'test_mae': array([0.53741144, 0.53956858, 0.53889816, 0.53666725, 0.53956196]),\n 'fit_time': (25.068726301193237,\n  25.627520084381104,\n  26.0719952583313,\n  25.006978511810303,\n  24.70215082168579),\n 'test_time': (0.7599999904632568,\n  0.7559993267059326,\n  0.8380069732666016,\n  0.7840189933776855,\n  0.7699873447418213)}"
     },
     "execution_count": 670,
     "metadata": {},
     "output_type": "execute_result"
    }
   ],
   "source": [
    "data = Dataset.load_from_df(ratings[['review_profilename', 'beer_beerid', 'review_overall']], reader)\n",
    "\n",
    "svd = SVD()\n",
    "kf = KFold(n_splits=5)\n",
    "kf.split(data)\n",
    "cross_validate(svd, data, measures=['RMSE', 'MAE'])"
   ],
   "metadata": {
    "collapsed": false
   }
  },
  {
   "cell_type": "code",
   "execution_count": 671,
   "outputs": [
    {
     "data": {
      "text/plain": "<surprise.prediction_algorithms.matrix_factorization.SVD at 0x1b4eff430>"
     },
     "execution_count": 671,
     "metadata": {},
     "output_type": "execute_result"
    }
   ],
   "source": [
    "trainset = data.build_full_trainset()\n",
    "svd.fit(trainset)"
   ],
   "metadata": {
    "collapsed": false
   }
  },
  {
   "cell_type": "code",
   "execution_count": 672,
   "outputs": [
    {
     "data": {
      "text/plain": "        review_overall  review_aroma  review_appearance review_profilename  \\\n0                  2.5           4.5                2.5      JamnesCameron   \n1                  2.0           2.0                2.0             jsh420   \n2                  2.5           4.0                3.5      GatorBeerNerd   \n3                  2.5           3.5                3.5            AltBock   \n4                  2.5           3.0                3.0       bluejacket74   \n...                ...           ...                ...                ...   \n686655             5.0           4.0                4.5         rajendra82   \n686656             5.0           4.0                4.5     DaPeculierDane   \n686657             5.0           4.0                4.0            Bobikel   \n686658             5.0           4.5                5.0            marburg   \n686659             5.0           3.0                3.5        SilentSabre   \n\n                             beer_style  review_palate  review_taste  \\\n0                            Hefeweizen            2.5           2.5   \n1                            Hefeweizen            2.0           2.0   \n2                            Hefeweizen            3.0           3.5   \n3                            Hefeweizen            2.5           3.0   \n4                            Hefeweizen            3.5           2.5   \n...                                 ...            ...           ...   \n686655  Bière de Champagne / Bière Brut            4.5           4.0   \n686656  Bière de Champagne / Bière Brut            5.0           4.5   \n686657  Bière de Champagne / Bière Brut            4.0           3.5   \n686658  Bière de Champagne / Bière Brut            4.5           4.5   \n686659  Bière de Champagne / Bière Brut            3.5           3.5   \n\n                                  beer_name  beer_abv beer_beerid  mean ibu  \\\n0                       Wild Frog Wheat Ale       6.0       36862      12.5   \n1                       Wild Frog Wheat Ale       6.0       36862      12.5   \n2                       Wild Frog Wheat Ale       6.0       36862      12.5   \n3                       Wild Frog Wheat Ale       6.0       36862      12.5   \n4                       Wild Frog Wheat Ale       6.0       36862      12.5   \n...                                     ...       ...         ...       ...   \n686655  Malheur Brut Noir (Black Chocolate)      12.0       16487      40.0   \n686656  Malheur Brut Noir (Black Chocolate)      12.0       16487      40.0   \n686657  Malheur Brut Noir (Black Chocolate)      12.0       16487      40.0   \n686658  Malheur Brut Noir (Black Chocolate)      12.0       16487      40.0   \n686659                       Krait Prestige       8.0       33766      40.0   \n\n        avg_user_score  \n0             3.968675  \n1             3.678862  \n2             3.984914  \n3             3.635234  \n4             3.874805  \n...                ...  \n686655        4.000665  \n686656        3.831050  \n686657        3.993590  \n686658        4.111324  \n686659        3.668684  \n\n[686660 rows x 12 columns]",
      "text/html": "<div>\n<style scoped>\n    .dataframe tbody tr th:only-of-type {\n        vertical-align: middle;\n    }\n\n    .dataframe tbody tr th {\n        vertical-align: top;\n    }\n\n    .dataframe thead th {\n        text-align: right;\n    }\n</style>\n<table border=\"1\" class=\"dataframe\">\n  <thead>\n    <tr style=\"text-align: right;\">\n      <th></th>\n      <th>review_overall</th>\n      <th>review_aroma</th>\n      <th>review_appearance</th>\n      <th>review_profilename</th>\n      <th>beer_style</th>\n      <th>review_palate</th>\n      <th>review_taste</th>\n      <th>beer_name</th>\n      <th>beer_abv</th>\n      <th>beer_beerid</th>\n      <th>mean ibu</th>\n      <th>avg_user_score</th>\n    </tr>\n  </thead>\n  <tbody>\n    <tr>\n      <th>0</th>\n      <td>2.5</td>\n      <td>4.5</td>\n      <td>2.5</td>\n      <td>JamnesCameron</td>\n      <td>Hefeweizen</td>\n      <td>2.5</td>\n      <td>2.5</td>\n      <td>Wild Frog Wheat Ale</td>\n      <td>6.0</td>\n      <td>36862</td>\n      <td>12.5</td>\n      <td>3.968675</td>\n    </tr>\n    <tr>\n      <th>1</th>\n      <td>2.0</td>\n      <td>2.0</td>\n      <td>2.0</td>\n      <td>jsh420</td>\n      <td>Hefeweizen</td>\n      <td>2.0</td>\n      <td>2.0</td>\n      <td>Wild Frog Wheat Ale</td>\n      <td>6.0</td>\n      <td>36862</td>\n      <td>12.5</td>\n      <td>3.678862</td>\n    </tr>\n    <tr>\n      <th>2</th>\n      <td>2.5</td>\n      <td>4.0</td>\n      <td>3.5</td>\n      <td>GatorBeerNerd</td>\n      <td>Hefeweizen</td>\n      <td>3.0</td>\n      <td>3.5</td>\n      <td>Wild Frog Wheat Ale</td>\n      <td>6.0</td>\n      <td>36862</td>\n      <td>12.5</td>\n      <td>3.984914</td>\n    </tr>\n    <tr>\n      <th>3</th>\n      <td>2.5</td>\n      <td>3.5</td>\n      <td>3.5</td>\n      <td>AltBock</td>\n      <td>Hefeweizen</td>\n      <td>2.5</td>\n      <td>3.0</td>\n      <td>Wild Frog Wheat Ale</td>\n      <td>6.0</td>\n      <td>36862</td>\n      <td>12.5</td>\n      <td>3.635234</td>\n    </tr>\n    <tr>\n      <th>4</th>\n      <td>2.5</td>\n      <td>3.0</td>\n      <td>3.0</td>\n      <td>bluejacket74</td>\n      <td>Hefeweizen</td>\n      <td>3.5</td>\n      <td>2.5</td>\n      <td>Wild Frog Wheat Ale</td>\n      <td>6.0</td>\n      <td>36862</td>\n      <td>12.5</td>\n      <td>3.874805</td>\n    </tr>\n    <tr>\n      <th>...</th>\n      <td>...</td>\n      <td>...</td>\n      <td>...</td>\n      <td>...</td>\n      <td>...</td>\n      <td>...</td>\n      <td>...</td>\n      <td>...</td>\n      <td>...</td>\n      <td>...</td>\n      <td>...</td>\n      <td>...</td>\n    </tr>\n    <tr>\n      <th>686655</th>\n      <td>5.0</td>\n      <td>4.0</td>\n      <td>4.5</td>\n      <td>rajendra82</td>\n      <td>Bière de Champagne / Bière Brut</td>\n      <td>4.5</td>\n      <td>4.0</td>\n      <td>Malheur Brut Noir (Black Chocolate)</td>\n      <td>12.0</td>\n      <td>16487</td>\n      <td>40.0</td>\n      <td>4.000665</td>\n    </tr>\n    <tr>\n      <th>686656</th>\n      <td>5.0</td>\n      <td>4.0</td>\n      <td>4.5</td>\n      <td>DaPeculierDane</td>\n      <td>Bière de Champagne / Bière Brut</td>\n      <td>5.0</td>\n      <td>4.5</td>\n      <td>Malheur Brut Noir (Black Chocolate)</td>\n      <td>12.0</td>\n      <td>16487</td>\n      <td>40.0</td>\n      <td>3.831050</td>\n    </tr>\n    <tr>\n      <th>686657</th>\n      <td>5.0</td>\n      <td>4.0</td>\n      <td>4.0</td>\n      <td>Bobikel</td>\n      <td>Bière de Champagne / Bière Brut</td>\n      <td>4.0</td>\n      <td>3.5</td>\n      <td>Malheur Brut Noir (Black Chocolate)</td>\n      <td>12.0</td>\n      <td>16487</td>\n      <td>40.0</td>\n      <td>3.993590</td>\n    </tr>\n    <tr>\n      <th>686658</th>\n      <td>5.0</td>\n      <td>4.5</td>\n      <td>5.0</td>\n      <td>marburg</td>\n      <td>Bière de Champagne / Bière Brut</td>\n      <td>4.5</td>\n      <td>4.5</td>\n      <td>Malheur Brut Noir (Black Chocolate)</td>\n      <td>12.0</td>\n      <td>16487</td>\n      <td>40.0</td>\n      <td>4.111324</td>\n    </tr>\n    <tr>\n      <th>686659</th>\n      <td>5.0</td>\n      <td>3.0</td>\n      <td>3.5</td>\n      <td>SilentSabre</td>\n      <td>Bière de Champagne / Bière Brut</td>\n      <td>3.5</td>\n      <td>3.5</td>\n      <td>Krait Prestige</td>\n      <td>8.0</td>\n      <td>33766</td>\n      <td>40.0</td>\n      <td>3.668684</td>\n    </tr>\n  </tbody>\n</table>\n<p>686660 rows × 12 columns</p>\n</div>"
     },
     "execution_count": 672,
     "metadata": {},
     "output_type": "execute_result"
    }
   ],
   "source": [
    "df2"
   ],
   "metadata": {
    "collapsed": false
   }
  },
  {
   "cell_type": "code",
   "execution_count": 673,
   "outputs": [
    {
     "data": {
      "text/plain": "       review_profilename beer_beerid  review_overall\n0           JamnesCameron       36862             2.5\n1882        JamnesCameron        2653             2.5\n2444        JamnesCameron       17538             1.5\n2856        JamnesCameron       34085             2.0\n3749        JamnesCameron       61128             1.5\n...                   ...         ...             ...\n684203      JamnesCameron        6354             5.0\n685803      JamnesCameron       49092             5.0\n686504      JamnesCameron        2595             5.0\n686563      JamnesCameron       10683             5.0\n686603      JamnesCameron       64089             5.0\n\n[243 rows x 3 columns]",
      "text/html": "<div>\n<style scoped>\n    .dataframe tbody tr th:only-of-type {\n        vertical-align: middle;\n    }\n\n    .dataframe tbody tr th {\n        vertical-align: top;\n    }\n\n    .dataframe thead th {\n        text-align: right;\n    }\n</style>\n<table border=\"1\" class=\"dataframe\">\n  <thead>\n    <tr style=\"text-align: right;\">\n      <th></th>\n      <th>review_profilename</th>\n      <th>beer_beerid</th>\n      <th>review_overall</th>\n    </tr>\n  </thead>\n  <tbody>\n    <tr>\n      <th>0</th>\n      <td>JamnesCameron</td>\n      <td>36862</td>\n      <td>2.5</td>\n    </tr>\n    <tr>\n      <th>1882</th>\n      <td>JamnesCameron</td>\n      <td>2653</td>\n      <td>2.5</td>\n    </tr>\n    <tr>\n      <th>2444</th>\n      <td>JamnesCameron</td>\n      <td>17538</td>\n      <td>1.5</td>\n    </tr>\n    <tr>\n      <th>2856</th>\n      <td>JamnesCameron</td>\n      <td>34085</td>\n      <td>2.0</td>\n    </tr>\n    <tr>\n      <th>3749</th>\n      <td>JamnesCameron</td>\n      <td>61128</td>\n      <td>1.5</td>\n    </tr>\n    <tr>\n      <th>...</th>\n      <td>...</td>\n      <td>...</td>\n      <td>...</td>\n    </tr>\n    <tr>\n      <th>684203</th>\n      <td>JamnesCameron</td>\n      <td>6354</td>\n      <td>5.0</td>\n    </tr>\n    <tr>\n      <th>685803</th>\n      <td>JamnesCameron</td>\n      <td>49092</td>\n      <td>5.0</td>\n    </tr>\n    <tr>\n      <th>686504</th>\n      <td>JamnesCameron</td>\n      <td>2595</td>\n      <td>5.0</td>\n    </tr>\n    <tr>\n      <th>686563</th>\n      <td>JamnesCameron</td>\n      <td>10683</td>\n      <td>5.0</td>\n    </tr>\n    <tr>\n      <th>686603</th>\n      <td>JamnesCameron</td>\n      <td>64089</td>\n      <td>5.0</td>\n    </tr>\n  </tbody>\n</table>\n<p>243 rows × 3 columns</p>\n</div>"
     },
     "execution_count": 673,
     "metadata": {},
     "output_type": "execute_result"
    }
   ],
   "source": [
    "ratings[ratings['review_profilename'] == 'JamnesCameron']"
   ],
   "metadata": {
    "collapsed": false
   }
  },
  {
   "cell_type": "code",
   "execution_count": 674,
   "outputs": [
    {
     "data": {
      "text/plain": "Prediction(uid='Strix', iid=64228, r_ui=None, est=4.875779267185257, details={'was_impossible': False})"
     },
     "execution_count": 674,
     "metadata": {},
     "output_type": "execute_result"
    }
   ],
   "source": [
    "svd.predict('Strix', 64228)"
   ],
   "metadata": {
    "collapsed": false
   }
  },
  {
   "cell_type": "code",
   "execution_count": 675,
   "outputs": [],
   "source": [
    "#beers_id = df['beer_beerid']"
   ],
   "metadata": {
    "collapsed": false
   }
  },
  {
   "cell_type": "code",
   "execution_count": 703,
   "outputs": [],
   "source": [
    "def recomendar(user):\n",
    "    df3 = df.loc[df['review_profilename'] == user]\n",
    "    beers_id = list(df3['beer_beerid'])\n",
    "    notas = []\n",
    "    cervejas = []\n",
    "\n",
    "    for b in beers_id:\n",
    "        pred = svd.predict(user, b)\n",
    "        nota = pred.est\n",
    "        cerveja_id = pred.iid\n",
    "        notas.append(nota)\n",
    "        cervejas.append(cerveja_id)\n",
    "\n",
    "    indice_max_nota = notas.index(max(notas))\n",
    "    cerveja_recomendada = cervejas[indice_max_nota]\n",
    "\n",
    "    return cerveja_recomendada"
   ],
   "metadata": {
    "collapsed": false
   }
  },
  {
   "cell_type": "code",
   "execution_count": 704,
   "outputs": [
    {
     "name": "stdout",
     "output_type": "stream",
     "text": [
      "62397\n"
     ]
    }
   ],
   "source": [
    "print(recomendar('JamnesCameron'))"
   ],
   "metadata": {
    "collapsed": false
   }
  },
  {
   "cell_type": "markdown",
   "source": [
    "Uau, no nosso primeiro teste tivemos como recomendação uma cerveja que o usuário avaliou como 5"
   ],
   "metadata": {
    "collapsed": false
   }
  },
  {
   "cell_type": "markdown",
   "source": [
    "vamos agora ver o quão distante nossas recomendações estão da nota máxima que um usuário deu"
   ],
   "metadata": {
    "collapsed": false
   }
  },
  {
   "cell_type": "code",
   "execution_count": 690,
   "outputs": [],
   "source": [
    "users = df['review_profilename'].unique()\n",
    "#users = users.sample(n= 1200, random_state=42)"
   ],
   "metadata": {
    "collapsed": false
   }
  },
  {
   "cell_type": "code",
   "execution_count": 691,
   "outputs": [
    {
     "name": "stdout",
     "output_type": "stream",
     "text": [
      "Vancer 731\n",
      "Grundle20 731\n",
      "mattsdenney 46363\n",
      "IPAcraig 857\n",
      "marcpal 17112\n",
      "swhitt 1160\n",
      "carln26 507\n",
      "beernut7 507\n",
      "davidchollar 731\n",
      "Naerhu 3327\n",
      "martymoat 1621\n",
      "Mitchster 17910\n",
      "shapudding 2093\n",
      "NeroFiddled 1256\n",
      "Risser09 1062\n",
      "WVbeergeek 26384\n",
      "DarkerTheBetter 6368\n",
      "Gavage 48434\n",
      "kaseydad 29619\n",
      "Gosox8787 16814\n",
      "MisterClean 35015\n",
      "mothman 64228\n",
      "Northsider 48434\n",
      "willjschmidt 7971\n",
      "DearthVader 58610\n",
      "TheGordianKnot 47658\n",
      "Miketwolf21 48434\n",
      "GoldenChild 19960\n",
      "DannyDan 48434\n",
      "jsanford 7971\n",
      "tbrown4 48434\n",
      "Andrewtherooster 48434\n",
      "ktrillionaire 37586\n",
      "JizackFH 47658\n",
      "brandoncox 21822\n",
      "micromaniac129 48434\n",
      "DovaliHops 7971\n",
      "NODAK 48434\n",
      "bohemiandonut 29619\n",
      "dcook11 695\n",
      "4000qtrap 21690\n",
      "Soonami 64228\n",
      "aggiearcher13 7971\n",
      "Freethyhops 695\n",
      "AgentMunky 1545\n",
      "digitalbullet 695\n",
      "Axic10 56082\n",
      "JK4Stout 48434\n",
      "brewdoc75 7971\n",
      "HeroicDoses 48434\n",
      "spicelab 48434\n",
      "Evocatus 731\n",
      "ThePortlander 48434\n",
      "bump8628 7971\n",
      "Sam21 48434\n",
      "cnally 731\n",
      "kegger22 48434\n",
      "chickenflea 48434\n",
      "Gyle41386 21690\n",
      "generalnotsew 29127\n",
      "Heavenisbeer 48434\n",
      "WeisGuy 58610\n",
      "PhillyStyle 7971\n",
      "mdagnew 1545\n",
      "matjack85 48434\n",
      "gdfan47 17112\n",
      "imanidiot777 48434\n",
      "TheJollyHop 7971\n",
      "jantonius 48434\n",
      "ebraun 48434\n",
      "Boilermaker88 21690\n",
      "OnThenIn 731\n",
      "Augustiner719 7971\n",
      "dfillius 7971\n",
      "blackenmn 46849\n",
      "KrisPaulk77 48434\n",
      "joozyboozy 48434\n",
      "nickfl 9474\n",
      "drabmuh 16814\n",
      "WoogityBoogity 48434\n",
      "heliosphann 37586\n",
      "RobH 48434\n",
      "batty 731\n",
      "epicness 731\n",
      "rfgetz 16814\n",
      "imaguitargod 27143\n",
      "merlin48 29619\n",
      "junjun 731\n",
      "denflyr 48434\n",
      "Tballz420 731\n",
      "myost88 48434\n",
      "TexIndy 21690\n",
      "hoplover82 712\n",
      "sweemzander 41928\n",
      "jonziefle 30\n",
      "GilGarp 1545\n",
      "PerzentRizen 731\n",
      "Haybeerman 48434\n",
      "alleykatking 47658\n",
      "TheycallmeTim 48434\n",
      "hike20 48434\n",
      "natasharai 731\n",
      "hustlesworth 276\n",
      "SteveO1231 782\n",
      "JEdmund 7971\n",
      "m1ked 7971\n",
      "zeff80 46849\n",
      "katan 6368\n",
      "sevopie 7971\n",
      "unclejimbay 62397\n",
      "billybob 221\n",
      "jdubjacket 1545\n",
      "Vengeance526 1708\n",
      "BayouBengal1537 7971\n",
      "jizdepski 731\n",
      "mhatters 5560\n",
      "elniko 731\n",
      "gford217 1062\n",
      "klewis 1545\n",
      "azorie 1545\n",
      "rajendra82 17112\n",
      "oelergud 39\n",
      "Murchmac 21690\n",
      "SirDrinxAlot 731\n",
      "wagenvolks 1545\n",
      "Onibubba 26541\n",
      "melagnus 48434\n",
      "smanders 695\n",
      "HeyItsChili 7971\n",
      "bamadog 7971\n",
      "jwc215 6368\n",
      "RealityDeviant 7520\n",
      "Crosling 10672\n",
      "Jason 7971\n",
      "musicman575 7971\n",
      "hockeyhead 772\n",
      "civilizedpsycho 731\n",
      "keithmurray 731\n",
      "icetraxx 779\n",
      "noknife83 7971\n",
      "Grunewald 2512\n",
      "BeerFMAndy 1545\n",
      "malty 226\n",
      "brewmudgeon 39238\n",
      "Stunner97 731\n",
      "UGADawgGuy 731\n",
      "crayphish 1558\n",
      "Lexluthor33 731\n",
      "bark 1354\n",
      "k3n 7971\n",
      "Stonebreaker 228\n",
      "DontCallMeSurly 9478\n",
      "scruffwhor 772\n",
      "MDekker 1545\n",
      "nocheinsbitte 808\n",
      "SirSaranac 772\n",
      "dsa7783 731\n",
      "objectivemonkey 731\n",
      "sid 772\n",
      "russpowell 37586\n",
      "BDIMike 19960\n",
      "budgood1 17112\n",
      "EPseja 15881\n",
      "BlackAngus 772\n",
      "SchaefMan 772\n",
      "ultralarry2006 1558\n",
      "bigdeuce 88\n",
      "crwills 772\n",
      "OatherS 772\n",
      "beveragecaptain 1160\n",
      "amicar 695\n",
      "radshoesbro 1545\n",
      "SaunaKing 1256\n",
      "kmpitz2 37586\n",
      "RushLimbmalt 56973\n",
      "kbub6f 1062\n",
      "anders36 772\n",
      "pootz 772\n",
      "Jables 1558\n",
      "DESTRO 195\n",
      "ngandhi 857\n",
      "Indybeer 1545\n",
      "marburg 731\n",
      "Morris729 1062\n",
      "49degrees 772\n",
      "jbriggs7036 49838\n",
      "pweis909 47539\n",
      "MrHassellYaHurd 221\n",
      "WeezyBoPeep 17112\n",
      "vfgccp 5796\n",
      "brystmar 47658\n",
      "thekanna 1545\n",
      "mclanem 782\n",
      "mattpetti 40058\n",
      "marlinsfan4 15881\n",
      "auxiliary 34413\n",
      "mcarroll10177 276\n",
      "Brad007 731\n",
      "brewdlyhooked13 1630\n",
      "TinusTime 1558\n",
      "barleywinefiend 61062\n",
      "burnstar 7971\n",
      "FloppyDog 141\n",
      "Hefe 9478\n",
      "UnionMade 18467\n",
      "Optimat0r 731\n",
      "Mick 131\n",
      "donniecuffs 56716\n",
      "ppoitras 17112\n",
      "GeoffFromSJ 1545\n",
      "RonfromJersey 6368\n",
      "wsouloa 1015\n",
      "goblue3509 731\n",
      "treyrab 44910\n",
      "PittBeerGirl 8626\n",
      "AtlasBrew 46891\n",
      "Chapter40z 1545\n",
      "stumac 731\n",
      "yelterdow 15881\n",
      "punisher31673 10325\n",
      "RBorsato 731\n",
      "LRAC 1774\n",
      "edchicma 141\n",
      "beerluvr 695\n",
      "therica 1354\n",
      "adamette 731\n",
      "ZorPrime 226\n",
      "generallee 731\n",
      "nem2006 138\n",
      "dren 248\n",
      "Frozensoul327 857\n",
      "TheBungyo 1545\n",
      "Reidrover 1010\n",
      "BobLuvBeer 225\n",
      "sponberg 2899\n",
      "DoppleJock 39\n",
      "DesMoinesMike 131\n",
      "hdofu 2093\n",
      "lovindahops 9478\n",
      "SpeedwayJim 24273\n",
      "tubdog13 18305\n",
      "taez555 731\n",
      "Bitterbill 1062\n",
      "Hojaminbag 16814\n",
      "Moxley 695\n",
      "IronCitySteve 7971\n",
      "joezak5 15881\n",
      "aerozeppl 1062\n",
      "AlexJ 17112\n",
      "sulldaddy 11757\n",
      "jcdiflorio 7971\n",
      "jhollick 141\n",
      "Fish113d 1545\n",
      "beergeek279 1786\n",
      "BeerNinja007 56738\n",
      "Parrotbeak 7971\n",
      "nortmand 731\n",
      "TheLiterati 224\n",
      "putnam 731\n",
      "goochpunch 129\n",
      "DogFood11 1545\n",
      "mynie 731\n",
      "stout 613\n",
      "Proteus93 34\n",
      "jenbys2001 1256\n",
      "saintwarrick 731\n",
      "emerge077 731\n",
      "jsimons8 613\n",
      "acrawf6 34\n",
      "Conrad 1696\n",
      "ColoradoBobs 1545\n",
      "ggroller 12162\n",
      "BeerBeing 731\n",
      "gotbeer 34306\n",
      "Sycodrummer 23030\n",
      "bultrey 695\n",
      "mschofield 16403\n",
      "SetarconeX 2392\n",
      "jiggahertz 712\n",
      "missingsense 12679\n",
      "HeroJH 132\n",
      "Kromes 1062\n",
      "FreshHawk 7971\n",
      "dasenebler 1545\n",
      "PatYoda 1545\n",
      "GreatPondBrewer 645\n",
      "KarlHungus 46849\n",
      "Sudmissle 1545\n",
      "Sheldon 3995\n",
      "John 731\n",
      "Lukafer 33127\n",
      "GPHarris 7971\n",
      "Bobby12many 37586\n",
      "brandoneast 1062\n",
      "mariposafan 656\n",
      "Ineedabeerhere 59144\n",
      "capra12 47658\n",
      "jslot38 37586\n",
      "drpimento 1545\n",
      "GDBEERMAN 17112\n",
      "cpetrone84 7971\n",
      "weatherdog 37586\n",
      "hu5om 7971\n",
      "newk340 36316\n",
      "leakyfaucet12 7971\n",
      "MPLS 1545\n",
      "beerwolf77 47658\n",
      "rhoadsrage 3916\n",
      "Josievan 37586\n",
      "jrallen34 56082\n",
      "RJUGA03 37586\n",
      "oline73 16814\n",
      "woosterbill 47668\n",
      "Reagan1984 62397\n",
      "ahalloin 70356\n",
      "KTCamm 37586\n",
      "Fartknocker 37586\n",
      "Mistofminn 7971\n",
      "maximum12 37586\n",
      "gatornation 7971\n",
      "Beerisheaven 1545\n",
      "beerfairy 37586\n",
      "daledeee 731\n",
      "csmiley 7597\n",
      "mikesgroove 37586\n",
      "lpayette 731\n",
      "Wisconsin 37586\n",
      "NOOGIE 37586\n",
      "BuckeyeNation 37586\n",
      "bound4er 44942\n",
      "westweasel 29619\n",
      "dancinwillie 37586\n",
      "alexgash 6368\n",
      "badbeer 21690\n",
      "happygnome 28165\n",
      "scones 37586\n",
      "clarkm04 7971\n",
      "TheQuietMan22 37586\n",
      "gamanley 16814\n",
      "drizzam 37586\n",
      "gmfessen 731\n",
      "jwinship83 7971\n",
      "ALESwhatCURESya 36672\n",
      "cvfish 1708\n",
      "soulgrowl 1545\n",
      "AdmiralDiaz 34420\n",
      "marcobrau 56738\n",
      "Greggy 731\n",
      "Thorpe429 56082\n",
      "Bighuge 47539\n",
      "younger35 16814\n",
      "Soneast 17112\n",
      "robwestcott 47539\n",
      "Ek0nomik 7971\n",
      "Georgiabeer 23030\n",
      "crossovert 1062\n",
      "alalvarez75 47658\n",
      "Gmann 1545\n",
      "inebrius 695\n",
      "TheHammer 703\n",
      "Zorro 731\n",
      "Chaz 6549\n",
      "jrb1001 6108\n",
      "AudioGilz 808\n",
      "JudgeRoughneck 598\n",
      "MABZ 731\n",
      "TheDeuce 1010\n",
      "FLAbeergutinMASS 1545\n",
      "currysage1 35625\n",
      "woodychandler 226\n",
      "PEBKAC 2255\n",
      "BeerHonky 1710\n",
      "soultrain 4924\n",
      "JohnnyS17 731\n",
      "drewba 64228\n",
      "rtepiak 7971\n",
      "Stephen63 731\n",
      "surfmeister 731\n",
      "brentk56 731\n",
      "BeerMan7777777 7971\n",
      "br3wmeister 7971\n",
      "Riccymon 1062\n",
      "gonzo46and2 731\n",
      "DarthFedor 731\n",
      "yeastsipper 731\n",
      "schroederm 731\n",
      "CoolJosh 51116\n",
      "erz316 1545\n",
      "brewintheLou 17112\n",
      "xenolithic 576\n",
      "BeerBubby 7971\n",
      "rudylaw 36316\n",
      "wcudwight 7971\n",
      "mduncan 23030\n",
      "bfields4 731\n",
      "popery 21690\n",
      "yemenmocha 731\n",
      "glid02 731\n",
      "LennyV 731\n",
      "JBogan 731\n",
      "Spikester 731\n",
      "DrewSnyc667 731\n",
      "BigJim5021 731\n",
      "magictrokini 1545\n",
      "corby112 731\n",
      "lynx1245 7971\n",
      "ThreeWiseMen 7971\n",
      "Clydesdale 695\n",
      "funkyspunk87 731\n",
      "joepais 23030\n",
      "Marcus6679 276\n",
      "gyllstromk 1545\n",
      "Reino 43335\n",
      "brushtachio 17112\n",
      "CAMRAhardliner 731\n",
      "scootny 731\n",
      "meatmallet 731\n",
      "rye726 731\n",
      "AKBelgianBeast 731\n",
      "cswhitehorse 731\n",
      "OWSLEY069 47658\n",
      "Biscuit033 731\n",
      "morimech 731\n",
      "MSchae1017 19960\n",
      "everetends 731\n",
      "Lnedrive14 571\n",
      "SaucyA 731\n",
      "fishtownhxc 731\n",
      "PeprSprYoFace 16814\n",
      "Rainintheface 731\n",
      "rudzud 58299\n",
      "Kartoffeln 731\n",
      "Strix 17112\n",
      "ryrust5301 19960\n",
      "ShrLSU 1545\n",
      "pwoods 6368\n",
      "JonathanL7890 1062\n",
      "0110x011 7971\n",
      "Natural510 731\n",
      "AmishT 15881\n",
      "daythree16 731\n",
      "WaveRebel51 731\n",
      "BamaBeerBuff 731\n",
      "JoeyBeerBelly 731\n",
      "Kegatron 7971\n",
      "Lupe 39\n",
      "dyan 56082\n",
      "rkinsella 731\n",
      "HopDerek 7971\n",
      "Avryle 1545\n",
      "cabsandking 731\n",
      "bort11 731\n",
      "ScottUCF84 731\n",
      "drumrboy22 731\n",
      "pokesbeerdude 7971\n",
      "Mudpuppet 731\n",
      "baos 731\n",
      "hwwty4 1585\n",
      "CrellMoset 44942\n",
      "tai4ji2x 7971\n",
      "Rudgers73 672\n",
      "Rijtjeshuis 731\n",
      "pheggeseth 731\n",
      "DirtyPenny 731\n",
      "kkipple 731\n",
      "bluemoonswoon 1545\n",
      "BeerTaster 731\n",
      "wheelinshirt 731\n",
      "czfreeman 731\n",
      "n0315 695\n",
      "LittleCreature 1545\n",
      "armock 22227\n",
      "BlackHaddock 731\n",
      "BradLikesBrew 1062\n",
      "Cyberkedi 731\n",
      "TheSarge 2560\n",
      "viperpiper522 7971\n",
      "brendan13 731\n",
      "soupyman10 47658\n",
      "TheodorHerzl 7971\n",
      "TheManiacalOne 731\n",
      "HotterThanHell 731\n",
      "Slatetank 731\n",
      "seanyfo 731\n",
      "pojo41 731\n",
      "gpcollen1 731\n",
      "whiplash3825 731\n",
      "Cs1987 1545\n",
      "BeerGut4Life 731\n",
      "illidurit 7971\n",
      "Nesued 22227\n",
      "sbe1 731\n",
      "DoubleJ 56082\n",
      "rohrbachsfan 3657\n",
      "MrHungryMonkey 731\n",
      "bunnyhustle 34420\n",
      "MarkSCCOT 731\n",
      "RutgersBeerGuy 731\n",
      "kellyst 731\n",
      "BladeRunner 731\n",
      "jeffjfindley 3916\n",
      "cpn920 731\n",
      "letsgopens 1545\n",
      "coalcracker 731\n",
      "GimpyCane 731\n",
      "Weizenmensch 731\n",
      "BassAssassin 731\n",
      "kajerm 857\n",
      "travelfrog 731\n",
      "SMark 731\n",
      "clemtig76 731\n",
      "mjc410 1010\n",
      "jmalex 21690\n",
      "LvilleIPA 731\n",
      "guitarmage 731\n",
      "Byeast 731\n",
      "MrHolland 731\n",
      "jdoolin 1545\n",
      "WasTrinkenSie 731\n",
      "mrasskicktastic 731\n",
      "jonnyoyeah 731\n",
      "thefenst 731\n",
      "quafster 731\n",
      "SudNut 731\n",
      "Erdinger2003 33127\n",
      "rarevos 695\n",
      "schoolboy 74986\n",
      "BretSikkink 7971\n",
      "Hibernator 731\n",
      "BurnsTau 731\n",
      "JerzDevl2000 731\n",
      "Blakaeris 1545\n",
      "Budlum 731\n",
      "DaPeculierDane 1062\n",
      "SethB2 7971\n",
      "rousee 731\n",
      "AltBock 21690\n",
      "Damian 30184\n",
      "clickpush 731\n",
      "karst 1558\n",
      "Phatz 731\n",
      "codsmith 19960\n",
      "trep 228\n",
      "cjgator3 731\n",
      "nlmartin 16814\n",
      "CNeilP09 731\n",
      "phisig137 1545\n",
      "scoobybrew 731\n",
      "jaluria 731\n",
      "sammy44 731\n",
      "Derek 808\n",
      "Tupperwolf 695\n",
      "pbr85 731\n",
      "eb003 731\n",
      "kgotcher 731\n",
      "chOAKbarrell 731\n",
      "bennetj17 7971\n",
      "edchef1850 731\n",
      "TheLongBeachBum 731\n",
      "maddamish 731\n",
      "Reaper16 7971\n",
      "kegerator 731\n",
      "DrJay 1545\n",
      "jpm30 1545\n",
      "goindownsouth 39238\n",
      "nickss 731\n",
      "Domingo 2560\n",
      "wedge 731\n",
      "tastybeer 731\n",
      "ElGordo 7971\n",
      "Dubblebock 731\n",
      "Gritsak 731\n",
      "thechaacster 731\n",
      "RedBaron 731\n",
      "tryemall 731\n",
      "thesilverhand 731\n",
      "GCBrewingCo 731\n",
      "wnhay 7971\n",
      "cracgor 731\n",
      "lacqueredmouse 1545\n",
      "goodbyeohio 731\n",
      "JeffTibbetts 731\n",
      "kosmoraios 731\n",
      "pixrob 705\n",
      "Luigi 731\n",
      "stjarnflikka 731\n",
      "mobyfann 2560\n",
      "jvajda 7879\n",
      "Dmann 731\n",
      "TikkiGodxxx 731\n",
      "rdrummer 731\n",
      "Buzzkill 731\n",
      "usualpulp 731\n",
      "finepaws 731\n",
      "waughbrew 23030\n",
      "cokes 731\n",
      "cedricwarner 1354\n",
      "99bottles 695\n",
      "kmcnair 7971\n",
      "necoadam 731\n",
      "TastyTaste 731\n",
      "HardTarget 1558\n",
      "Winter 5057\n",
      "Ellbert 731\n",
      "Zraly 731\n",
      "au1sec 731\n",
      "tavernjef 731\n",
      "ZAP 731\n",
      "dwarbi 731\n",
      "pezoids 9478\n",
      "WMBierguy 731\n",
      "jackndan 857\n",
      "MJR 1093\n",
      "aaronh 3517\n",
      "mikes2923 731\n",
      "StevieW 731\n",
      "zerk 731\n",
      "Kwak 731\n",
      "mzwolinski 731\n",
      "AaronRed 731\n",
      "marc77 731\n",
      "bk3nj 731\n",
      "garymuchow 731\n",
      "phillybeer7779 7971\n",
      "RashyGrillCook 731\n",
      "dragonWhale 16814\n",
      "garuda 731\n",
      "smakawhat 7971\n",
      "rtaps 56082\n",
      "Feareon 731\n",
      "superspak 19960\n",
      "loobear 1545\n",
      "MattyG85 731\n",
      "mostpoetsdo 40058\n",
      "plfahey 731\n",
      "godfathermg57 17112\n",
      "chiccabeer 731\n",
      "gskitt 731\n",
      "dbaker61 808\n",
      "MrHurmateeowish 731\n",
      "dbossman 731\n",
      "weizenbob 731\n",
      "ffejherb 1062\n",
      "flipper2gv 645\n",
      "MadCat 695\n",
      "mjn5036 731\n",
      "DeltaGolfSierra 731\n",
      "Avagadro 47658\n",
      "guitarsnbeer 731\n",
      "JohnnyChicago 61100\n",
      "Urbancaver 47658\n",
      "FosterJM 47658\n",
      "horshack7 731\n",
      "depechemode1983 731\n",
      "Stockfan42 23030\n",
      "ZenAgnostic 1545\n",
      "juhl31 56082\n",
      "socon67 7971\n",
      "tobin 47658\n",
      "ms11781 23030\n",
      "madvermin 21690\n",
      "CuriousMonk 56082\n",
      "ticklechicken 731\n",
      "dfclav 731\n",
      "prdstmnky 62416\n",
      "dubinsky 56082\n",
      "Biggness 1545\n",
      "cudmud 731\n",
      "cadizkyguy 731\n",
      "DarthRadb 731\n",
      "aasher 68548\n",
      "dansmcd 731\n",
      "StormKing47 29619\n",
      "afksports 56082\n",
      "gdrydenc 7971\n",
      "Mosley1212 731\n",
      "basica 731\n",
      "BEERMILER12 731\n",
      "Prosper0 21690\n",
      "FanofHefe 731\n",
      "JoEBoBpr 61100\n",
      "bigrzman 731\n",
      "uustal 47658\n",
      "haazer 7971\n",
      "greenmonstah 22227\n",
      "josefnewsong 731\n",
      "micmillon18 731\n",
      "Bouleboubier 731\n",
      "EwaldEichstaett 731\n",
      "dutchlq7 731\n",
      "DrDemento456 731\n",
      "RickS95 857\n",
      "djmichaelk 731\n",
      "JohnnyP3 731\n",
      "TheDinger 731\n",
      "RossCain 731\n",
      "keanex 11757\n",
      "ptykozoon 731\n",
      "Vdubb86 62253\n",
      "yankiac 731\n",
      "mbusster88 731\n",
      "ElijahCSkuggs 731\n",
      "milkbaby9 731\n",
      "rand 56082\n",
      "Transatlantic 731\n",
      "king75 17112\n",
      "hosehead83 695\n",
      "elricorico 7971\n",
      "zhanson88 1062\n",
      "Blanco 7971\n",
      "Dawkfan 731\n",
      "billshmeinke 21690\n",
      "mwagner1018 731\n",
      "Seanstoppable 731\n",
      "TKEbeerman 62397\n",
      "nataku00 56082\n",
      "KAP1356 7971\n",
      "Whiteweasel 731\n",
      "CalhounJohn 731\n",
      "DNICE555 23030\n",
      "curly31989 731\n",
      "Beejay 857\n",
      "cvaypai 731\n",
      "Huhzubendah 58610\n",
      "Fieldzy27 7971\n",
      "hayesez 21690\n",
      "stimulus 731\n",
      "chickencoop 731\n",
      "DeliciousSeeker 731\n",
      "VTaler 731\n",
      "DeutschesBier 1545\n",
      "Centennial 731\n",
      "jampics2 1545\n",
      "mlazzaro 731\n",
      "bagpiper2005 731\n",
      "bsp77 47658\n",
      "pmccallum86 7971\n",
      "Luk13 36316\n",
      "rowey77 731\n",
      "aquaphiliac 731\n",
      "yeahnatenelson 42349\n",
      "Mosstrooper 7971\n",
      "mithrascruor 731\n",
      "AleWatcher 46849\n",
      "Erish 64228\n",
      "BeerSingh 1545\n",
      "Krevee 731\n",
      "Chico1985 16814\n",
      "Elimination 731\n",
      "gkunkle 731\n",
      "claminat420 731\n",
      "olympuszymurgus 67760\n",
      "beertunes 731\n",
      "punkrkr27 1545\n",
      "BeerNemesis 731\n",
      "BobZ 47658\n",
      "boss302 1545\n",
      "WhiteOak 731\n",
      "wahhmaster 7971\n",
      "Thur123 731\n",
      "eat 731\n",
      "yourefragile 7971\n",
      "kpoole25 731\n",
      "UCLABrewN84 47658\n",
      "MbpBugeye 695\n",
      "ocmpoma 731\n",
      "scottyshades 56082\n",
      "NatetheGreat 731\n",
      "tippebrewcrew2 19960\n",
      "NYCWheatFanSC 19960\n",
      "pdoran10 28203\n",
      "Sunnanek 1545\n",
      "Minotaur 731\n",
      "jlindros 23030\n",
      "KingEdward 731\n",
      "acelin 695\n",
      "Stavage 731\n",
      "zacarias 731\n",
      "ehammond1 62397\n",
      "JohnnyBarman 857\n",
      "chetripley 731\n",
      "billab914 56082\n",
      "trbergman 23030\n",
      "EStreet20 731\n",
      "RuudJH 731\n",
      "cptierney 731\n",
      "AmberMan22 226\n",
      "Brenden 1062\n",
      "cbutova 1545\n",
      "CarlP2 731\n",
      "SIRIUS2 731\n",
      "nickd717 42664\n",
      "jera1350 1545\n",
      "farrago 731\n",
      "PerroGrande 731\n",
      "r0nyn 47658\n",
      "augustgarage 731\n",
      "seanthornton152 731\n",
      "kels 46849\n",
      "Stinkypuss 731\n",
      "fropones 731\n",
      "MunchkinDrinker 731\n",
      "benteach 731\n",
      "patmcd 731\n",
      "magine 731\n",
      "GatorBeerNerd 1545\n",
      "onix1agr 23030\n",
      "jsh420 731\n",
      "funkengruven 731\n",
      "steanu 731\n",
      "PsychoJedi 731\n",
      "MyGoodness 731\n",
      "drinkininthewood 731\n",
      "malcontent 1062\n",
      "MeisterBurger 228\n",
      "EatsTacos 731\n",
      "drtth 7971\n",
      "seand 731\n",
      "colts9016 1545\n",
      "MusicmanSD 731\n",
      "stbfan 731\n",
      "originalsin 1545\n",
      "callmescraps 21690\n",
      "ocelot2500 731\n",
      "OzarkElmo 731\n",
      "cbarrett4 21690\n",
      "jeffthecheff 731\n",
      "bwd110 7971\n",
      "cavedave 16814\n",
      "UA8 16814\n",
      "ritzkiss 33127\n",
      "webmanspidey 731\n",
      "ender10 731\n",
      "Buschyfor3 731\n",
      "hardy008 33127\n",
      "Liverpool08 731\n",
      "Gambrinus1184 731\n",
      "jjayjaye 23030\n",
      "carp420 731\n",
      "Infamous7100 731\n",
      "goblet 731\n",
      "PirateUlf73 731\n",
      "NCBeernut 731\n",
      "jjanega08 731\n",
      "abfraser 1545\n",
      "gameface23 42816\n",
      "pmcadamis 731\n",
      "imagineiii 16814\n",
      "ThirdLap 7971\n",
      "Shadman 731\n",
      "DrewOSU 21690\n",
      "JonMich13 731\n",
      "Voonder 731\n",
      "paperbackfoster 731\n",
      "aeolianshredhead 731\n",
      "Jarod 34\n",
      "psugrad98 36670\n",
      "bnuttz 228\n",
      "pixieskid 16814\n",
      "Generik420 15881\n",
      "steinlifter 808\n",
      "laituegonflable 221\n",
      "dragonglen 2434\n",
      "UberWasser 34\n",
      "drewmprs 36316\n",
      "Nectar 195\n",
      "JohnnyDuvel 7971\n",
      "fdoosey 763\n",
      "mattmaples 645\n",
      "Parrotshake 22227\n",
      "rjimlad 763\n",
      "2LBrew 763\n",
      "WetCoaster 276\n",
      "goschool 21690\n",
      "BeerManDan 763\n",
      "AtrumAnimus 763\n",
      "rpardon7 1558\n",
      "GratefulBeerGuy 1545\n",
      "DerBayer 2899\n",
      "ericj551 695\n",
      "dciBA 132\n",
      "bloberglawp 1093\n",
      "MrIncognito 2512\n",
      "DigitalHype 1545\n",
      "Offa 759\n",
      "Metalmonk 46849\n",
      "Schwarzwald 224\n",
      "sessycuban 1545\n",
      "JROCK8588 759\n",
      "canucklehead 1545\n",
      "HappyHourHero 808\n",
      "UncleJimbo 23030\n",
      "Thrasher 132\n",
      "100floods 22227\n",
      "Sachsenfreude 712\n",
      "JamisonM 41815\n",
      "washburnkid 7971\n",
      "steeltown71 135\n",
      "blackearth 39\n",
      "steveh 276\n",
      "FtownThrowDown 62397\n",
      "Anthony1 1545\n",
      "atpben 828\n",
      "gotweid 141\n",
      "CMW 22227\n",
      "charlzm 3833\n",
      "Bobo77 35625\n",
      "Gehrig 22352\n",
      "aychbomb 3280\n",
      "redmagik99 3280\n",
      "dacrza1 34\n",
      "bluegrassbrew 3280\n",
      "vtfan77 29619\n",
      "normZurawski 1256\n",
      "Orrshow 1545\n",
      "headlessbob 1256\n",
      "tatterdash 12544\n",
      "paulaner 2899\n",
      "WesWes 21690\n",
      "ElGuapo 221\n",
      "GreenWBush 88\n",
      "belgian4ever 1005\n",
      "BierReise 16940\n",
      "bierman2000 2899\n",
      "ballz50401 17112\n",
      "homebrew311 7971\n",
      "bewareOFpenguin 23030\n",
      "styrene 1946\n",
      "evanackerman 222\n",
      "BeerBob 571\n",
      "JohnnyM2002 17112\n",
      "HugoGrim 1010\n",
      "daliandragon 1160\n",
      "grindcore666 572\n",
      "baugherlager 224\n",
      "danielharper 7520\n",
      "andjusticeforale 2512\n",
      "MrNuggets 1118\n",
      "allengarvin 1545\n",
      "Doiv 760\n",
      "Gasp100 4108\n",
      "mwrseeley 1229\n",
      "nixhecks 615\n",
      "Andreji 656\n",
      "Dogbrick 1558\n",
      "frank4sail 695\n",
      "Frothboss 1558\n",
      "thegodfather1076 1946\n",
      "MirImage 40051\n",
      "828beagle 1774\n",
      "dogfishandi 276\n",
      "jkgraham 1256\n",
      "Kaiser777 2040\n",
      "NA1NSXR 59\n",
      "Scrapss 1946\n",
      "happy4hoppybeer 1010\n",
      "SamN 7879\n",
      "jovy1097 808\n",
      "crnipeter 7971\n",
      "CaptJackHarkness 1946\n",
      "rootbeerman 695\n",
      "danetrain0101 1946\n",
      "Fnord 703\n",
      "crowncapcollect 1946\n",
      "JayQue 22790\n",
      "tj4288 135\n",
      "twiggamortis420 36333\n",
      "ShogoKawada 56082\n",
      "mjaskula 1946\n",
      "degerbah 7971\n",
      "Newmerator 7971\n",
      "jsp2 38470\n",
      "maskednegator 1946\n",
      "deapokid 21690\n",
      "beerthulhu 857\n",
      "roadhouse 1062\n",
      "kshankar 1229\n",
      "smerkinb 141\n",
      "Soozy 34\n",
      "colbyrodgersfire 132\n",
      "stanleykoolbrick 224\n",
      "bradford 7971\n",
      "PBRstreetgang 276\n",
      "AustinBeerLvr 1256\n",
      "torchedpunk 1946\n",
      "travduke 7971\n",
      "Manoftyr 7971\n",
      "eberkman 276\n",
      "chaduvel 1144\n",
      "hero27 1062\n",
      "BeerAngel 695\n",
      "mwa423 7971\n",
      "willgro 135\n",
      "TommyW 695\n",
      "wiseguy142 228\n",
      "BDTyre 29619\n",
      "theboozecruise 1545\n",
      "ghostofpaulman 132\n",
      "wnh 17112\n",
      "porter17 132\n",
      "SPRichard 1006\n",
      "Finn 54904\n",
      "LordHammer 228\n",
      "Monsteruss 132\n",
      "olmatty 9474\n",
      "TMB0424 132\n",
      "cagocubs 132\n",
      "midnite2sixman 19960\n",
      "sethmeister 132\n",
      "mullenite 54904\n",
      "sprucetip 35702\n",
      "geexploitation 3842\n",
      "boulevard2 132\n",
      "jamie2dope 1545\n",
      "Higravity 219\n",
      "MuenchenerKindl 42349\n",
      "shbobdb 4108\n",
      "ChrisBowers 2469\n",
      "Sixpack595 1545\n",
      "jasonhender 132\n",
      "AllThingsNinja 132\n",
      "goz 1545\n",
      "airheadmtrcycle 17112\n",
      "taigor 7971\n",
      "sfprint 5962\n",
      "mralphabet 1385\n",
      "downes51 6317\n",
      "arizcards 7971\n",
      "tpd975 24273\n",
      "maek228 1093\n",
      "Illinick 248\n",
      "santoslhalper 1708\n",
      "avylover 9478\n",
      "Lemmiwinks 20088\n",
      "nattefrost 2512\n",
      "nrpellegrini 1924\n",
      "mwilbur 695\n",
      "edskirk3 11757\n",
      "expatsteve 3833\n",
      "Kevin400 3375\n",
      "pwi03 371\n",
      "Deliteru 371\n",
      "MNJR 63\n",
      "KonigObHops 2704\n",
      "Rennpferd 36378\n",
      "Fleetdog 248\n",
      "JamesS 52535\n",
      "nkersten 8626\n",
      "AgentZero 51116\n",
      "nriech 15881\n",
      "corey0212 7971\n",
      "TLJ 58407\n",
      "Matty1918 1696\n",
      "BuckSpin 34306\n",
      "Rastacouere 9474\n",
      "benmiliron 695\n",
      "ManekiNeko 6368\n",
      "Murph 4083\n",
      "digita7693 36316\n",
      "berley31 34\n",
      "bobsy 226\n",
      "weissbierdrinker 1545\n",
      "Reinheitsgebot71 18676\n",
      "irishkyle21 1545\n",
      "CosmoHopHead 47658\n",
      "hoppymcgee 1062\n",
      "DrDoitchbig 1062\n",
      "jnn4v 1062\n",
      "alcstradamus 1062\n",
      "GregSVT 1062\n",
      "Pecorasc 7597\n",
      "thirdeye11 1062\n",
      "rhinos00 23413\n",
      "natelocc787 7971\n",
      "OlieIPA 58610\n",
      "Jwale73 23030\n",
      "bassmantin 7971\n",
      "Imstillthegman 1062\n",
      "craytonic 36316\n",
      "iconoklaztor 1062\n",
      "koopa 8626\n",
      "mrandypandy 1062\n",
      "jmarsh123 68548\n",
      "WickedSluggy 7971\n",
      "BanditoB 1062\n",
      "stopbarking 1545\n",
      "ncvbc 1545\n",
      "barleywinebrewer 1545\n",
      "Homerbag 1062\n",
      "RblWthACoz 1062\n",
      "SPLITGRIN 1062\n",
      "RoryGilmore 1545\n",
      "ckeegan04 857\n",
      "stewdawg 7971\n",
      "Mora2000 1545\n",
      "jeonseh 1062\n",
      "dill 21690\n",
      "Overlord 16814\n",
      "orbitalr0x 36316\n",
      "champ103 1062\n",
      "nrbw23 23030\n",
      "Floydster 1062\n",
      "mentor 1545\n",
      "Wasatch 46849\n",
      "jgaston 1545\n",
      "chadspivey 1545\n",
      "jwff 1062\n",
      "beerdiablo 1062\n",
      "acoatley 1062\n",
      "EPICAC 1545\n",
      "Gaisgeil 1545\n",
      "francisweizen 1062\n",
      "kindestcut 1062\n",
      "dauss 1545\n",
      "assurbanipaul 1062\n",
      "LarryKemp 1062\n",
      "Bentley 1062\n",
      "kevinv 1062\n"
     ]
    },
    {
     "ename": "KeyboardInterrupt",
     "evalue": "",
     "output_type": "error",
     "traceback": [
      "\u001B[1;31m---------------------------------------------------------------------------\u001B[0m",
      "\u001B[1;31mKeyboardInterrupt\u001B[0m                         Traceback (most recent call last)",
      "\u001B[1;32m~\\AppData\\Local\\Temp\\ipykernel_14096\\3411104175.py\u001B[0m in \u001B[0;36m<module>\u001B[1;34m\u001B[0m\n\u001B[0;32m      1\u001B[0m \u001B[0merr\u001B[0m \u001B[1;33m=\u001B[0m \u001B[1;33m[\u001B[0m\u001B[1;33m]\u001B[0m\u001B[1;33m\u001B[0m\u001B[1;33m\u001B[0m\u001B[0m\n\u001B[0;32m      2\u001B[0m \u001B[1;32mfor\u001B[0m \u001B[0mu\u001B[0m \u001B[1;32min\u001B[0m \u001B[0musers\u001B[0m\u001B[1;33m:\u001B[0m\u001B[1;33m\u001B[0m\u001B[1;33m\u001B[0m\u001B[0m\n\u001B[1;32m----> 3\u001B[1;33m     \u001B[0mcr\u001B[0m \u001B[1;33m=\u001B[0m \u001B[0mrecomendar\u001B[0m\u001B[1;33m(\u001B[0m\u001B[0mu\u001B[0m\u001B[1;33m)\u001B[0m\u001B[1;33m\u001B[0m\u001B[1;33m\u001B[0m\u001B[0m\n\u001B[0m\u001B[0;32m      4\u001B[0m     \u001B[0mnmax\u001B[0m \u001B[1;33m=\u001B[0m \u001B[0mdf\u001B[0m\u001B[1;33m[\u001B[0m\u001B[0mdf\u001B[0m\u001B[1;33m[\u001B[0m\u001B[1;34m'review_profilename'\u001B[0m\u001B[1;33m]\u001B[0m \u001B[1;33m==\u001B[0m \u001B[0mu\u001B[0m\u001B[1;33m]\u001B[0m\u001B[1;33m[\u001B[0m\u001B[1;34m'review_overall'\u001B[0m\u001B[1;33m]\u001B[0m\u001B[1;33m.\u001B[0m\u001B[0mmax\u001B[0m\u001B[1;33m(\u001B[0m\u001B[1;33m)\u001B[0m\u001B[1;33m\u001B[0m\u001B[1;33m\u001B[0m\u001B[0m\n\u001B[0;32m      5\u001B[0m     \u001B[0mnd\u001B[0m \u001B[1;33m=\u001B[0m \u001B[0mdf\u001B[0m\u001B[1;33m[\u001B[0m\u001B[1;33m(\u001B[0m\u001B[0mdf\u001B[0m\u001B[1;33m[\u001B[0m\u001B[1;34m'review_profilename'\u001B[0m\u001B[1;33m]\u001B[0m \u001B[1;33m==\u001B[0m \u001B[0mu\u001B[0m\u001B[1;33m)\u001B[0m \u001B[1;33m&\u001B[0m \u001B[1;33m(\u001B[0m\u001B[0mdf\u001B[0m\u001B[1;33m[\u001B[0m\u001B[1;34m'beer_beerid'\u001B[0m\u001B[1;33m]\u001B[0m \u001B[1;33m==\u001B[0m \u001B[0mcr\u001B[0m\u001B[1;33m)\u001B[0m\u001B[1;33m]\u001B[0m\u001B[1;33m[\u001B[0m\u001B[1;34m'review_overall'\u001B[0m\u001B[1;33m]\u001B[0m\u001B[1;33m.\u001B[0m\u001B[0mvalues\u001B[0m\u001B[1;33m\u001B[0m\u001B[1;33m\u001B[0m\u001B[0m\n",
      "\u001B[1;32m~\\AppData\\Local\\Temp\\ipykernel_14096\\184235056.py\u001B[0m in \u001B[0;36mrecomendar\u001B[1;34m(user)\u001B[0m\n\u001B[0;32m      1\u001B[0m \u001B[1;32mdef\u001B[0m \u001B[0mrecomendar\u001B[0m\u001B[1;33m(\u001B[0m\u001B[0muser\u001B[0m\u001B[1;33m)\u001B[0m\u001B[1;33m:\u001B[0m\u001B[1;33m\u001B[0m\u001B[1;33m\u001B[0m\u001B[0m\n\u001B[1;32m----> 2\u001B[1;33m     \u001B[0mdf3\u001B[0m \u001B[1;33m=\u001B[0m \u001B[0mdf\u001B[0m\u001B[1;33m.\u001B[0m\u001B[0mloc\u001B[0m\u001B[1;33m[\u001B[0m\u001B[0mdf\u001B[0m\u001B[1;33m[\u001B[0m\u001B[1;34m'review_profilename'\u001B[0m\u001B[1;33m]\u001B[0m \u001B[1;33m==\u001B[0m \u001B[0mu\u001B[0m\u001B[1;33m]\u001B[0m\u001B[1;33m\u001B[0m\u001B[1;33m\u001B[0m\u001B[0m\n\u001B[0m\u001B[0;32m      3\u001B[0m     \u001B[0mbeers_id\u001B[0m \u001B[1;33m=\u001B[0m \u001B[0mdf3\u001B[0m\u001B[1;33m[\u001B[0m\u001B[1;34m'beer_beerid'\u001B[0m\u001B[1;33m]\u001B[0m\u001B[1;33m\u001B[0m\u001B[1;33m\u001B[0m\u001B[0m\n\u001B[0;32m      4\u001B[0m     \u001B[0mnotas\u001B[0m \u001B[1;33m=\u001B[0m \u001B[1;33m[\u001B[0m\u001B[1;33m]\u001B[0m\u001B[1;33m\u001B[0m\u001B[1;33m\u001B[0m\u001B[0m\n\u001B[0;32m      5\u001B[0m     \u001B[0mcervejas\u001B[0m \u001B[1;33m=\u001B[0m \u001B[1;33m[\u001B[0m\u001B[1;33m]\u001B[0m\u001B[1;33m\u001B[0m\u001B[1;33m\u001B[0m\u001B[0m\n",
      "\u001B[1;32m~\\anaconda3\\lib\\site-packages\\pandas\\core\\indexing.py\u001B[0m in \u001B[0;36m__getitem__\u001B[1;34m(self, key)\u001B[0m\n\u001B[0;32m    965\u001B[0m \u001B[1;33m\u001B[0m\u001B[0m\n\u001B[0;32m    966\u001B[0m             \u001B[0mmaybe_callable\u001B[0m \u001B[1;33m=\u001B[0m \u001B[0mcom\u001B[0m\u001B[1;33m.\u001B[0m\u001B[0mapply_if_callable\u001B[0m\u001B[1;33m(\u001B[0m\u001B[0mkey\u001B[0m\u001B[1;33m,\u001B[0m \u001B[0mself\u001B[0m\u001B[1;33m.\u001B[0m\u001B[0mobj\u001B[0m\u001B[1;33m)\u001B[0m\u001B[1;33m\u001B[0m\u001B[1;33m\u001B[0m\u001B[0m\n\u001B[1;32m--> 967\u001B[1;33m             \u001B[1;32mreturn\u001B[0m \u001B[0mself\u001B[0m\u001B[1;33m.\u001B[0m\u001B[0m_getitem_axis\u001B[0m\u001B[1;33m(\u001B[0m\u001B[0mmaybe_callable\u001B[0m\u001B[1;33m,\u001B[0m \u001B[0maxis\u001B[0m\u001B[1;33m=\u001B[0m\u001B[0maxis\u001B[0m\u001B[1;33m)\u001B[0m\u001B[1;33m\u001B[0m\u001B[1;33m\u001B[0m\u001B[0m\n\u001B[0m\u001B[0;32m    968\u001B[0m \u001B[1;33m\u001B[0m\u001B[0m\n\u001B[0;32m    969\u001B[0m     \u001B[1;32mdef\u001B[0m \u001B[0m_is_scalar_access\u001B[0m\u001B[1;33m(\u001B[0m\u001B[0mself\u001B[0m\u001B[1;33m,\u001B[0m \u001B[0mkey\u001B[0m\u001B[1;33m:\u001B[0m \u001B[0mtuple\u001B[0m\u001B[1;33m)\u001B[0m\u001B[1;33m:\u001B[0m\u001B[1;33m\u001B[0m\u001B[1;33m\u001B[0m\u001B[0m\n",
      "\u001B[1;32m~\\anaconda3\\lib\\site-packages\\pandas\\core\\indexing.py\u001B[0m in \u001B[0;36m_getitem_axis\u001B[1;34m(self, key, axis)\u001B[0m\n\u001B[0;32m   1183\u001B[0m             \u001B[1;32mreturn\u001B[0m \u001B[0mself\u001B[0m\u001B[1;33m.\u001B[0m\u001B[0m_get_slice_axis\u001B[0m\u001B[1;33m(\u001B[0m\u001B[0mkey\u001B[0m\u001B[1;33m,\u001B[0m \u001B[0maxis\u001B[0m\u001B[1;33m=\u001B[0m\u001B[0maxis\u001B[0m\u001B[1;33m)\u001B[0m\u001B[1;33m\u001B[0m\u001B[1;33m\u001B[0m\u001B[0m\n\u001B[0;32m   1184\u001B[0m         \u001B[1;32melif\u001B[0m \u001B[0mcom\u001B[0m\u001B[1;33m.\u001B[0m\u001B[0mis_bool_indexer\u001B[0m\u001B[1;33m(\u001B[0m\u001B[0mkey\u001B[0m\u001B[1;33m)\u001B[0m\u001B[1;33m:\u001B[0m\u001B[1;33m\u001B[0m\u001B[1;33m\u001B[0m\u001B[0m\n\u001B[1;32m-> 1185\u001B[1;33m             \u001B[1;32mreturn\u001B[0m \u001B[0mself\u001B[0m\u001B[1;33m.\u001B[0m\u001B[0m_getbool_axis\u001B[0m\u001B[1;33m(\u001B[0m\u001B[0mkey\u001B[0m\u001B[1;33m,\u001B[0m \u001B[0maxis\u001B[0m\u001B[1;33m=\u001B[0m\u001B[0maxis\u001B[0m\u001B[1;33m)\u001B[0m\u001B[1;33m\u001B[0m\u001B[1;33m\u001B[0m\u001B[0m\n\u001B[0m\u001B[0;32m   1186\u001B[0m         \u001B[1;32melif\u001B[0m \u001B[0mis_list_like_indexer\u001B[0m\u001B[1;33m(\u001B[0m\u001B[0mkey\u001B[0m\u001B[1;33m)\u001B[0m\u001B[1;33m:\u001B[0m\u001B[1;33m\u001B[0m\u001B[1;33m\u001B[0m\u001B[0m\n\u001B[0;32m   1187\u001B[0m \u001B[1;33m\u001B[0m\u001B[0m\n",
      "\u001B[1;32m~\\anaconda3\\lib\\site-packages\\pandas\\core\\indexing.py\u001B[0m in \u001B[0;36m_getbool_axis\u001B[1;34m(self, key, axis)\u001B[0m\n\u001B[0;32m    983\u001B[0m         \u001B[0mlabels\u001B[0m \u001B[1;33m=\u001B[0m \u001B[0mself\u001B[0m\u001B[1;33m.\u001B[0m\u001B[0mobj\u001B[0m\u001B[1;33m.\u001B[0m\u001B[0m_get_axis\u001B[0m\u001B[1;33m(\u001B[0m\u001B[0maxis\u001B[0m\u001B[1;33m)\u001B[0m\u001B[1;33m\u001B[0m\u001B[1;33m\u001B[0m\u001B[0m\n\u001B[0;32m    984\u001B[0m         \u001B[0mkey\u001B[0m \u001B[1;33m=\u001B[0m \u001B[0mcheck_bool_indexer\u001B[0m\u001B[1;33m(\u001B[0m\u001B[0mlabels\u001B[0m\u001B[1;33m,\u001B[0m \u001B[0mkey\u001B[0m\u001B[1;33m)\u001B[0m\u001B[1;33m\u001B[0m\u001B[1;33m\u001B[0m\u001B[0m\n\u001B[1;32m--> 985\u001B[1;33m         \u001B[0minds\u001B[0m \u001B[1;33m=\u001B[0m \u001B[0mkey\u001B[0m\u001B[1;33m.\u001B[0m\u001B[0mnonzero\u001B[0m\u001B[1;33m(\u001B[0m\u001B[1;33m)\u001B[0m\u001B[1;33m[\u001B[0m\u001B[1;36m0\u001B[0m\u001B[1;33m]\u001B[0m\u001B[1;33m\u001B[0m\u001B[1;33m\u001B[0m\u001B[0m\n\u001B[0m\u001B[0;32m    986\u001B[0m         \u001B[1;32mreturn\u001B[0m \u001B[0mself\u001B[0m\u001B[1;33m.\u001B[0m\u001B[0mobj\u001B[0m\u001B[1;33m.\u001B[0m\u001B[0m_take_with_is_copy\u001B[0m\u001B[1;33m(\u001B[0m\u001B[0minds\u001B[0m\u001B[1;33m,\u001B[0m \u001B[0maxis\u001B[0m\u001B[1;33m=\u001B[0m\u001B[0maxis\u001B[0m\u001B[1;33m)\u001B[0m\u001B[1;33m\u001B[0m\u001B[1;33m\u001B[0m\u001B[0m\n\u001B[0;32m    987\u001B[0m \u001B[1;33m\u001B[0m\u001B[0m\n",
      "\u001B[1;31mKeyboardInterrupt\u001B[0m: "
     ]
    }
   ],
   "source": [
    "err = []\n",
    "for u in users:\n",
    "    cr = recomendar(u)\n",
    "    nmax = df[df['review_profilename'] == u]['review_overall'].max()\n",
    "    nd = df[(df['review_profilename'] == u) & (df['beer_beerid'] == cr)]['review_overall'].values\n",
    "\n",
    "    if len(nd) > 0:  # Verifique se há valores em nd antes de calcular o erro\n",
    "        error = abs(nmax - nd[0])  # Use nd[0] para obter o valor único\n",
    "        err.append(error)\n",
    "\n",
    "    print(u, cr)\n",
    "\n",
    "# Calcule o erro médio apenas se houver erros na lista err\n",
    "if err:\n",
    "    average_error = sum(err) / len(err)\n",
    "    print('ERRO MÉDIO:', average_error)\n",
    "else:\n",
    "    print('Nenhum erro calculado.')\n"
   ],
   "metadata": {
    "collapsed": false
   }
  },
  {
   "cell_type": "code",
   "execution_count": 707,
   "outputs": [
    {
     "data": {
      "text/plain": "       review_profilename beer_beerid  review_overall\n0           JamnesCameron       36862             2.5\n1882        JamnesCameron        2653             2.5\n2444        JamnesCameron       17538             1.5\n2856        JamnesCameron       34085             2.0\n3749        JamnesCameron       61128             1.5\n...                   ...         ...             ...\n684203      JamnesCameron        6354             5.0\n685803      JamnesCameron       49092             5.0\n686504      JamnesCameron        2595             5.0\n686563      JamnesCameron       10683             5.0\n686603      JamnesCameron       64089             5.0\n\n[243 rows x 3 columns]",
      "text/html": "<div>\n<style scoped>\n    .dataframe tbody tr th:only-of-type {\n        vertical-align: middle;\n    }\n\n    .dataframe tbody tr th {\n        vertical-align: top;\n    }\n\n    .dataframe thead th {\n        text-align: right;\n    }\n</style>\n<table border=\"1\" class=\"dataframe\">\n  <thead>\n    <tr style=\"text-align: right;\">\n      <th></th>\n      <th>review_profilename</th>\n      <th>beer_beerid</th>\n      <th>review_overall</th>\n    </tr>\n  </thead>\n  <tbody>\n    <tr>\n      <th>0</th>\n      <td>JamnesCameron</td>\n      <td>36862</td>\n      <td>2.5</td>\n    </tr>\n    <tr>\n      <th>1882</th>\n      <td>JamnesCameron</td>\n      <td>2653</td>\n      <td>2.5</td>\n    </tr>\n    <tr>\n      <th>2444</th>\n      <td>JamnesCameron</td>\n      <td>17538</td>\n      <td>1.5</td>\n    </tr>\n    <tr>\n      <th>2856</th>\n      <td>JamnesCameron</td>\n      <td>34085</td>\n      <td>2.0</td>\n    </tr>\n    <tr>\n      <th>3749</th>\n      <td>JamnesCameron</td>\n      <td>61128</td>\n      <td>1.5</td>\n    </tr>\n    <tr>\n      <th>...</th>\n      <td>...</td>\n      <td>...</td>\n      <td>...</td>\n    </tr>\n    <tr>\n      <th>684203</th>\n      <td>JamnesCameron</td>\n      <td>6354</td>\n      <td>5.0</td>\n    </tr>\n    <tr>\n      <th>685803</th>\n      <td>JamnesCameron</td>\n      <td>49092</td>\n      <td>5.0</td>\n    </tr>\n    <tr>\n      <th>686504</th>\n      <td>JamnesCameron</td>\n      <td>2595</td>\n      <td>5.0</td>\n    </tr>\n    <tr>\n      <th>686563</th>\n      <td>JamnesCameron</td>\n      <td>10683</td>\n      <td>5.0</td>\n    </tr>\n    <tr>\n      <th>686603</th>\n      <td>JamnesCameron</td>\n      <td>64089</td>\n      <td>5.0</td>\n    </tr>\n  </tbody>\n</table>\n<p>243 rows × 3 columns</p>\n</div>"
     },
     "execution_count": 707,
     "metadata": {},
     "output_type": "execute_result"
    }
   ],
   "source": [
    "ratings[ratings['review_profilename'] == 'JamnesCameron']"
   ],
   "metadata": {
    "collapsed": false
   }
  },
  {
   "cell_type": "code",
   "execution_count": 693,
   "outputs": [
    {
     "data": {
      "text/plain": "Prediction(uid='Strix', iid=1336, r_ui=None, est=3.8240614573447766, details={'was_impossible': False})"
     },
     "execution_count": 693,
     "metadata": {},
     "output_type": "execute_result"
    }
   ],
   "source": [
    "svd.predict('Strix', 1336)"
   ],
   "metadata": {
    "collapsed": false
   }
  },
  {
   "cell_type": "code",
   "execution_count": 706,
   "outputs": [
    {
     "ename": "ValueError",
     "evalue": "max() arg is an empty sequence",
     "output_type": "error",
     "traceback": [
      "\u001B[1;31m---------------------------------------------------------------------------\u001B[0m",
      "\u001B[1;31mValueError\u001B[0m                                Traceback (most recent call last)",
      "\u001B[1;32m~\\AppData\\Local\\Temp\\ipykernel_14096\\1688446486.py\u001B[0m in \u001B[0;36m<module>\u001B[1;34m\u001B[0m\n\u001B[1;32m----> 1\u001B[1;33m \u001B[0mprint\u001B[0m\u001B[1;33m(\u001B[0m\u001B[0mrecomendar\u001B[0m\u001B[1;33m(\u001B[0m\u001B[1;34m'eballard'\u001B[0m\u001B[1;33m)\u001B[0m\u001B[1;33m)\u001B[0m\u001B[1;33m\u001B[0m\u001B[1;33m\u001B[0m\u001B[0m\n\u001B[0m",
      "\u001B[1;32m~\\AppData\\Local\\Temp\\ipykernel_14096\\230809978.py\u001B[0m in \u001B[0;36mrecomendar\u001B[1;34m(user)\u001B[0m\n\u001B[0;32m     12\u001B[0m         \u001B[0mcervejas\u001B[0m\u001B[1;33m.\u001B[0m\u001B[0mappend\u001B[0m\u001B[1;33m(\u001B[0m\u001B[0mcerveja_id\u001B[0m\u001B[1;33m)\u001B[0m\u001B[1;33m\u001B[0m\u001B[1;33m\u001B[0m\u001B[0m\n\u001B[0;32m     13\u001B[0m \u001B[1;33m\u001B[0m\u001B[0m\n\u001B[1;32m---> 14\u001B[1;33m     \u001B[0mindice_max_nota\u001B[0m \u001B[1;33m=\u001B[0m \u001B[0mnotas\u001B[0m\u001B[1;33m.\u001B[0m\u001B[0mindex\u001B[0m\u001B[1;33m(\u001B[0m\u001B[0mmax\u001B[0m\u001B[1;33m(\u001B[0m\u001B[0mnotas\u001B[0m\u001B[1;33m)\u001B[0m\u001B[1;33m)\u001B[0m\u001B[1;33m\u001B[0m\u001B[1;33m\u001B[0m\u001B[0m\n\u001B[0m\u001B[0;32m     15\u001B[0m     \u001B[0mcerveja_recomendada\u001B[0m \u001B[1;33m=\u001B[0m \u001B[0mcervejas\u001B[0m\u001B[1;33m[\u001B[0m\u001B[0mindice_max_nota\u001B[0m\u001B[1;33m]\u001B[0m\u001B[1;33m\u001B[0m\u001B[1;33m\u001B[0m\u001B[0m\n\u001B[0;32m     16\u001B[0m \u001B[1;33m\u001B[0m\u001B[0m\n",
      "\u001B[1;31mValueError\u001B[0m: max() arg is an empty sequence"
     ]
    }
   ],
   "source": [
    "print(recomendar('eballard'))"
   ],
   "metadata": {
    "collapsed": false
   }
  },
  {
   "cell_type": "code",
   "execution_count": null,
   "outputs": [],
   "source": [],
   "metadata": {
    "collapsed": false
   }
  }
 ],
 "metadata": {
  "kernelspec": {
   "display_name": "Python 3",
   "language": "python",
   "name": "python3"
  },
  "language_info": {
   "codemirror_mode": {
    "name": "ipython",
    "version": 2
   },
   "file_extension": ".py",
   "mimetype": "text/x-python",
   "name": "python",
   "nbconvert_exporter": "python",
   "pygments_lexer": "ipython2",
   "version": "2.7.6"
  }
 },
 "nbformat": 4,
 "nbformat_minor": 0
}
