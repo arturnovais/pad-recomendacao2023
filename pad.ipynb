{
 "cells": [
  {
   "cell_type": "code",
   "execution_count": 1,
   "id": "initial_id",
   "metadata": {
    "collapsed": true,
    "ExecuteTime": {
     "end_time": "2023-07-31T05:14:39.610521400Z",
     "start_time": "2023-07-31T05:14:39.037379400Z"
    }
   },
   "outputs": [],
   "source": [
    "import pandas as pd"
   ]
  },
  {
   "cell_type": "markdown",
   "source": [
    "Pergunta?\n",
    "\n",
    "Será que é possível indicar cervejas que o usuário vai gostar sabendo as que ele ja experimentou? E se for possível, quão bem podemos fazer isso? Se conseguimos recomendar só aquilo que é parecido com o que ele gosta, estaremos o empurrando para um bolha?"
   ],
   "metadata": {
    "collapsed": false
   },
   "id": "5530497b3ac340b9"
  },
  {
   "cell_type": "markdown",
   "source": [
    "Detalhar o get, de onde esses dados vieram e o que eles significam\n",
    "\n",
    "GET: https://www.kaggle.com/code/ruthgn/data-cleaning-integration-pandas-fuzzywuzzy/input"
   ],
   "metadata": {
    "collapsed": false
   },
   "id": "89d74b5646513fd"
  },
  {
   "cell_type": "code",
   "execution_count": 2,
   "outputs": [],
   "source": [
    "df = pd.read_csv('beer_review.csv')"
   ],
   "metadata": {
    "collapsed": false,
    "ExecuteTime": {
     "end_time": "2023-07-31T05:14:53.237363100Z",
     "start_time": "2023-07-31T05:14:53.192263100Z"
    }
   },
   "id": "91917450155b0f5f"
  },
  {
   "cell_type": "code",
   "execution_count": null,
   "outputs": [],
   "source": [
    "#QUANTAS COLUNAS(FEATURES) NÓS POSSUIMOS?"
   ],
   "metadata": {
    "collapsed": false
   },
   "id": "12a4b7ed9160451f"
  },
  {
   "cell_type": "code",
   "execution_count": 6,
   "outputs": [
    {
     "data": {
      "text/plain": "(5558, 21)"
     },
     "execution_count": 6,
     "metadata": {},
     "output_type": "execute_result"
    }
   ],
   "source": [
    "df.shape"
   ],
   "metadata": {
    "collapsed": false,
    "ExecuteTime": {
     "end_time": "2023-07-31T05:18:29.884366300Z",
     "start_time": "2023-07-31T05:18:29.853112500Z"
    }
   },
   "id": "a998a2a3d944d2e1"
  },
  {
   "cell_type": "code",
   "execution_count": 8,
   "outputs": [
    {
     "data": {
      "text/plain": "                            Name  key    Style  Style Key  \\\n0                          Amber  251  Altbier          8   \n1                     Double Bag  252  Altbier          8   \n2                 Long Trail Ale  253  Altbier          8   \n3                   Doppelsticke  254  Altbier          8   \n4                         Scurry  255  Altbier          8   \n5   Sleigh'r Dark Doüble Alt Ale  256  Altbier          8   \n6                         Sticke  257  Altbier          8   \n7              Okto Festival Ale  258  Altbier          8   \n8            Southampton Altbier  259  Altbier          8   \n9                         Copper  260  Altbier          8   \n10           Organic Münster Alt  261  Altbier          8   \n11                       Altbier  262  Altbier          8   \n12                   Gerst Amber  263  Altbier          8   \n13                  Ad Astra Ale  264  Altbier          8   \n14                 Doppel Sticky  265  Altbier          8   \n15                Copperhead Ale  266  Altbier          8   \n16                 Ten Years Alt  267  Altbier          8   \n17              Three Blind Mice  268  Altbier          8   \n18                       Ishmael  269  Altbier          8   \n19                  Headwall Alt  270  Altbier          8   \n20               Alt-eration Ale  271  Altbier          8   \n21       Schell's Schmaltz's Alt  272  Altbier          8   \n22                  Balt Altbier  273  Altbier          8   \n23               Frankenheim Alt  274  Altbier          8   \n24                Iron Works Alt  275  Altbier          8   \n25       Diebels Premium Altbier  276  Altbier          8   \n26                 Mission Amber  277  Altbier          8   \n27               Hövels Original  278  Altbier          8   \n28           Secret Spot Alt Ale  279  Altbier          8   \n29                     Hoppeditz  280  Altbier          8   \n\n                                  Brewery  \\\n0                     Alaskan Brewing Co.   \n1                  Long Trail Brewing Co.   \n2                  Long Trail Brewing Co.   \n3          Uerige Obergärige Hausbrauerei   \n4                       Off Color Brewing   \n5                 Ninkasi Brewing Company   \n6          Uerige Obergärige Hausbrauerei   \n7         Widmer Brothers Brewing Company   \n8               Southampton Publick House   \n9            The Olde Mecklenburg Brewery   \n10                Brauerei Pinkus Mueller   \n11         Uerige Obergärige Hausbrauerei   \n12                  Yazoo Brewing Company   \n13                 Free State Brewing Co.   \n14              Lagunitas Brewing Company   \n15                Fordham Brewing Company   \n16  Victory Brewing Company - Downingtown   \n17               Mother's Brewing Company   \n18            Rising Tide Brewing Company   \n19                  Tuckerman Brewing Co.   \n20                   Hops & Grain Brewing   \n21          August Schell Brewing Company   \n22            Union Craft Brewing Company   \n23             Privatbrauerei Frankenheim   \n24                   Metropolitan Brewing   \n25          Brauerei Diebels GmbH & Co KG   \n26                        Mission Brewery   \n27                    Hövels Hausbrauerei   \n28        Evolution Craft Brewing Company   \n29                   Freigeist Bierkultur   \n\n                                          Description  ABV  Ave Rating  \\\n0   Notes:Richly malty and long on the palate, wit...  5.3        3.65   \n1   Notes:This malty, full-bodied double alt is al...  7.2        3.90   \n2   Notes:Long Trail Ale is a full-bodied amber al...  5.0        3.58   \n3                                              Notes:  8.5        4.15   \n4   Notes:Just cause it's dark and German doesn't ...  5.3        3.67   \n5   Notes:Called 'Dark Double Alt' on the label.Se...  7.2        3.78   \n6                                              Notes:  6.0        4.10   \n7   Notes:Classified as a German Altbier by the Wi...  5.3        3.46   \n8                                              Notes:  5.0        3.60   \n9   Notes:OMB’s flagship, Copper, is an authentic ...  4.8        4.10   \n10                                             Notes:  5.1        3.70   \n11  Notes:Uerige Alt is the most bittered beer in ...  4.7        4.00   \n12  Notes:Check out a piece of Nashville brewing h...  5.1        3.54   \n13  Notes:This ale is the first brewed in Kansas s...  5.6        3.69   \n14  Notes:This fruity, estery double altbier is br...  7.7        4.07   \n15  Notes:The name isn’t a coincidence. This Düsse...  5.2        3.37   \n16  Notes:A Doppelsticke Altbier brewed for Victor...  8.5        3.96   \n17  Notes:Three Blind Mice is inspired by our favo...  5.5        3.57   \n18  Notes:Ishmael is our richly-flavored American ...  4.9        3.71   \n19  Notes:This is traditional style of altbeir fro...  4.5        3.69   \n20                                             Notes:  5.0        3.81   \n21  Notes:One of Warren's favorite pastimes back i...  5.1        3.75   \n22  Notes:A Brewing TraditionThis German-style Alt...  5.5        3.80   \n23                                             Notes:  4.8        3.76   \n24  Notes:An assertively hoppy top-fermented beer,...  5.5        3.84   \n25                                             Notes:  4.9        3.72   \n26                                             Notes:  5.0        3.47   \n27                                             Notes:  5.5        3.71   \n28                                             Notes:  6.3        3.58   \n29                                             Notes:  7.5        3.91   \n\n    Min IBU  Max IBU  ...  Body  Alcohol  Bitter  Sweet  Sour  Salty  Fruits  \\\n0        25       50  ...    32        9      47     74    33      0      33   \n1        25       50  ...    57       18      33     55    16      0      24   \n2        25       50  ...    37        6      42     43    11      0      10   \n3        25       50  ...    55       31      47    101    18      1      49   \n4        25       50  ...    69       10      63    120    14      0      19   \n5        25       50  ...    51       26      44     45     9      1      11   \n6        25       50  ...    45       13      46     62    25      1      34   \n7        25       50  ...    40        3      40     58    29      0      36   \n8        25       50  ...    49        5      37     73    22      0      21   \n9        25       50  ...    35        4      38     39    13      1       8   \n10       25       50  ...    31        5      35     50    55      5      52   \n11       25       50  ...    48        9      55     59    25      1      32   \n12       25       50  ...    19        1      21     30    11      4       8   \n13       25       50  ...    30        5      43     43    13      1      13   \n14       25       50  ...    44       27      79     73    88      2     114   \n15       25       50  ...    32        9      29     54    13      1      11   \n16       25       50  ...    55       31      48    105    31      0      37   \n17       25       50  ...    58        6      47     49     5      1       3   \n18       25       50  ...    41        1      55     43    18      1      20   \n19       25       50  ...    42       13      54     62    19      0      25   \n20       25       50  ...    43        3      54     54     7      0      10   \n21       25       50  ...    72        9      48    102    25      1      50   \n22       25       50  ...    65       10      45     75    22      1      29   \n23       25       50  ...    43        5      39     43    13      1       6   \n24       25       50  ...    50       16      60     84    32      0      46   \n25       25       50  ...    27        5      37     33    13      0      13   \n26       25       50  ...    36        9      59     55    20      2      18   \n27       25       50  ...    38       10      47     54    10      1      14   \n28       25       50  ...    53       16      69     67    29      0      23   \n29       25       50  ...    55       23      72     92    21      0      52   \n\n    Hoppy  Spices  Malty  \n0      57       8    111  \n1      35      12     84  \n2      54       4     62  \n3      40      16    119  \n4      36      15    218  \n5      51      20     95  \n6      60       4    103  \n7      54       8     97  \n8      37       4     98  \n9      60      16     97  \n10     66       8     77  \n11     68      12    121  \n12     24       2     65  \n13     50       6     93  \n14     92       9     51  \n15     32       2    112  \n16     59      19    115  \n17     50       5    110  \n18     80       7    103  \n19     64      10    135  \n20     60       9    111  \n21     43      13    176  \n22     68      12    132  \n23     45       8     97  \n24     83      19    121  \n25     45      10     70  \n26     80       7    132  \n27     68       2    117  \n28     87      18    103  \n29     75      47    129  \n\n[30 rows x 21 columns]",
      "text/html": "<div>\n<style scoped>\n    .dataframe tbody tr th:only-of-type {\n        vertical-align: middle;\n    }\n\n    .dataframe tbody tr th {\n        vertical-align: top;\n    }\n\n    .dataframe thead th {\n        text-align: right;\n    }\n</style>\n<table border=\"1\" class=\"dataframe\">\n  <thead>\n    <tr style=\"text-align: right;\">\n      <th></th>\n      <th>Name</th>\n      <th>key</th>\n      <th>Style</th>\n      <th>Style Key</th>\n      <th>Brewery</th>\n      <th>Description</th>\n      <th>ABV</th>\n      <th>Ave Rating</th>\n      <th>Min IBU</th>\n      <th>Max IBU</th>\n      <th>...</th>\n      <th>Body</th>\n      <th>Alcohol</th>\n      <th>Bitter</th>\n      <th>Sweet</th>\n      <th>Sour</th>\n      <th>Salty</th>\n      <th>Fruits</th>\n      <th>Hoppy</th>\n      <th>Spices</th>\n      <th>Malty</th>\n    </tr>\n  </thead>\n  <tbody>\n    <tr>\n      <th>0</th>\n      <td>Amber</td>\n      <td>251</td>\n      <td>Altbier</td>\n      <td>8</td>\n      <td>Alaskan Brewing Co.</td>\n      <td>Notes:Richly malty and long on the palate, wit...</td>\n      <td>5.3</td>\n      <td>3.65</td>\n      <td>25</td>\n      <td>50</td>\n      <td>...</td>\n      <td>32</td>\n      <td>9</td>\n      <td>47</td>\n      <td>74</td>\n      <td>33</td>\n      <td>0</td>\n      <td>33</td>\n      <td>57</td>\n      <td>8</td>\n      <td>111</td>\n    </tr>\n    <tr>\n      <th>1</th>\n      <td>Double Bag</td>\n      <td>252</td>\n      <td>Altbier</td>\n      <td>8</td>\n      <td>Long Trail Brewing Co.</td>\n      <td>Notes:This malty, full-bodied double alt is al...</td>\n      <td>7.2</td>\n      <td>3.90</td>\n      <td>25</td>\n      <td>50</td>\n      <td>...</td>\n      <td>57</td>\n      <td>18</td>\n      <td>33</td>\n      <td>55</td>\n      <td>16</td>\n      <td>0</td>\n      <td>24</td>\n      <td>35</td>\n      <td>12</td>\n      <td>84</td>\n    </tr>\n    <tr>\n      <th>2</th>\n      <td>Long Trail Ale</td>\n      <td>253</td>\n      <td>Altbier</td>\n      <td>8</td>\n      <td>Long Trail Brewing Co.</td>\n      <td>Notes:Long Trail Ale is a full-bodied amber al...</td>\n      <td>5.0</td>\n      <td>3.58</td>\n      <td>25</td>\n      <td>50</td>\n      <td>...</td>\n      <td>37</td>\n      <td>6</td>\n      <td>42</td>\n      <td>43</td>\n      <td>11</td>\n      <td>0</td>\n      <td>10</td>\n      <td>54</td>\n      <td>4</td>\n      <td>62</td>\n    </tr>\n    <tr>\n      <th>3</th>\n      <td>Doppelsticke</td>\n      <td>254</td>\n      <td>Altbier</td>\n      <td>8</td>\n      <td>Uerige Obergärige Hausbrauerei</td>\n      <td>Notes:</td>\n      <td>8.5</td>\n      <td>4.15</td>\n      <td>25</td>\n      <td>50</td>\n      <td>...</td>\n      <td>55</td>\n      <td>31</td>\n      <td>47</td>\n      <td>101</td>\n      <td>18</td>\n      <td>1</td>\n      <td>49</td>\n      <td>40</td>\n      <td>16</td>\n      <td>119</td>\n    </tr>\n    <tr>\n      <th>4</th>\n      <td>Scurry</td>\n      <td>255</td>\n      <td>Altbier</td>\n      <td>8</td>\n      <td>Off Color Brewing</td>\n      <td>Notes:Just cause it's dark and German doesn't ...</td>\n      <td>5.3</td>\n      <td>3.67</td>\n      <td>25</td>\n      <td>50</td>\n      <td>...</td>\n      <td>69</td>\n      <td>10</td>\n      <td>63</td>\n      <td>120</td>\n      <td>14</td>\n      <td>0</td>\n      <td>19</td>\n      <td>36</td>\n      <td>15</td>\n      <td>218</td>\n    </tr>\n    <tr>\n      <th>5</th>\n      <td>Sleigh'r Dark Doüble Alt Ale</td>\n      <td>256</td>\n      <td>Altbier</td>\n      <td>8</td>\n      <td>Ninkasi Brewing Company</td>\n      <td>Notes:Called 'Dark Double Alt' on the label.Se...</td>\n      <td>7.2</td>\n      <td>3.78</td>\n      <td>25</td>\n      <td>50</td>\n      <td>...</td>\n      <td>51</td>\n      <td>26</td>\n      <td>44</td>\n      <td>45</td>\n      <td>9</td>\n      <td>1</td>\n      <td>11</td>\n      <td>51</td>\n      <td>20</td>\n      <td>95</td>\n    </tr>\n    <tr>\n      <th>6</th>\n      <td>Sticke</td>\n      <td>257</td>\n      <td>Altbier</td>\n      <td>8</td>\n      <td>Uerige Obergärige Hausbrauerei</td>\n      <td>Notes:</td>\n      <td>6.0</td>\n      <td>4.10</td>\n      <td>25</td>\n      <td>50</td>\n      <td>...</td>\n      <td>45</td>\n      <td>13</td>\n      <td>46</td>\n      <td>62</td>\n      <td>25</td>\n      <td>1</td>\n      <td>34</td>\n      <td>60</td>\n      <td>4</td>\n      <td>103</td>\n    </tr>\n    <tr>\n      <th>7</th>\n      <td>Okto Festival Ale</td>\n      <td>258</td>\n      <td>Altbier</td>\n      <td>8</td>\n      <td>Widmer Brothers Brewing Company</td>\n      <td>Notes:Classified as a German Altbier by the Wi...</td>\n      <td>5.3</td>\n      <td>3.46</td>\n      <td>25</td>\n      <td>50</td>\n      <td>...</td>\n      <td>40</td>\n      <td>3</td>\n      <td>40</td>\n      <td>58</td>\n      <td>29</td>\n      <td>0</td>\n      <td>36</td>\n      <td>54</td>\n      <td>8</td>\n      <td>97</td>\n    </tr>\n    <tr>\n      <th>8</th>\n      <td>Southampton Altbier</td>\n      <td>259</td>\n      <td>Altbier</td>\n      <td>8</td>\n      <td>Southampton Publick House</td>\n      <td>Notes:</td>\n      <td>5.0</td>\n      <td>3.60</td>\n      <td>25</td>\n      <td>50</td>\n      <td>...</td>\n      <td>49</td>\n      <td>5</td>\n      <td>37</td>\n      <td>73</td>\n      <td>22</td>\n      <td>0</td>\n      <td>21</td>\n      <td>37</td>\n      <td>4</td>\n      <td>98</td>\n    </tr>\n    <tr>\n      <th>9</th>\n      <td>Copper</td>\n      <td>260</td>\n      <td>Altbier</td>\n      <td>8</td>\n      <td>The Olde Mecklenburg Brewery</td>\n      <td>Notes:OMB’s flagship, Copper, is an authentic ...</td>\n      <td>4.8</td>\n      <td>4.10</td>\n      <td>25</td>\n      <td>50</td>\n      <td>...</td>\n      <td>35</td>\n      <td>4</td>\n      <td>38</td>\n      <td>39</td>\n      <td>13</td>\n      <td>1</td>\n      <td>8</td>\n      <td>60</td>\n      <td>16</td>\n      <td>97</td>\n    </tr>\n    <tr>\n      <th>10</th>\n      <td>Organic Münster Alt</td>\n      <td>261</td>\n      <td>Altbier</td>\n      <td>8</td>\n      <td>Brauerei Pinkus Mueller</td>\n      <td>Notes:</td>\n      <td>5.1</td>\n      <td>3.70</td>\n      <td>25</td>\n      <td>50</td>\n      <td>...</td>\n      <td>31</td>\n      <td>5</td>\n      <td>35</td>\n      <td>50</td>\n      <td>55</td>\n      <td>5</td>\n      <td>52</td>\n      <td>66</td>\n      <td>8</td>\n      <td>77</td>\n    </tr>\n    <tr>\n      <th>11</th>\n      <td>Altbier</td>\n      <td>262</td>\n      <td>Altbier</td>\n      <td>8</td>\n      <td>Uerige Obergärige Hausbrauerei</td>\n      <td>Notes:Uerige Alt is the most bittered beer in ...</td>\n      <td>4.7</td>\n      <td>4.00</td>\n      <td>25</td>\n      <td>50</td>\n      <td>...</td>\n      <td>48</td>\n      <td>9</td>\n      <td>55</td>\n      <td>59</td>\n      <td>25</td>\n      <td>1</td>\n      <td>32</td>\n      <td>68</td>\n      <td>12</td>\n      <td>121</td>\n    </tr>\n    <tr>\n      <th>12</th>\n      <td>Gerst Amber</td>\n      <td>263</td>\n      <td>Altbier</td>\n      <td>8</td>\n      <td>Yazoo Brewing Company</td>\n      <td>Notes:Check out a piece of Nashville brewing h...</td>\n      <td>5.1</td>\n      <td>3.54</td>\n      <td>25</td>\n      <td>50</td>\n      <td>...</td>\n      <td>19</td>\n      <td>1</td>\n      <td>21</td>\n      <td>30</td>\n      <td>11</td>\n      <td>4</td>\n      <td>8</td>\n      <td>24</td>\n      <td>2</td>\n      <td>65</td>\n    </tr>\n    <tr>\n      <th>13</th>\n      <td>Ad Astra Ale</td>\n      <td>264</td>\n      <td>Altbier</td>\n      <td>8</td>\n      <td>Free State Brewing Co.</td>\n      <td>Notes:This ale is the first brewed in Kansas s...</td>\n      <td>5.6</td>\n      <td>3.69</td>\n      <td>25</td>\n      <td>50</td>\n      <td>...</td>\n      <td>30</td>\n      <td>5</td>\n      <td>43</td>\n      <td>43</td>\n      <td>13</td>\n      <td>1</td>\n      <td>13</td>\n      <td>50</td>\n      <td>6</td>\n      <td>93</td>\n    </tr>\n    <tr>\n      <th>14</th>\n      <td>Doppel Sticky</td>\n      <td>265</td>\n      <td>Altbier</td>\n      <td>8</td>\n      <td>Lagunitas Brewing Company</td>\n      <td>Notes:This fruity, estery double altbier is br...</td>\n      <td>7.7</td>\n      <td>4.07</td>\n      <td>25</td>\n      <td>50</td>\n      <td>...</td>\n      <td>44</td>\n      <td>27</td>\n      <td>79</td>\n      <td>73</td>\n      <td>88</td>\n      <td>2</td>\n      <td>114</td>\n      <td>92</td>\n      <td>9</td>\n      <td>51</td>\n    </tr>\n    <tr>\n      <th>15</th>\n      <td>Copperhead Ale</td>\n      <td>266</td>\n      <td>Altbier</td>\n      <td>8</td>\n      <td>Fordham Brewing Company</td>\n      <td>Notes:The name isn’t a coincidence. This Düsse...</td>\n      <td>5.2</td>\n      <td>3.37</td>\n      <td>25</td>\n      <td>50</td>\n      <td>...</td>\n      <td>32</td>\n      <td>9</td>\n      <td>29</td>\n      <td>54</td>\n      <td>13</td>\n      <td>1</td>\n      <td>11</td>\n      <td>32</td>\n      <td>2</td>\n      <td>112</td>\n    </tr>\n    <tr>\n      <th>16</th>\n      <td>Ten Years Alt</td>\n      <td>267</td>\n      <td>Altbier</td>\n      <td>8</td>\n      <td>Victory Brewing Company - Downingtown</td>\n      <td>Notes:A Doppelsticke Altbier brewed for Victor...</td>\n      <td>8.5</td>\n      <td>3.96</td>\n      <td>25</td>\n      <td>50</td>\n      <td>...</td>\n      <td>55</td>\n      <td>31</td>\n      <td>48</td>\n      <td>105</td>\n      <td>31</td>\n      <td>0</td>\n      <td>37</td>\n      <td>59</td>\n      <td>19</td>\n      <td>115</td>\n    </tr>\n    <tr>\n      <th>17</th>\n      <td>Three Blind Mice</td>\n      <td>268</td>\n      <td>Altbier</td>\n      <td>8</td>\n      <td>Mother's Brewing Company</td>\n      <td>Notes:Three Blind Mice is inspired by our favo...</td>\n      <td>5.5</td>\n      <td>3.57</td>\n      <td>25</td>\n      <td>50</td>\n      <td>...</td>\n      <td>58</td>\n      <td>6</td>\n      <td>47</td>\n      <td>49</td>\n      <td>5</td>\n      <td>1</td>\n      <td>3</td>\n      <td>50</td>\n      <td>5</td>\n      <td>110</td>\n    </tr>\n    <tr>\n      <th>18</th>\n      <td>Ishmael</td>\n      <td>269</td>\n      <td>Altbier</td>\n      <td>8</td>\n      <td>Rising Tide Brewing Company</td>\n      <td>Notes:Ishmael is our richly-flavored American ...</td>\n      <td>4.9</td>\n      <td>3.71</td>\n      <td>25</td>\n      <td>50</td>\n      <td>...</td>\n      <td>41</td>\n      <td>1</td>\n      <td>55</td>\n      <td>43</td>\n      <td>18</td>\n      <td>1</td>\n      <td>20</td>\n      <td>80</td>\n      <td>7</td>\n      <td>103</td>\n    </tr>\n    <tr>\n      <th>19</th>\n      <td>Headwall Alt</td>\n      <td>270</td>\n      <td>Altbier</td>\n      <td>8</td>\n      <td>Tuckerman Brewing Co.</td>\n      <td>Notes:This is traditional style of altbeir fro...</td>\n      <td>4.5</td>\n      <td>3.69</td>\n      <td>25</td>\n      <td>50</td>\n      <td>...</td>\n      <td>42</td>\n      <td>13</td>\n      <td>54</td>\n      <td>62</td>\n      <td>19</td>\n      <td>0</td>\n      <td>25</td>\n      <td>64</td>\n      <td>10</td>\n      <td>135</td>\n    </tr>\n    <tr>\n      <th>20</th>\n      <td>Alt-eration Ale</td>\n      <td>271</td>\n      <td>Altbier</td>\n      <td>8</td>\n      <td>Hops &amp; Grain Brewing</td>\n      <td>Notes:</td>\n      <td>5.0</td>\n      <td>3.81</td>\n      <td>25</td>\n      <td>50</td>\n      <td>...</td>\n      <td>43</td>\n      <td>3</td>\n      <td>54</td>\n      <td>54</td>\n      <td>7</td>\n      <td>0</td>\n      <td>10</td>\n      <td>60</td>\n      <td>9</td>\n      <td>111</td>\n    </tr>\n    <tr>\n      <th>21</th>\n      <td>Schell's Schmaltz's Alt</td>\n      <td>272</td>\n      <td>Altbier</td>\n      <td>8</td>\n      <td>August Schell Brewing Company</td>\n      <td>Notes:One of Warren's favorite pastimes back i...</td>\n      <td>5.1</td>\n      <td>3.75</td>\n      <td>25</td>\n      <td>50</td>\n      <td>...</td>\n      <td>72</td>\n      <td>9</td>\n      <td>48</td>\n      <td>102</td>\n      <td>25</td>\n      <td>1</td>\n      <td>50</td>\n      <td>43</td>\n      <td>13</td>\n      <td>176</td>\n    </tr>\n    <tr>\n      <th>22</th>\n      <td>Balt Altbier</td>\n      <td>273</td>\n      <td>Altbier</td>\n      <td>8</td>\n      <td>Union Craft Brewing Company</td>\n      <td>Notes:A Brewing TraditionThis German-style Alt...</td>\n      <td>5.5</td>\n      <td>3.80</td>\n      <td>25</td>\n      <td>50</td>\n      <td>...</td>\n      <td>65</td>\n      <td>10</td>\n      <td>45</td>\n      <td>75</td>\n      <td>22</td>\n      <td>1</td>\n      <td>29</td>\n      <td>68</td>\n      <td>12</td>\n      <td>132</td>\n    </tr>\n    <tr>\n      <th>23</th>\n      <td>Frankenheim Alt</td>\n      <td>274</td>\n      <td>Altbier</td>\n      <td>8</td>\n      <td>Privatbrauerei Frankenheim</td>\n      <td>Notes:</td>\n      <td>4.8</td>\n      <td>3.76</td>\n      <td>25</td>\n      <td>50</td>\n      <td>...</td>\n      <td>43</td>\n      <td>5</td>\n      <td>39</td>\n      <td>43</td>\n      <td>13</td>\n      <td>1</td>\n      <td>6</td>\n      <td>45</td>\n      <td>8</td>\n      <td>97</td>\n    </tr>\n    <tr>\n      <th>24</th>\n      <td>Iron Works Alt</td>\n      <td>275</td>\n      <td>Altbier</td>\n      <td>8</td>\n      <td>Metropolitan Brewing</td>\n      <td>Notes:An assertively hoppy top-fermented beer,...</td>\n      <td>5.5</td>\n      <td>3.84</td>\n      <td>25</td>\n      <td>50</td>\n      <td>...</td>\n      <td>50</td>\n      <td>16</td>\n      <td>60</td>\n      <td>84</td>\n      <td>32</td>\n      <td>0</td>\n      <td>46</td>\n      <td>83</td>\n      <td>19</td>\n      <td>121</td>\n    </tr>\n    <tr>\n      <th>25</th>\n      <td>Diebels Premium Altbier</td>\n      <td>276</td>\n      <td>Altbier</td>\n      <td>8</td>\n      <td>Brauerei Diebels GmbH &amp; Co KG</td>\n      <td>Notes:</td>\n      <td>4.9</td>\n      <td>3.72</td>\n      <td>25</td>\n      <td>50</td>\n      <td>...</td>\n      <td>27</td>\n      <td>5</td>\n      <td>37</td>\n      <td>33</td>\n      <td>13</td>\n      <td>0</td>\n      <td>13</td>\n      <td>45</td>\n      <td>10</td>\n      <td>70</td>\n    </tr>\n    <tr>\n      <th>26</th>\n      <td>Mission Amber</td>\n      <td>277</td>\n      <td>Altbier</td>\n      <td>8</td>\n      <td>Mission Brewery</td>\n      <td>Notes:</td>\n      <td>5.0</td>\n      <td>3.47</td>\n      <td>25</td>\n      <td>50</td>\n      <td>...</td>\n      <td>36</td>\n      <td>9</td>\n      <td>59</td>\n      <td>55</td>\n      <td>20</td>\n      <td>2</td>\n      <td>18</td>\n      <td>80</td>\n      <td>7</td>\n      <td>132</td>\n    </tr>\n    <tr>\n      <th>27</th>\n      <td>Hövels Original</td>\n      <td>278</td>\n      <td>Altbier</td>\n      <td>8</td>\n      <td>Hövels Hausbrauerei</td>\n      <td>Notes:</td>\n      <td>5.5</td>\n      <td>3.71</td>\n      <td>25</td>\n      <td>50</td>\n      <td>...</td>\n      <td>38</td>\n      <td>10</td>\n      <td>47</td>\n      <td>54</td>\n      <td>10</td>\n      <td>1</td>\n      <td>14</td>\n      <td>68</td>\n      <td>2</td>\n      <td>117</td>\n    </tr>\n    <tr>\n      <th>28</th>\n      <td>Secret Spot Alt Ale</td>\n      <td>279</td>\n      <td>Altbier</td>\n      <td>8</td>\n      <td>Evolution Craft Brewing Company</td>\n      <td>Notes:</td>\n      <td>6.3</td>\n      <td>3.58</td>\n      <td>25</td>\n      <td>50</td>\n      <td>...</td>\n      <td>53</td>\n      <td>16</td>\n      <td>69</td>\n      <td>67</td>\n      <td>29</td>\n      <td>0</td>\n      <td>23</td>\n      <td>87</td>\n      <td>18</td>\n      <td>103</td>\n    </tr>\n    <tr>\n      <th>29</th>\n      <td>Hoppeditz</td>\n      <td>280</td>\n      <td>Altbier</td>\n      <td>8</td>\n      <td>Freigeist Bierkultur</td>\n      <td>Notes:</td>\n      <td>7.5</td>\n      <td>3.91</td>\n      <td>25</td>\n      <td>50</td>\n      <td>...</td>\n      <td>55</td>\n      <td>23</td>\n      <td>72</td>\n      <td>92</td>\n      <td>21</td>\n      <td>0</td>\n      <td>52</td>\n      <td>75</td>\n      <td>47</td>\n      <td>129</td>\n    </tr>\n  </tbody>\n</table>\n<p>30 rows × 21 columns</p>\n</div>"
     },
     "execution_count": 8,
     "metadata": {},
     "output_type": "execute_result"
    }
   ],
   "source": [
    "df.head(30)"
   ],
   "metadata": {
    "collapsed": false,
    "ExecuteTime": {
     "start_time": "2023-07-31T05:34:27.923181900Z"
    }
   },
   "id": "5d2fc8739fb4a2"
  },
  {
   "cell_type": "markdown",
   "source": [
    "Temos ABV como o teor alcoolico em porcentagem\n",
    "\n",
    "AVE é a nota média de uma cerveja"
   ],
   "metadata": {
    "collapsed": false
   },
   "id": "f2dfaa5343158483"
  },
  {
   "cell_type": "markdown",
   "source": [
    "IBU: Na tradução literal seria algo como Unidade Internacional de Amargor, uma escala através da qual pode-se ter uma ideia do quão amarga é a bebida.\n",
    "As unidades de amargor são medidas em uma escala que vai de 1 a 100 IBUs.\n",
    "É por isso que as cervejas costumam ter entre 5 e 100 IBUs, sendo 5 um amargor bem baixo e 100 um amargor bem alto.\n",
    "\n",
    "Nos nossos dados, o ibu parece padrão e sem um bom valor estabelecido"
   ],
   "metadata": {
    "collapsed": false
   },
   "id": "a29ef1c97c2afbf3"
  },
  {
   "cell_type": "markdown",
   "source": [
    "Astringency: Seria a sensação de \"secura\" associada a cerveja onde nos parece ser uma medida subjetiva e sem muito significado"
   ],
   "metadata": {
    "collapsed": false
   },
   "id": "d3da19f75093162e"
  },
  {
   "cell_type": "markdown",
   "source": [
    "Em body temos uma classificação támbem subjetiva a respeito do \"corpo\" da cerveja. Isto é, sensação de peso, textura ou viscosidade\n",
    "\n",
    "Leve: Cervejas com corpo leve tendem a ter uma sensação líquida e refrescante na boca, com baixa viscosidade.\n",
    "\n",
    "Médio: Cervejas com corpo médio têm uma sensação mais equilibrada na boca, proporcionando uma sensação mais arredondada e um pouco mais de peso.\n",
    "\n",
    "Encorpado: Cervejas com corpo encorpado têm uma sensação mais pesada, viscosa e densa na boca.\n"
   ],
   "metadata": {
    "collapsed": false
   },
   "id": "91c959564519c1d9"
  },
  {
   "cell_type": "markdown",
   "source": [
    "Alcohol é uma feedback subjetivo sobre a sensação alcolica de uma cerveja."
   ],
   "metadata": {
    "collapsed": false
   },
   "id": "4eee0ff1f55e73e1"
  },
  {
   "cell_type": "markdown",
   "source": [
    "Bitter é uma classificação subjetiva a cerca da sensação de amargor de uma cerveja"
   ],
   "metadata": {
    "collapsed": false
   },
   "id": "4e41bb3f8aaf9946"
  },
  {
   "cell_type": "markdown",
   "source": [
    "Sweet: descrição subjetiva da doçura de uma cerveja"
   ],
   "metadata": {
    "collapsed": false
   },
   "id": "5683cd74f99f51a3"
  },
  {
   "cell_type": "markdown",
   "source": [
    "Sour descrição subjetiva \"azedo\" ou \"ácido\""
   ],
   "metadata": {
    "collapsed": false
   },
   "id": "54bb94d671694848"
  },
  {
   "cell_type": "markdown",
   "source": [
    "Salty: descreve subjetivamente o salgado, termo não é comumente associado às bebidas em si, pois o sabor salgado é geralmente mais associado a alimentos do que a bebidas. No entanto, em algumas culturas ou contextos, podem existir coquetéis ou bebidas que incorporam um toque sutil de sal, embora isso não seja tão comum."
   ],
   "metadata": {
    "collapsed": false
   },
   "id": "30233178c12a2f71"
  },
  {
   "cell_type": "markdown",
   "source": [
    "Fruits: Algumas cervejas são produzidas com a adição de frutas durante a fermentação, o que pode resultar em uma ampla variedade de sabores frutados. Essa coluna mede essa frutificação de maneira subjetiva"
   ],
   "metadata": {
    "collapsed": false
   },
   "id": "32c2b5f4b553911d"
  },
  {
   "cell_type": "markdown",
   "source": [
    "Hoppy: Quando uma cerveja é descrita como \"hoppy\", isso geralmente significa que ela possui uma quantidade significativa de lúpulo em sua composição, o que pode resultar em várias características sensoriais:\n",
    "\n",
    "Amargor: O lúpulo é responsável por adicionar o amargor à cerveja, equilibrando o sabor do malte e fornecendo uma sensação de amargor na língua.\n",
    "\n",
    "Aroma floral e frutado: Diferentes variedades de lúpulo podem contribuir com aromas e sabores frutados, cítricos, florais, herbais e até mesmo resinosos à cerveja, criando uma grande diversidade de perfis aromáticos.\n",
    "\n",
    "Sabor de lúpulo: Cervejas hoppy podem ter um sabor distintamente \"verde\" ou \"resinoso\" de lúpulo, especialmente em cervejas mais intensamente lupuladas, como as India Pale Ales (IPAs) e Double IPAs (DIPAs).\n",
    "\n",
    "ps: testar correlação (para dados discretos) para verificar se esse campo entrega o mesmo resultado que o Bitter e ibu"
   ],
   "metadata": {
    "collapsed": false
   },
   "id": "f9dc5b98079dbff1"
  },
  {
   "cell_type": "markdown",
   "source": [
    "Spicy: Algumas bebidas alcoólicas podem ser descritas como \"spicy\" devido à presença de especiarias, como canela, cravo, pimenta-da-jamaica, gengibre, cardamomo, entre outras. Essas especiarias podem ser adicionadas diretamente à bebida ou como parte de licores ou xaropes utilizados nos coquetéis."
   ],
   "metadata": {
    "collapsed": false
   },
   "id": "79d7b101e4c683a8"
  },
  {
   "cell_type": "markdown",
   "source": [
    "Malty: Quando uma cerveja é descrita como \"malty\", isso geralmente significa que ela possui uma quantidade significativa de malte em sua composição, o que pode resultar em várias características sensoriais:\n",
    "\n",
    "Sabor doce: O malte contém açúcares que são fermentados pelas leveduras durante o processo de fabricação de cerveja. Isso pode resultar em cervejas com um sabor doce proveniente desses açúcares não fermentados.\n",
    "\n",
    "Aroma de pão, biscoito ou caramelo: Diferentes tipos de maltes podem conferir aromas distintos à cerveja, como notas de pão, biscoito ou caramelo, criando uma variedade de perfis de aroma maltado.\n",
    "\n",
    "Cor mais escura: Cervejas malty podem ter uma cor mais escura, que varia de dourado a âmbar, marrom ou mesmo preto, dependendo dos tipos e quantidades de maltes utilizados.\n",
    "\n",
    "Sabor maltado equilibrado: Uma cerveja malty bem elaborada deve equilibrar o sabor do malte com outros sabores presentes, como o amargor do lúpulo, o álcool e outros sabores derivados do processo de fermentação."
   ],
   "metadata": {
    "collapsed": false
   },
   "id": "26b22fa8be76c258"
  },
  {
   "cell_type": "code",
   "execution_count": 7,
   "outputs": [
    {
     "data": {
      "text/plain": "Name           5317\nkey            5558\nStyle           112\nStyle Key       112\nBrewery        1498\nDescription    3347\nABV             229\nAve Rating      289\nMin IBU          21\nMax IBU          25\nAstringency      73\nBody            165\nAlcohol         116\nBitter          141\nSweet           191\nSour            222\nSalty            47\nFruits          185\nHoppy           156\nSpices          155\nMalty           217\ndtype: int64"
     },
     "execution_count": 7,
     "metadata": {},
     "output_type": "execute_result"
    }
   ],
   "source": [
    "df.nunique()"
   ],
   "metadata": {
    "collapsed": false,
    "ExecuteTime": {
     "end_time": "2023-07-31T05:27:05.591956700Z",
     "start_time": "2023-07-31T05:27:05.554710100Z"
    }
   },
   "id": "ab130694f4beda1a"
  },
  {
   "cell_type": "code",
   "execution_count": 10,
   "outputs": [],
   "source": [
    "df['median ibu'] = (df['Min IBU']+df['Max IBU'])/2"
   ],
   "metadata": {
    "collapsed": false,
    "ExecuteTime": {
     "end_time": "2023-07-31T05:44:57.401431Z",
     "start_time": "2023-07-31T05:44:57.364839700Z"
    }
   },
   "id": "471b5d08667c865a"
  },
  {
   "cell_type": "code",
   "execution_count": null,
   "outputs": [],
   "source": [],
   "metadata": {
    "collapsed": false
   },
   "id": "93e154a5eb01cd01"
  }
 ],
 "metadata": {
  "kernelspec": {
   "display_name": "Python 3",
   "language": "python",
   "name": "python3"
  },
  "language_info": {
   "codemirror_mode": {
    "name": "ipython",
    "version": 2
   },
   "file_extension": ".py",
   "mimetype": "text/x-python",
   "name": "python",
   "nbconvert_exporter": "python",
   "pygments_lexer": "ipython2",
   "version": "2.7.6"
  }
 },
 "nbformat": 4,
 "nbformat_minor": 5
}
